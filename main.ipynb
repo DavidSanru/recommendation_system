{
 "cells": [
  {
   "cell_type": "markdown",
   "id": "363f69fd",
   "metadata": {},
   "source": [
    "# 1. Cargar datos"
   ]
  },
  {
   "cell_type": "markdown",
   "id": "e4b80850",
   "metadata": {},
   "source": [
    "#### Cargamos las librerías que usaremos"
   ]
  },
  {
   "cell_type": "code",
   "execution_count": null,
   "id": "3c18f88e",
   "metadata": {},
   "outputs": [],
   "source": [
    "import pandas as pd\n",
    "import numpy as np\n",
    "import matplotlib.pyplot as plt\n",
    "import seaborn as sns\n",
    "from datetime import datetime"
   ]
  },
  {
   "cell_type": "markdown",
   "id": "b30086ed",
   "metadata": {},
   "source": [
    "#### Cargamos el dataset"
   ]
  },
  {
   "cell_type": "code",
   "execution_count": 19,
   "id": "86f6b313",
   "metadata": {},
   "outputs": [
    {
     "data": {
      "text/html": [
       "<div>\n",
       "<style scoped>\n",
       "    .dataframe tbody tr th:only-of-type {\n",
       "        vertical-align: middle;\n",
       "    }\n",
       "\n",
       "    .dataframe tbody tr th {\n",
       "        vertical-align: top;\n",
       "    }\n",
       "\n",
       "    .dataframe thead th {\n",
       "        text-align: right;\n",
       "    }\n",
       "</style>\n",
       "<table border=\"1\" class=\"dataframe\">\n",
       "  <thead>\n",
       "    <tr style=\"text-align: right;\">\n",
       "      <th></th>\n",
       "      <th>item_id</th>\n",
       "      <th>user_id</th>\n",
       "      <th>rating</th>\n",
       "      <th>date</th>\n",
       "    </tr>\n",
       "  </thead>\n",
       "  <tbody>\n",
       "    <tr>\n",
       "      <th>27648</th>\n",
       "      <td>B00002STEZ</td>\n",
       "      <td>A2WOQCPOHQCTL4</td>\n",
       "      <td>5.0</td>\n",
       "      <td>2016-05-24</td>\n",
       "    </tr>\n",
       "    <tr>\n",
       "      <th>445084</th>\n",
       "      <td>B000WMEEC6</td>\n",
       "      <td>A3FMXBVBKG0EKM</td>\n",
       "      <td>1.0</td>\n",
       "      <td>2013-07-01</td>\n",
       "    </tr>\n",
       "    <tr>\n",
       "      <th>336635</th>\n",
       "      <td>B000I10PY2</td>\n",
       "      <td>A28WTAYAVGQO02</td>\n",
       "      <td>5.0</td>\n",
       "      <td>2015-05-20</td>\n",
       "    </tr>\n",
       "    <tr>\n",
       "      <th>431604</th>\n",
       "      <td>B000UW21A0</td>\n",
       "      <td>A1JQR8F55MKN23</td>\n",
       "      <td>4.0</td>\n",
       "      <td>2011-08-31</td>\n",
       "    </tr>\n",
       "    <tr>\n",
       "      <th>405831</th>\n",
       "      <td>B000RWWWJ8</td>\n",
       "      <td>A3RPV1XFABCZ0L</td>\n",
       "      <td>3.0</td>\n",
       "      <td>2013-05-21</td>\n",
       "    </tr>\n",
       "  </tbody>\n",
       "</table>\n",
       "</div>"
      ],
      "text/plain": [
       "           item_id         user_id  rating       date\n",
       "27648   B00002STEZ  A2WOQCPOHQCTL4     5.0 2016-05-24\n",
       "445084  B000WMEEC6  A3FMXBVBKG0EKM     1.0 2013-07-01\n",
       "336635  B000I10PY2  A28WTAYAVGQO02     5.0 2015-05-20\n",
       "431604  B000UW21A0  A1JQR8F55MKN23     4.0 2011-08-31\n",
       "405831  B000RWWWJ8  A3RPV1XFABCZ0L     3.0 2013-05-21"
      ]
     },
     "execution_count": 19,
     "metadata": {},
     "output_type": "execute_result"
    }
   ],
   "source": [
    "column_names = ['item_id', 'user_id', 'rating', 'timestamp']\n",
    "\n",
    "file_path = \"./Video_Games.csv\"\n",
    "df = pd.read_csv(file_path, names=column_names, nrows=500000)\n",
    "df['timestamp'] = pd.to_datetime(df['timestamp'], unit='s')\n",
    "df.rename(columns={'timestamp': 'date'}, inplace=True)\n",
    "\n",
    "df.sample(5)"
   ]
  },
  {
   "cell_type": "code",
   "execution_count": 20,
   "id": "f51f0bad",
   "metadata": {},
   "outputs": [
    {
     "data": {
      "text/plain": [
       "(500000, 4)"
      ]
     },
     "execution_count": 20,
     "metadata": {},
     "output_type": "execute_result"
    }
   ],
   "source": [
    "df.shape"
   ]
  },
  {
   "cell_type": "markdown",
   "id": "c91603b3",
   "metadata": {},
   "source": [
    "#### Dividimos en train y test por fecha"
   ]
  },
  {
   "cell_type": "code",
   "execution_count": 21,
   "id": "da1db323",
   "metadata": {},
   "outputs": [],
   "source": [
    "def temporal_split(data, test_ratio=0.2):\n",
    "    data = data.sort_values('date')\n",
    "    split = int(len(data) * (1 - test_ratio))\n",
    "    train = data.iloc[:split]\n",
    "    test = data.iloc[split:]\n",
    "    return train, test\n",
    "\n",
    "x_train, x_test = temporal_split(df)"
   ]
  },
  {
   "cell_type": "markdown",
   "id": "24e46544",
   "metadata": {},
   "source": [
    "#### NUM_USERS, NUM_ITEMS, MIN_RATING, MAX_RATING"
   ]
  },
  {
   "cell_type": "markdown",
   "id": "8c2cf8da",
   "metadata": {},
   "source": [
    "# 2. KNN"
   ]
  },
  {
   "cell_type": "markdown",
   "id": "4b43023b",
   "metadata": {},
   "source": [
    "#### Media"
   ]
  },
  {
   "cell_type": "code",
   "execution_count": null,
   "id": "97d25d97",
   "metadata": {},
   "outputs": [],
   "source": [
    "def rating_average (u):\n",
    "  acc = 0\n",
    "  count = 0\n",
    "\n",
    "  for i in range(NUM_ITEMS):\n",
    "    if ratings[u][i] != None:\n",
    "      acc += ratings[u][i]\n",
    "      count += 1\n",
    "\n",
    "  avg = acc / count\n",
    "\n",
    "  return avg"
   ]
  }
 ],
 "metadata": {
  "kernelspec": {
   "display_name": "Python 3",
   "language": "python",
   "name": "python3"
  },
  "language_info": {
   "codemirror_mode": {
    "name": "ipython",
    "version": 3
   },
   "file_extension": ".py",
   "mimetype": "text/x-python",
   "name": "python",
   "nbconvert_exporter": "python",
   "pygments_lexer": "ipython3",
   "version": "3.12.10"
  }
 },
 "nbformat": 4,
 "nbformat_minor": 5
}
