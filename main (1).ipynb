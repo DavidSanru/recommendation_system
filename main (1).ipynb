{
 "cells": [
  {
   "cell_type": "markdown",
   "id": "363f69fd",
   "metadata": {},
   "source": [
    "# 1. Cargar datos"
   ]
  },
  {
   "cell_type": "markdown",
   "id": "e4b80850",
   "metadata": {},
   "source": [
    "#### Cargamos las librerías que usaremos"
   ]
  },
  {
   "cell_type": "code",
   "execution_count": 72,
   "id": "3c18f88e",
   "metadata": {},
   "outputs": [],
   "source": [
    "import pandas as pd\n",
    "import numpy as np\n",
    "import matplotlib.pyplot as plt\n",
    "import seaborn as sns\n",
    "from datetime import datetime\n",
    "import math"
   ]
  },
  {
   "cell_type": "markdown",
   "id": "b30086ed",
   "metadata": {},
   "source": [
    "#### Cargamos el dataset"
   ]
  },
  {
   "cell_type": "code",
   "execution_count": 73,
   "id": "86f6b313",
   "metadata": {},
   "outputs": [
    {
     "data": {
      "text/html": [
       "<div>\n",
       "<style scoped>\n",
       "    .dataframe tbody tr th:only-of-type {\n",
       "        vertical-align: middle;\n",
       "    }\n",
       "\n",
       "    .dataframe tbody tr th {\n",
       "        vertical-align: top;\n",
       "    }\n",
       "\n",
       "    .dataframe thead th {\n",
       "        text-align: right;\n",
       "    }\n",
       "</style>\n",
       "<table border=\"1\" class=\"dataframe\">\n",
       "  <thead>\n",
       "    <tr style=\"text-align: right;\">\n",
       "      <th></th>\n",
       "      <th>item_id</th>\n",
       "      <th>user_id</th>\n",
       "      <th>rating</th>\n",
       "      <th>date</th>\n",
       "    </tr>\n",
       "  </thead>\n",
       "  <tbody>\n",
       "    <tr>\n",
       "      <th>0</th>\n",
       "      <td>0439381673</td>\n",
       "      <td>A21ROB4YDOZA5P</td>\n",
       "      <td>1.0</td>\n",
       "      <td>2014-06-09</td>\n",
       "    </tr>\n",
       "    <tr>\n",
       "      <th>1</th>\n",
       "      <td>0439381673</td>\n",
       "      <td>A3TNZ2Q5E7HTHD</td>\n",
       "      <td>3.0</td>\n",
       "      <td>2014-05-10</td>\n",
       "    </tr>\n",
       "    <tr>\n",
       "      <th>2</th>\n",
       "      <td>0439381673</td>\n",
       "      <td>A1OKRM3QFEATQO</td>\n",
       "      <td>4.0</td>\n",
       "      <td>2014-02-07</td>\n",
       "    </tr>\n",
       "    <tr>\n",
       "      <th>3</th>\n",
       "      <td>0439381673</td>\n",
       "      <td>A2XO1JFCNEYV3T</td>\n",
       "      <td>1.0</td>\n",
       "      <td>2014-02-07</td>\n",
       "    </tr>\n",
       "    <tr>\n",
       "      <th>4</th>\n",
       "      <td>0439381673</td>\n",
       "      <td>A19WLPIRHD15TH</td>\n",
       "      <td>4.0</td>\n",
       "      <td>2014-01-16</td>\n",
       "    </tr>\n",
       "  </tbody>\n",
       "</table>\n",
       "</div>"
      ],
      "text/plain": [
       "      item_id         user_id  rating       date\n",
       "0  0439381673  A21ROB4YDOZA5P     1.0 2014-06-09\n",
       "1  0439381673  A3TNZ2Q5E7HTHD     3.0 2014-05-10\n",
       "2  0439381673  A1OKRM3QFEATQO     4.0 2014-02-07\n",
       "3  0439381673  A2XO1JFCNEYV3T     1.0 2014-02-07\n",
       "4  0439381673  A19WLPIRHD15TH     4.0 2014-01-16"
      ]
     },
     "execution_count": 73,
     "metadata": {},
     "output_type": "execute_result"
    }
   ],
   "source": [
    "column_names = ['item_id', 'user_id', 'rating', 'timestamp']\n",
    "\n",
    "file_path = \"./Video_Games.csv\"\n",
    "df = pd.read_csv(file_path, names=column_names, nrows=500000)\n",
    "df['timestamp'] = pd.to_datetime(df['timestamp'], unit='s')\n",
    "df.rename(columns={'timestamp': 'date'}, inplace=True)\n",
    "\n",
    "df.head()"
   ]
  },
  {
   "cell_type": "code",
   "execution_count": 74,
   "id": "f51f0bad",
   "metadata": {},
   "outputs": [
    {
     "data": {
      "text/plain": [
       "(500000, 4)"
      ]
     },
     "execution_count": 74,
     "metadata": {},
     "output_type": "execute_result"
    }
   ],
   "source": [
    "df.shape"
   ]
  },
  {
   "cell_type": "markdown",
   "id": "c91603b3",
   "metadata": {},
   "source": [
    "#### Dividimos en train y test por fecha"
   ]
  },
  {
   "cell_type": "code",
   "execution_count": 75,
   "id": "da1db323",
   "metadata": {},
   "outputs": [],
   "source": [
    "def temporal_split(data, test_ratio=0.2):\n",
    "    data = data.sort_values('date')\n",
    "    split = int(len(data) * (1 - test_ratio))\n",
    "    train = data.iloc[:split]\n",
    "    test = data.iloc[split:]\n",
    "    return train, test\n"
   ]
  },
  {
   "cell_type": "code",
   "execution_count": 100,
   "id": "73666380",
   "metadata": {},
   "outputs": [],
   "source": [
    "xd = df.sample(100000)\n",
    "x_train, x_test = temporal_split(xd)"
   ]
  },
  {
   "cell_type": "markdown",
   "id": "24e46544",
   "metadata": {},
   "source": [
    "#### NUM_USERS, NUM_ITEMS, MIN_RATING, MAX_RATING"
   ]
  },
  {
   "cell_type": "markdown",
   "id": "8c2cf8da",
   "metadata": {},
   "source": [
    "# 2. KNN"
   ]
  },
  {
   "cell_type": "markdown",
   "id": "4b43023b",
   "metadata": {},
   "source": [
    "#### Media"
   ]
  },
  {
   "cell_type": "code",
   "execution_count": 101,
   "id": "0f2b1dd8",
   "metadata": {},
   "outputs": [],
   "source": [
    "# 1. Crear índices para usuarios e items\n",
    "user_ids = xd['user_id'].unique()\n",
    "item_ids = xd['item_id'].unique()\n",
    "user2idx = {user: idx for idx, user in enumerate(user_ids)}\n",
    "item2idx = {item: idx for idx, item in enumerate(item_ids)}\n",
    "\n",
    "NUM_USERS = len(user_ids)\n",
    "NUM_ITEMS = len(item_ids)\n",
    "MIN_RATING = xd['rating'].min()\n",
    "MAX_RATING = xd['rating'].max()\n",
    "\n"
   ]
  },
  {
   "cell_type": "code",
   "execution_count": 102,
   "id": "e021cff3",
   "metadata": {},
   "outputs": [],
   "source": [
    "# 2. Crear la matriz de ratings (entrenamiento)\n",
    "ratings = [[None for _ in range(NUM_ITEMS)] for _ in range(NUM_USERS)]\n",
    "for _, row in x_train.iterrows():\n",
    "    u = user2idx[row['user_id']]\n",
    "    i = item2idx[row['item_id']]\n",
    "    ratings[u][i] = row['rating']\n",
    "\n"
   ]
  },
  {
   "cell_type": "code",
   "execution_count": 103,
   "id": "3655dc50",
   "metadata": {},
   "outputs": [],
   "source": [
    "# 3. Crear la matriz de ratings de test\n",
    "test_ratings = [[None for _ in range(NUM_ITEMS)] for _ in range(NUM_USERS)]\n",
    "for _, row in x_test.iterrows():\n",
    "    u = user2idx.get(row['user_id'])\n",
    "    i = item2idx.get(row['item_id'])\n",
    "    if u is not None and i is not None:\n",
    "        test_ratings[u][i] = row['rating']"
   ]
  },
  {
   "cell_type": "code",
   "execution_count": 104,
   "id": "97d25d97",
   "metadata": {},
   "outputs": [],
   "source": [
    "def rating_average(u):\n",
    "    acc = 0\n",
    "    count = 0\n",
    "    for i in range(NUM_ITEMS):\n",
    "        if ratings[u][i] is not None:\n",
    "            acc += ratings[u][i]\n",
    "            count += 1\n",
    "    if count == 0:\n",
    "        return None\n",
    "    return acc / count"
   ]
  },
  {
   "cell_type": "markdown",
   "id": "3b0af38f",
   "metadata": {},
   "source": [
    "### Cálculo de la similaridad"
   ]
  },
  {
   "cell_type": "code",
   "execution_count": 109,
   "id": "77685809",
   "metadata": {},
   "outputs": [],
   "source": [
    "def correlation_similarity (u, v):\n",
    "  num = 0\n",
    "\n",
    "  den_u = 0\n",
    "  den_v = 0\n",
    "\n",
    "  count = 0\n",
    "\n",
    "  avg_u = rating_average(u)\n",
    "  avg_v = rating_average(v)\n",
    "\n",
    "  for i in range(NUM_ITEMS):\n",
    "    if ratings[u][i] != None and ratings[v][i] != None:\n",
    "      r_u = ratings[u][i]\n",
    "      r_v = ratings[v][i]\n",
    "\n",
    "      num += (r_u - avg_u) * (r_v - avg_v)\n",
    "      den_u += (r_u - avg_u) * (r_u - avg_u)\n",
    "      den_v += (r_v - avg_v) * (r_v - avg_v)\n",
    "\n",
    "      count += 1\n",
    "\n",
    "  if count > 0 and den_u != 0 and den_v != 0:\n",
    "    cor = num / math.sqrt( den_u * den_v )\n",
    "    return cor\n",
    "  else:\n",
    "    return None"
   ]
  },
  {
   "cell_type": "code",
   "execution_count": 83,
   "id": "222f6f63",
   "metadata": {},
   "outputs": [
    {
     "name": "stdout",
     "output_type": "stream",
     "text": [
      "None\n",
      "None\n"
     ]
    }
   ],
   "source": [
    "# Testing\n",
    "print(correlation_similarity(113,534))\n",
    "print(correlation_similarity(92,355))"
   ]
  },
  {
   "cell_type": "code",
   "execution_count": 111,
   "id": "fc3295b8",
   "metadata": {},
   "outputs": [],
   "source": [
    "def jmsd_similarity (u, v):\n",
    "\n",
    "  union = 0\n",
    "  intersection = 0\n",
    "  diff = 0\n",
    "\n",
    "  for i in range(NUM_ITEMS):\n",
    "    if ratings[u][i] != None and ratings[v][i] != None:\n",
    "      r_u = (ratings[u][i] - MIN_RATING) / (MAX_RATING - MIN_RATING)\n",
    "      r_v = (ratings[v][i] - MIN_RATING) / (MAX_RATING - MIN_RATING)\n",
    "\n",
    "      diff = (r_u - r_v) * (r_u - r_v)\n",
    "\n",
    "      intersection += 1\n",
    "      union += 1\n",
    "\n",
    "    elif ratings[u][i] != None or ratings[v][i] != None:\n",
    "      union += 1\n",
    "\n",
    "\n",
    "  if intersection > 0:\n",
    "    jaccard = intersection / union\n",
    "    msd = diff / intersection\n",
    "    return jaccard * (1 - msd)\n",
    "  else:\n",
    "    return None"
   ]
  },
  {
   "cell_type": "code",
   "execution_count": 85,
   "id": "327d1c5a",
   "metadata": {},
   "outputs": [
    {
     "name": "stdout",
     "output_type": "stream",
     "text": [
      "None\n",
      "None\n",
      "None\n"
     ]
    }
   ],
   "source": [
    "# Testing\n",
    "print(jmsd_similarity(5,940))\n",
    "print(jmsd_similarity(113,534))\n",
    "print(jmsd_similarity(92,355))"
   ]
  },
  {
   "cell_type": "markdown",
   "id": "f8decb57",
   "metadata": {},
   "source": [
    "### Búsqueda de los k vecinos "
   ]
  },
  {
   "cell_type": "code",
   "execution_count": 86,
   "id": "c225ad8a",
   "metadata": {},
   "outputs": [],
   "source": [
    "def get_neighbors (u, similarities, k=25):\n",
    "\n",
    "  neighbors = [None for _ in range(k)]\n",
    "\n",
    "  for n in range(k):\n",
    "\n",
    "    max_similarity = 0\n",
    "    neighbor = None\n",
    "\n",
    "    for v, sim in enumerate(similarities):\n",
    "      if v not in neighbors and sim != None and sim > max_similarity:\n",
    "        max_similarity = sim\n",
    "        neighbor = v\n",
    "\n",
    "    neighbors[n] = neighbor\n",
    "\n",
    "  return neighbors"
   ]
  },
  {
   "cell_type": "code",
   "execution_count": 112,
   "id": "4aec8a35",
   "metadata": {},
   "outputs": [
    {
     "name": "stdout",
     "output_type": "stream",
     "text": [
      "[None, None, None, None, None, None, None, None, None, None, None, None, None, None, None, None, None, None, None, None, None, None, None, None, None]\n",
      "[None, None, None, None, None, None, None, None, None, None, None, None, None, None, None, None, None, None, None, None, None, None, None, None, None]\n"
     ]
    }
   ],
   "source": [
    "# Testing\n",
    "u = 112\n",
    "similarities_corr = [None if u == v else correlation_similarity(u, v) for v in range(NUM_USERS)]\n",
    "similarities_jmsd = [None if u == v else jmsd_similarity(u, v) for v in range(NUM_USERS)]\n",
    "neighbors_corr = get_neighbors(u, similarities_corr)\n",
    "neighbors_jmsd = get_neighbors(u, similarities_jmsd)\n",
    "print(neighbors_corr)\n",
    "print(neighbors_jmsd)"
   ]
  },
  {
   "cell_type": "markdown",
   "id": "60f063db",
   "metadata": {},
   "source": [
    "### Estimación de las predicciones"
   ]
  },
  {
   "cell_type": "code",
   "execution_count": 88,
   "id": "06143cb3",
   "metadata": {},
   "outputs": [],
   "source": [
    "def average_prediction (u, i, neighbors):\n",
    "  acc = 0\n",
    "  count = 0\n",
    "\n",
    "  for n in neighbors:\n",
    "    if n == None: break\n",
    "\n",
    "    if ratings[n][i] != None:\n",
    "      acc += ratings[n][i]\n",
    "      count += 1\n",
    "\n",
    "  if count > 0:\n",
    "    prediction = acc / count\n",
    "    return prediction\n",
    "  else:\n",
    "    return None\n"
   ]
  },
  {
   "cell_type": "code",
   "execution_count": 113,
   "id": "36051d6b",
   "metadata": {},
   "outputs": [
    {
     "name": "stdout",
     "output_type": "stream",
     "text": [
      "None\n",
      "None\n"
     ]
    }
   ],
   "source": [
    "i = 324\n",
    "avgpred_corr = average_prediction (u, i, neighbors_corr)\n",
    "avgpred_jmsd = average_prediction (u, i, neighbors_jmsd)\n",
    "print(avgpred_corr)\n",
    "print(avgpred_jmsd)"
   ]
  },
  {
   "cell_type": "code",
   "execution_count": 114,
   "id": "5b39b3ac",
   "metadata": {},
   "outputs": [],
   "source": [
    "def weighted_average_prediction (u, i, neighbors, similarities):\n",
    "  num = 0\n",
    "  den = 0\n",
    "\n",
    "  for n in neighbors:\n",
    "    if n == None: break\n",
    "\n",
    "    if ratings[n][i] != None:\n",
    "      num += similarities[n] * ratings[n][i]\n",
    "      den += similarities[n]\n",
    "\n",
    "  if den > 0:\n",
    "    prediction = num / den\n",
    "    return prediction\n",
    "  else:\n",
    "    return None"
   ]
  },
  {
   "cell_type": "code",
   "execution_count": 115,
   "id": "1e5b35aa",
   "metadata": {},
   "outputs": [
    {
     "name": "stdout",
     "output_type": "stream",
     "text": [
      "None\n",
      "None\n"
     ]
    }
   ],
   "source": [
    "# Testing\n",
    "wavgpred_corr = weighted_average_prediction (u, i, neighbors_corr, similarities_corr)\n",
    "wavgpred_jmsd = weighted_average_prediction (u, i, neighbors_jmsd, similarities_jmsd)\n",
    "print(wavgpred_corr)\n",
    "print(wavgpred_jmsd)"
   ]
  },
  {
   "cell_type": "code",
   "execution_count": 116,
   "id": "912b0c8d",
   "metadata": {},
   "outputs": [],
   "source": [
    "def deviation_from_mean_prediction (u, i, neighbors):\n",
    "  acc = 0\n",
    "  count = 0\n",
    "\n",
    "  for n in neighbors:\n",
    "    if n == None: break\n",
    "\n",
    "    if ratings[n][i] != None:\n",
    "      avg_n = rating_average(n)\n",
    "      acc += ratings[n][i] - avg_n\n",
    "      count += 1\n",
    "\n",
    "  if count > 0:\n",
    "    avg_u = rating_average(u)\n",
    "    prediction = avg_u + acc / count\n",
    "    return prediction\n",
    "  else:\n",
    "    return None"
   ]
  },
  {
   "cell_type": "code",
   "execution_count": 117,
   "id": "f8050b3e",
   "metadata": {},
   "outputs": [
    {
     "name": "stdout",
     "output_type": "stream",
     "text": [
      "None\n",
      "None\n"
     ]
    }
   ],
   "source": [
    "# Testing\n",
    "dfmpred_corr = deviation_from_mean_prediction (u, i, neighbors_corr)\n",
    "dfmpred_jmsd = deviation_from_mean_prediction (u, i, neighbors_jmsd)\n",
    "print(dfmpred_corr)\n",
    "print(dfmpred_jmsd)"
   ]
  },
  {
   "cell_type": "markdown",
   "id": "80cb04d3",
   "metadata": {},
   "source": [
    "### Cálculo de las recomendaciones"
   ]
  },
  {
   "cell_type": "code",
   "execution_count": null,
   "id": "9e037d28",
   "metadata": {},
   "outputs": [],
   "source": []
  },
  {
   "cell_type": "code",
   "execution_count": null,
   "id": "6480f657",
   "metadata": {},
   "outputs": [],
   "source": []
  },
  {
   "cell_type": "code",
   "execution_count": null,
   "id": "7274fadb",
   "metadata": {},
   "outputs": [],
   "source": []
  },
  {
   "cell_type": "markdown",
   "id": "7e73efd4",
   "metadata": {},
   "source": [
    "### Cálculo del resto de medidas"
   ]
  },
  {
   "cell_type": "code",
   "execution_count": null,
   "id": "632fe137",
   "metadata": {},
   "outputs": [],
   "source": []
  },
  {
   "cell_type": "code",
   "execution_count": null,
   "id": "3983ab3e",
   "metadata": {},
   "outputs": [],
   "source": []
  },
  {
   "cell_type": "code",
   "execution_count": null,
   "id": "b72c6fdc",
   "metadata": {},
   "outputs": [],
   "source": []
  }
 ],
 "metadata": {
  "kernelspec": {
   "display_name": "Python 3",
   "language": "python",
   "name": "python3"
  },
  "language_info": {
   "codemirror_mode": {
    "name": "ipython",
    "version": 3
   },
   "file_extension": ".py",
   "mimetype": "text/x-python",
   "name": "python",
   "nbconvert_exporter": "python",
   "pygments_lexer": "ipython3",
   "version": "3.12.6"
  }
 },
 "nbformat": 4,
 "nbformat_minor": 5
}
