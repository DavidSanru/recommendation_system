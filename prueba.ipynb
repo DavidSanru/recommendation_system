{
 "cells": [
  {
   "cell_type": "markdown",
   "id": "d968e938",
   "metadata": {},
   "source": [
    "#### Carga librerias"
   ]
  },
  {
   "cell_type": "code",
   "execution_count": 2,
   "id": "c2523626",
   "metadata": {},
   "outputs": [],
   "source": [
    "\n",
    "import pandas as pd\n",
    "import numpy as np\n",
    "import matplotlib.pyplot as plt\n",
    "import math\n",
    "from datetime import datetime\n",
    "import scipy.sparse as sp\n",
    "from sklearn.metrics.pairwise import cosine_similarity\n",
    "import random\n",
    "from scipy.stats import pearsonr\n",
    "from collections import Counter\n",
    "import collections"
   ]
  },
  {
   "cell_type": "markdown",
   "id": "1258176d",
   "metadata": {},
   "source": [
    "#### Carga archivo"
   ]
  },
  {
   "cell_type": "code",
   "execution_count": 3,
   "id": "da255bdd",
   "metadata": {},
   "outputs": [
    {
     "name": "stdout",
     "output_type": "stream",
     "text": [
      "Tamaño total del dataset: (2565349, 3)\n"
     ]
    }
   ],
   "source": [
    "df = pd.read_csv(\"./Video_Games.csv\", header=None)\n",
    "\n",
    "df.columns = ['item_id', 'user_id', 'rating', 'timestamp']\n",
    "\n",
    "df = df.drop('timestamp', axis=1)\n",
    "\n",
    "print(f\"Tamaño total del dataset: {df.shape}\")"
   ]
  },
  {
   "cell_type": "code",
   "execution_count": 4,
   "id": "0e0bf6cd",
   "metadata": {},
   "outputs": [
    {
     "name": "stdout",
     "output_type": "stream",
     "text": [
      "Seleccionados 15517 usuarios con al menos 10 ratings cada uno\n",
      "Tamaño del dataset filtrado: (284867, 3)\n",
      "Reducción del dataset: 88.90%\n"
     ]
    }
   ],
   "source": [
    "top_n_users = 100000 # Maximo de usuarios con los que queremos trabajar\n",
    "min_ratings = 10   # Usuarios con al menos este número de ratings\n",
    "user_counts = df['user_id'].value_counts()\n",
    "\n",
    "dense_users = user_counts[user_counts >= min_ratings].index.tolist()\n",
    "\n",
    "if len(dense_users) > top_n_users:\n",
    "    dense_users = dense_users[:top_n_users]\n",
    "\n",
    "print(f\"Seleccionados {len(dense_users)} usuarios con al menos {min_ratings} ratings cada uno\")\n",
    "\n",
    "df_dense = df[df['user_id'].isin(dense_users)]\n",
    "\n",
    "print(f\"Tamaño del dataset filtrado: {df_dense.shape}\")\n",
    "print(f\"Reducción del dataset: {100 * (1 - len(df_dense) / len(df)):.2f}%\")"
   ]
  },
  {
   "cell_type": "code",
   "execution_count": 5,
   "id": "28f8519e",
   "metadata": {},
   "outputs": [
    {
     "name": "stdout",
     "output_type": "stream",
     "text": [
      "Tamaño del conjunto de entrenamiento: (227893, 3)\n",
      "Tamaño del conjunto de prueba: (53735, 3)\n",
      "Usuarios comunes en train y test: 14541/15517\n",
      "Items comunes en train y test: 15474/34132\n"
     ]
    }
   ],
   "source": [
    "def random_split(data, test_ratio=0.2, random_state=42):\n",
    "    data_shuffled = data.sample(frac=1, random_state=random_state)\n",
    "    \n",
    "    split = int(len(data) * (1 - test_ratio))\n",
    "    \n",
    "    train = data_shuffled.iloc[:split]\n",
    "    test = data_shuffled.iloc[split:]\n",
    "    \n",
    "    train_users = set(train['user_id'].unique())\n",
    "    train_items = set(train['item_id'].unique())\n",
    "    test = test[test['user_id'].isin(train_users) & test['item_id'].isin(train_items)]\n",
    "    \n",
    "    return train, test\n",
    "\n",
    "train_data, test_data = random_split(df_dense)\n",
    "print(f\"Tamaño del conjunto de entrenamiento: {train_data.shape}\")\n",
    "print(f\"Tamaño del conjunto de prueba: {test_data.shape}\")\n",
    "\n",
    "train_users = set(train_data['user_id'].unique())\n",
    "train_items = set(train_data['item_id'].unique())\n",
    "common_users = len(train_users.intersection(set(test_data['user_id'].unique())))\n",
    "common_items = len(train_items.intersection(set(test_data['item_id'].unique())))\n",
    "\n",
    "print(f\"Usuarios comunes en train y test: {common_users}/{len(train_users)}\")\n",
    "print(f\"Items comunes en train y test: {common_items}/{len(train_items)}\")"
   ]
  },
  {
   "cell_type": "markdown",
   "id": "91eb2080",
   "metadata": {},
   "source": [
    "#### Creación de matrices"
   ]
  },
  {
   "cell_type": "markdown",
   "id": "b804c164",
   "metadata": {},
   "source": [
    "Mapeos para los datos de entrenamiento"
   ]
  },
  {
   "cell_type": "code",
   "execution_count": 6,
   "id": "74615fb8",
   "metadata": {},
   "outputs": [
    {
     "name": "stdout",
     "output_type": "stream",
     "text": [
      "Usuarios: 15517, Items: 34132\n"
     ]
    }
   ],
   "source": [
    "train_users_list = train_data['user_id'].unique()\n",
    "train_items_list = train_data['item_id'].unique()\n",
    "\n",
    "user2idx = {user_id: idx for idx, user_id in enumerate(train_users_list)}\n",
    "item2idx = {item_id: idx for idx, item_id in enumerate(train_items_list)}\n",
    "\n",
    "idx2user = {idx: user for user, idx in user2idx.items()}\n",
    "idx2item = {idx: item for item, idx in item2idx.items()}\n",
    "\n",
    "NUM_USERS = len(user2idx)\n",
    "NUM_ITEMS = len(item2idx)\n",
    "MIN_RATING = df['rating'].min()\n",
    "MAX_RATING = df['rating'].max()\n",
    "\n",
    "print(f\"Usuarios: {NUM_USERS}, Items: {NUM_ITEMS}\")"
   ]
  },
  {
   "cell_type": "markdown",
   "id": "2bf507f9",
   "metadata": {},
   "source": [
    "Matriz de train sparse"
   ]
  },
  {
   "cell_type": "code",
   "execution_count": 7,
   "id": "aaa0026b",
   "metadata": {},
   "outputs": [],
   "source": [
    "# Inicializar matriz vacía\n",
    "train_matrix = sp.lil_matrix((NUM_USERS, NUM_ITEMS))\n",
    "\n",
    "# Llenar con valores sin acumular\n",
    "for _, row in train_data.iterrows():\n",
    "    if row['user_id'] in user2idx and row['item_id'] in item2idx:\n",
    "        u_idx = user2idx[row['user_id']]\n",
    "        i_idx = item2idx[row['item_id']]\n",
    "        # Asignar directamente, sin acumular\n",
    "        train_matrix[u_idx, i_idx] = row['rating']\n",
    "\n",
    "# Convertir a CSR para operaciones eficientes\n",
    "train_matrix = train_matrix.tocsr()"
   ]
  },
  {
   "cell_type": "markdown",
   "id": "ec34660c",
   "metadata": {},
   "source": [
    "Matriz de test sparse"
   ]
  },
  {
   "cell_type": "code",
   "execution_count": 8,
   "id": "5ad8d3fa",
   "metadata": {},
   "outputs": [],
   "source": [
    "test_matrix = sp.lil_matrix((NUM_USERS, NUM_ITEMS))\n",
    "\n",
    "# Llenar con valores sin acumular\n",
    "for _, row in test_data.iterrows():\n",
    "    if row['user_id'] in user2idx and row['item_id'] in item2idx:\n",
    "        u_idx = user2idx[row['user_id']]\n",
    "        i_idx = item2idx[row['item_id']]\n",
    "        # Asignar directamente, sin acumular\n",
    "        test_matrix[u_idx, i_idx] = row['rating']\n",
    "\n",
    "# Convertir a CSR para operaciones eficientes\n",
    "test_matrix = test_matrix.tocsr()"
   ]
  },
  {
   "cell_type": "markdown",
   "id": "ab804aec",
   "metadata": {},
   "source": [
    "Medidas"
   ]
  },
  {
   "cell_type": "code",
   "execution_count": 9,
   "id": "67b3ff2d",
   "metadata": {},
   "outputs": [
    {
     "name": "stdout",
     "output_type": "stream",
     "text": [
      "Forma de la matriz de train: (15517, 34132)\n",
      "Densidad de la matriz de train: 0.000416\n",
      "Forma de la matriz de test: (15517, 34132)\n",
      "Densidad de la matriz de test: 0.000101\n"
     ]
    }
   ],
   "source": [
    "print(f\"Forma de la matriz de train: {train_matrix.shape}\")\n",
    "print(f\"Densidad de la matriz de train: {train_matrix.nnz / (NUM_USERS * NUM_ITEMS):.6f}\")\n",
    "print(f\"Forma de la matriz de test: {test_matrix.shape}\")\n",
    "print(f\"Densidad de la matriz de test: {test_matrix.nnz / (NUM_USERS * NUM_ITEMS):.6f}\")"
   ]
  },
  {
   "cell_type": "markdown",
   "id": "db615b04",
   "metadata": {},
   "source": [
    "#### Cáclulo de similaridad"
   ]
  },
  {
   "cell_type": "markdown",
   "id": "4b4da7e8",
   "metadata": {},
   "source": [
    "correlation similarity"
   ]
  },
  {
   "cell_type": "code",
   "execution_count": 10,
   "id": "4abedc1b",
   "metadata": {},
   "outputs": [],
   "source": [
    "def correlation_similarity(u, v):\n",
    "    if u == v:\n",
    "        return sp.identity(NUM_USERS, format='csr')\n",
    "        \n",
    "    u_items = set(train_matrix[u].indices)\n",
    "    v_items = set(train_matrix[v].indices)\n",
    "    common_items = u_items.intersection(v_items)\n",
    "    \n",
    "    if len(common_items) < 2:\n",
    "        return sp.csr_matrix((1, NUM_USERS))\n",
    "    \n",
    "    u_ratings = [train_matrix[u, i] for i in common_items]\n",
    "    v_ratings = [train_matrix[v, i] for i in common_items]\n",
    "    \n",
    "    avg_u = np.mean(u_ratings) if len(u_ratings) > 0 else 0\n",
    "    avg_v = np.mean(v_ratings) if len(v_ratings) > 0 else 0\n",
    "    \n",
    "    num = 0\n",
    "    den_u = 0\n",
    "    den_v = 0\n",
    "\n",
    "    for i in common_items:\n",
    "        r_u = float(train_matrix[u, i])\n",
    "        r_v = float(train_matrix[v, i])\n",
    "        \n",
    "        num += (r_u - avg_u) * (r_v - avg_v)\n",
    "        den_u += (r_u - avg_u) ** 2\n",
    "        den_v += (r_v - avg_v) ** 2\n",
    "    \n",
    "    if num == 0 or den_u == 0 or den_v == 0:\n",
    "        return sp.csr_matrix((1, NUM_USERS))\n",
    "        \n",
    "    sim = num / (np.sqrt(den_u) * np.sqrt(den_v))\n",
    "    \n",
    "    return sp.csr_matrix(([sim], ([0], [v])), shape=(1, NUM_USERS))"
   ]
  },
  {
   "cell_type": "markdown",
   "id": "3eaf7fa9",
   "metadata": {},
   "source": [
    "jmsd similarity"
   ]
  },
  {
   "cell_type": "code",
   "execution_count": 11,
   "id": "da4ee827",
   "metadata": {},
   "outputs": [],
   "source": [
    "def jmsd_similarity(u, v):\n",
    "    if u == v:\n",
    "        return sp.identity(NUM_USERS, format='csr')\n",
    "    \n",
    "    u_items = set(train_matrix[u].indices)\n",
    "    v_items = set(train_matrix[v].indices)\n",
    "    common_items = u_items.intersection(v_items)\n",
    "    all_items = u_items.union(v_items)\n",
    "    \n",
    "    intersection = len(common_items)\n",
    "    union = len(all_items)\n",
    "    \n",
    "    if intersection == 0:\n",
    "        return sp.csr_matrix((1, NUM_USERS))\n",
    "    \n",
    "    rating_range = MAX_RATING - MIN_RATING\n",
    "    \n",
    "    diff_sum = 0\n",
    "    for i in common_items:\n",
    "        # Normalizamos las calificaciones\n",
    "        r_u = (float(train_matrix[u, i]) - MIN_RATING) / rating_range\n",
    "        r_v = (float(train_matrix[v, i]) - MIN_RATING) / rating_range\n",
    "        \n",
    "        diff_sum += (r_u - r_v) ** 2\n",
    "    \n",
    "    msd = diff_sum / intersection\n",
    "    jaccard = intersection / union\n",
    "    \n",
    "    sim = jaccard * (1 - msd)\n",
    "    \n",
    "    return sp.csr_matrix(([sim], ([0], [v])), shape=(1, NUM_USERS))"
   ]
  },
  {
   "cell_type": "markdown",
   "id": "83f47d60",
   "metadata": {},
   "source": [
    "Hacemos un pequeño test para comprobar que funciona.  \n",
    "En la mayoria de casos da 0.0, aunque de vez en cuando encuentra usuarios con algo de similaridad.  \n",
    "Esto ocurre porque nuestro dataset es bastante disperso"
   ]
  },
  {
   "cell_type": "code",
   "execution_count": 12,
   "id": "1c731389",
   "metadata": {},
   "outputs": [
    {
     "name": "stdout",
     "output_type": "stream",
     "text": [
      "Similitud entre usuario A34FNHVP8TJNWD y A1Y043ABRDVQC0: Correlación = 0.000000, JMSD = 0.000000\n"
     ]
    }
   ],
   "source": [
    "u, v = random.randint(0, NUM_USERS-1), random.randint(0, NUM_USERS-1)\n",
    "corr_sim = correlation_similarity(u, v)[0, v] if u != v else 1.0\n",
    "jmsd_sim = jmsd_similarity(u, v)[0, v] if u != v else 1.0\n",
    "print(f\"Similitud entre usuario {idx2user[u]} y {idx2user[v]}: Correlación = {corr_sim:.6f}, JMSD = {jmsd_sim:.6f}\")"
   ]
  },
  {
   "cell_type": "markdown",
   "id": "30c735bc",
   "metadata": {},
   "source": [
    "#### Obtener vecinos"
   ]
  },
  {
   "cell_type": "code",
   "execution_count": 13,
   "id": "6da05d70",
   "metadata": {},
   "outputs": [],
   "source": [
    "def get_neighbors(u, similarities):\n",
    "    k = 25\n",
    "    neighbors = []\n",
    "    \n",
    "    for v, sim in enumerate(similarities):\n",
    "        if v != u and sim is not None:\n",
    "            if sim.nnz > 0:\n",
    "                sim_value = sim[0, v]\n",
    "                neighbors.append((v, sim_value))\n",
    "    \n",
    "    neighbors.sort(key=lambda x: x[1], reverse=True)\n",
    "    return neighbors[:k]"
   ]
  },
  {
   "cell_type": "code",
   "execution_count": 14,
   "id": "8d77f302",
   "metadata": {},
   "outputs": [
    {
     "name": "stdout",
     "output_type": "stream",
     "text": [
      "[(1766, np.float64(0.9999999999999998)), (7517, np.float64(0.9999999999999998)), (2017, np.float64(-0.944911182523068)), (3493, np.float64(-0.9999999999999998)), (4004, np.float64(-0.9999999999999998))]\n",
      "[(15196, np.float64(0.0798611111111111)), (10963, np.float64(0.06481481481481481)), (11574, np.float64(0.057692307692307696)), (15188, np.float64(0.05555555555555555)), (15301, np.float64(0.05555555555555555)), (1766, np.float64(0.052734375)), (2048, np.float64(0.05263157894736842)), (737, np.float64(0.05208333333333333)), (2281, np.float64(0.05208333333333333)), (6378, np.float64(0.05208333333333333)), (9301, np.float64(0.05208333333333333)), (11008, np.float64(0.05208333333333333)), (7498, np.float64(0.05)), (12163, np.float64(0.05)), (146, np.float64(0.049342105263157895)), (12177, np.float64(0.049342105263157895)), (8201, np.float64(0.047619047619047616)), (9121, np.float64(0.046875)), (10224, np.float64(0.046875)), (13670, np.float64(0.046875)), (14290, np.float64(0.045454545454545456)), (877, np.float64(0.04464285714285714)), (12733, np.float64(0.04464285714285714)), (7517, np.float64(0.043055555555555555)), (3593, np.float64(0.04261363636363637))]\n"
     ]
    }
   ],
   "source": [
    "u = 112\n",
    "similarities_corr = [None if u == v else correlation_similarity(u, v) for v in range(NUM_USERS)]\n",
    "similarities_jmsd = [None if u == v else jmsd_similarity(u, v) for v in range(NUM_USERS)]\n",
    "neighbors_corr = get_neighbors(u, similarities_corr)\n",
    "neighbors_jmsd = get_neighbors(u, similarities_jmsd)\n",
    "print(neighbors_corr)\n",
    "print(neighbors_jmsd)"
   ]
  },
  {
   "cell_type": "markdown",
   "id": "67852cb8",
   "metadata": {},
   "source": [
    "#### Estimación de las predicciones\n",
    "En el caso de que no haya los suficientes datos, se devolverá la media global del item. Es un término conocido como 'fallback' que se usa en casos reales"
   ]
  },
  {
   "cell_type": "markdown",
   "id": "8d3479fa",
   "metadata": {},
   "source": [
    "Media del item"
   ]
  },
  {
   "cell_type": "code",
   "execution_count": 15,
   "id": "51ab454f",
   "metadata": {},
   "outputs": [],
   "source": [
    "def global_average(i):\n",
    "    users_who_rated = [u for u in range(NUM_USERS) if train_matrix[u, i] != 0]\n",
    "    if users_who_rated:\n",
    "        return sum(train_matrix[u, i] for u in users_who_rated) / len(users_who_rated)\n",
    "    return 3.0"
   ]
  },
  {
   "cell_type": "markdown",
   "id": "741c4056",
   "metadata": {},
   "source": [
    "Media"
   ]
  },
  {
   "cell_type": "code",
   "execution_count": 16,
   "id": "f82b063c",
   "metadata": {},
   "outputs": [],
   "source": [
    "def average_prediction(u, i, neighbors):\n",
    "    count = 0\n",
    "    sum_ratings = 0\n",
    "    \n",
    "    for v, _ in neighbors:\n",
    "        if train_matrix[v, i] != 0:\n",
    "            sum_ratings += train_matrix[v, i]\n",
    "            count += 1\n",
    "    \n",
    "    if count > 0:\n",
    "        return sum_ratings / count\n",
    "    \n",
    "    return global_average(i)"
   ]
  },
  {
   "cell_type": "code",
   "execution_count": 17,
   "id": "4bf3fabd",
   "metadata": {},
   "outputs": [
    {
     "name": "stdout",
     "output_type": "stream",
     "text": [
      "4.631578947368421\n",
      "4.631578947368421\n"
     ]
    }
   ],
   "source": [
    "u = 67\n",
    "i = 1865\n",
    "predicted_corr = average_prediction(u, i, neighbors_corr)\n",
    "predicted_jmsd = average_prediction(u, i, neighbors_jmsd)\n",
    "print(predicted_corr)\n",
    "print(predicted_jmsd)"
   ]
  },
  {
   "cell_type": "markdown",
   "id": "aee81a15",
   "metadata": {},
   "source": [
    "Media ponderada"
   ]
  },
  {
   "cell_type": "code",
   "execution_count": 18,
   "id": "3c46893f",
   "metadata": {},
   "outputs": [],
   "source": [
    "def weighted_average_prediction(u, i, neighbors):\n",
    "    numerator = 0\n",
    "    denominator = 0\n",
    "    \n",
    "    for v, sim in neighbors:\n",
    "        if train_matrix[v, i] != 0:\n",
    "            numerator += sim * train_matrix[v, i]\n",
    "            denominator += abs(sim)\n",
    "    \n",
    "    if denominator > 0:\n",
    "        return numerator / denominator\n",
    "    \n",
    "    return global_average(i)"
   ]
  },
  {
   "cell_type": "code",
   "execution_count": 19,
   "id": "cc7263b2",
   "metadata": {},
   "outputs": [
    {
     "name": "stdout",
     "output_type": "stream",
     "text": [
      "4.326732673267327\n",
      "4.326732673267327\n"
     ]
    }
   ],
   "source": [
    "u = 67\n",
    "i = 571\n",
    "predicted_corr = weighted_average_prediction(u, i, neighbors_corr)\n",
    "predicted_jmsd = weighted_average_prediction(u, i, neighbors_jmsd)\n",
    "print(predicted_corr)\n",
    "print(predicted_jmsd)"
   ]
  },
  {
   "cell_type": "markdown",
   "id": "92dca611",
   "metadata": {},
   "source": [
    "Media de agregación"
   ]
  },
  {
   "cell_type": "code",
   "execution_count": 20,
   "id": "6b8ef98b",
   "metadata": {},
   "outputs": [],
   "source": [
    "def deviation_from_mean_prediction(u, i, neighbors):\n",
    "    u_ratings = train_matrix[u].data\n",
    "    avg_u = np.mean(u_ratings) if len(u_ratings) > 0 else global_average(i)\n",
    "    \n",
    "    sum_deviation = 0\n",
    "    count = 0\n",
    "    \n",
    "    for v, _ in neighbors:\n",
    "        if train_matrix[v, i] != 0:\n",
    "            v_ratings = train_matrix[v].data\n",
    "            avg_v = np.mean(v_ratings) if len(v_ratings) > 0 else 0\n",
    "            \n",
    "            sum_deviation += (train_matrix[v, i] - avg_v)\n",
    "            count += 1\n",
    "    \n",
    "    if count > 0:\n",
    "        prediction = avg_u + (sum_deviation / count)\n",
    "        return prediction\n",
    "    \n",
    "    return global_average(i)"
   ]
  },
  {
   "cell_type": "code",
   "execution_count": 21,
   "id": "5919fe72",
   "metadata": {},
   "outputs": [
    {
     "name": "stdout",
     "output_type": "stream",
     "text": [
      "4.208791208791209\n",
      "4.208791208791209\n"
     ]
    }
   ],
   "source": [
    "u = 3\n",
    "i = 2716\n",
    "predicted_corr = deviation_from_mean_prediction(u, i, neighbors_corr)\n",
    "predicted_jmsd = deviation_from_mean_prediction(u, i, neighbors_jmsd)\n",
    "print(predicted_corr)\n",
    "print(predicted_jmsd)"
   ]
  },
  {
   "cell_type": "markdown",
   "id": "16e67fff",
   "metadata": {},
   "source": [
    "#### Calculo de recomendaciones"
   ]
  },
  {
   "cell_type": "code",
   "execution_count": 22,
   "id": "77f54b2a",
   "metadata": {},
   "outputs": [],
   "source": [
    "def get_recommendations(predictions):\n",
    "    recommendations = [None for _ in range(len(predictions))]\n",
    "    \n",
    "    for n in range(len(predictions)):\n",
    "        max_value = None\n",
    "        item = None\n",
    "        \n",
    "        for i, value in enumerate(predictions[n]):\n",
    "            if value is not None and (max_value is None or value > max_value):\n",
    "                max_value = value\n",
    "                item = i\n",
    "        \n",
    "        recommendations[n] = item\n",
    "    \n",
    "    return recommendations"
   ]
  },
  {
   "cell_type": "code",
   "execution_count": 23,
   "id": "766e1e7c",
   "metadata": {},
   "outputs": [],
   "source": [
    "N = 10 #Vamos a usar 10 usuarios para mostrar recomendaciones\n",
    "M = NUM_ITEMS\n",
    "\n",
    "test_users = random.sample(range(NUM_USERS), N)\n",
    "\n",
    "neighbors_corr = {}\n",
    "neighbors_jmsd = {}\n",
    "for u in test_users:\n",
    "    similarities_corr = [None if u == v else correlation_similarity(u, v) for v in range(NUM_USERS)]\n",
    "    similarities_jmsd = [None if u == v else jmsd_similarity(u, v) for v in range(NUM_USERS)]\n",
    "    neighbors_corr[u] = get_neighbors(u, similarities_corr)\n",
    "    neighbors_jmsd[u] = get_neighbors(u, similarities_jmsd)"
   ]
  },
  {
   "cell_type": "code",
   "execution_count": 24,
   "id": "56cf1ba9",
   "metadata": {},
   "outputs": [
    {
     "ename": "KeyboardInterrupt",
     "evalue": "",
     "output_type": "error",
     "traceback": [
      "\u001b[1;31m---------------------------------------------------------------------------\u001b[0m",
      "\u001b[1;31mKeyboardInterrupt\u001b[0m                         Traceback (most recent call last)",
      "Cell \u001b[1;32mIn[24], line 6\u001b[0m\n\u001b[0;32m      1\u001b[0m avg_predictions_corr \u001b[38;5;241m=\u001b[39m [[\u001b[38;5;28;01mNone\u001b[39;00m \u001b[38;5;28;01mif\u001b[39;00m train_matrix[u, i] \u001b[38;5;241m!=\u001b[39m \u001b[38;5;241m0\u001b[39m \u001b[38;5;28;01melse\u001b[39;00m average_prediction(u, i, neighbors_corr[u]) \n\u001b[0;32m      2\u001b[0m                         \u001b[38;5;28;01mfor\u001b[39;00m i \u001b[38;5;129;01min\u001b[39;00m \u001b[38;5;28mrange\u001b[39m(\u001b[38;5;241m100\u001b[39m)] \u001b[38;5;28;01mfor\u001b[39;00m u \u001b[38;5;129;01min\u001b[39;00m test_users]\n\u001b[0;32m      3\u001b[0m avg_predictions_jmsd \u001b[38;5;241m=\u001b[39m [[\u001b[38;5;28;01mNone\u001b[39;00m \u001b[38;5;28;01mif\u001b[39;00m train_matrix[u, i] \u001b[38;5;241m!=\u001b[39m \u001b[38;5;241m0\u001b[39m \u001b[38;5;28;01melse\u001b[39;00m average_prediction(u, i, neighbors_jmsd[u]) \n\u001b[0;32m      4\u001b[0m                         \u001b[38;5;28;01mfor\u001b[39;00m i \u001b[38;5;129;01min\u001b[39;00m \u001b[38;5;28mrange\u001b[39m(\u001b[38;5;241m100\u001b[39m)] \u001b[38;5;28;01mfor\u001b[39;00m u \u001b[38;5;129;01min\u001b[39;00m test_users]\n\u001b[1;32m----> 6\u001b[0m wavg_predictions_corr \u001b[38;5;241m=\u001b[39m [[\u001b[38;5;28;01mNone\u001b[39;00m \u001b[38;5;28;01mif\u001b[39;00m train_matrix[u, i] \u001b[38;5;241m!=\u001b[39m \u001b[38;5;241m0\u001b[39m \u001b[38;5;28;01melse\u001b[39;00m \u001b[43mweighted_average_prediction\u001b[49m\u001b[43m(\u001b[49m\u001b[43mu\u001b[49m\u001b[43m,\u001b[49m\u001b[43m \u001b[49m\u001b[43mi\u001b[49m\u001b[43m,\u001b[49m\u001b[43m \u001b[49m\u001b[43mneighbors_corr\u001b[49m\u001b[43m[\u001b[49m\u001b[43mu\u001b[49m\u001b[43m]\u001b[49m\u001b[43m)\u001b[49m \n\u001b[0;32m      7\u001b[0m                         \u001b[38;5;28;01mfor\u001b[39;00m i \u001b[38;5;129;01min\u001b[39;00m \u001b[38;5;28mrange\u001b[39m(\u001b[38;5;241m100\u001b[39m)] \u001b[38;5;28;01mfor\u001b[39;00m u \u001b[38;5;129;01min\u001b[39;00m test_users]\n\u001b[0;32m      8\u001b[0m wavg_predictions_jmsd \u001b[38;5;241m=\u001b[39m [[\u001b[38;5;28;01mNone\u001b[39;00m \u001b[38;5;28;01mif\u001b[39;00m train_matrix[u, i] \u001b[38;5;241m!=\u001b[39m \u001b[38;5;241m0\u001b[39m \u001b[38;5;28;01melse\u001b[39;00m weighted_average_prediction(u, i, neighbors_jmsd[u]) \n\u001b[0;32m      9\u001b[0m                         \u001b[38;5;28;01mfor\u001b[39;00m i \u001b[38;5;129;01min\u001b[39;00m \u001b[38;5;28mrange\u001b[39m(\u001b[38;5;241m100\u001b[39m)] \u001b[38;5;28;01mfor\u001b[39;00m u \u001b[38;5;129;01min\u001b[39;00m test_users]\n\u001b[0;32m     11\u001b[0m dfm_predictions_corr \u001b[38;5;241m=\u001b[39m [[\u001b[38;5;28;01mNone\u001b[39;00m \u001b[38;5;28;01mif\u001b[39;00m train_matrix[u, i] \u001b[38;5;241m!=\u001b[39m \u001b[38;5;241m0\u001b[39m \u001b[38;5;28;01melse\u001b[39;00m deviation_from_mean_prediction(u, i, neighbors_corr[u]) \n\u001b[0;32m     12\u001b[0m                         \u001b[38;5;28;01mfor\u001b[39;00m i \u001b[38;5;129;01min\u001b[39;00m \u001b[38;5;28mrange\u001b[39m(\u001b[38;5;241m100\u001b[39m)] \u001b[38;5;28;01mfor\u001b[39;00m u \u001b[38;5;129;01min\u001b[39;00m test_users]\n",
      "Cell \u001b[1;32mIn[18], line 13\u001b[0m, in \u001b[0;36mweighted_average_prediction\u001b[1;34m(u, i, neighbors)\u001b[0m\n\u001b[0;32m     10\u001b[0m \u001b[38;5;28;01mif\u001b[39;00m denominator \u001b[38;5;241m>\u001b[39m \u001b[38;5;241m0\u001b[39m:\n\u001b[0;32m     11\u001b[0m     \u001b[38;5;28;01mreturn\u001b[39;00m numerator \u001b[38;5;241m/\u001b[39m denominator\n\u001b[1;32m---> 13\u001b[0m \u001b[38;5;28;01mreturn\u001b[39;00m \u001b[43mglobal_average\u001b[49m\u001b[43m(\u001b[49m\u001b[43mi\u001b[49m\u001b[43m)\u001b[49m\n",
      "Cell \u001b[1;32mIn[15], line 2\u001b[0m, in \u001b[0;36mglobal_average\u001b[1;34m(i)\u001b[0m\n\u001b[0;32m      1\u001b[0m \u001b[38;5;28;01mdef\u001b[39;00m \u001b[38;5;21mglobal_average\u001b[39m(i):\n\u001b[1;32m----> 2\u001b[0m     users_who_rated \u001b[38;5;241m=\u001b[39m [u \u001b[38;5;28;01mfor\u001b[39;00m u \u001b[38;5;129;01min\u001b[39;00m \u001b[38;5;28mrange\u001b[39m(NUM_USERS) \u001b[38;5;28;01mif\u001b[39;00m \u001b[43mtrain_matrix\u001b[49m\u001b[43m[\u001b[49m\u001b[43mu\u001b[49m\u001b[43m,\u001b[49m\u001b[43m \u001b[49m\u001b[43mi\u001b[49m\u001b[43m]\u001b[49m \u001b[38;5;241m!=\u001b[39m \u001b[38;5;241m0\u001b[39m]\n\u001b[0;32m      3\u001b[0m     \u001b[38;5;28;01mif\u001b[39;00m users_who_rated:\n\u001b[0;32m      4\u001b[0m         \u001b[38;5;28;01mreturn\u001b[39;00m \u001b[38;5;28msum\u001b[39m(train_matrix[u, i] \u001b[38;5;28;01mfor\u001b[39;00m u \u001b[38;5;129;01min\u001b[39;00m users_who_rated) \u001b[38;5;241m/\u001b[39m \u001b[38;5;28mlen\u001b[39m(users_who_rated)\n",
      "File \u001b[1;32m~\\AppData\\Local\\Packages\\PythonSoftwareFoundation.Python.3.12_qbz5n2kfra8p0\\LocalCache\\local-packages\\Python312\\site-packages\\scipy\\sparse\\_index.py:57\u001b[0m, in \u001b[0;36mIndexMixin.__getitem__\u001b[1;34m(self, key)\u001b[0m\n\u001b[0;32m     55\u001b[0m \u001b[38;5;28;01mif\u001b[39;00m \u001b[38;5;28misinstance\u001b[39m(row, INT_TYPES):\n\u001b[0;32m     56\u001b[0m     \u001b[38;5;28;01mif\u001b[39;00m \u001b[38;5;28misinstance\u001b[39m(col, INT_TYPES):\n\u001b[1;32m---> 57\u001b[0m         \u001b[38;5;28;01mreturn\u001b[39;00m \u001b[38;5;28;43mself\u001b[39;49m\u001b[38;5;241;43m.\u001b[39;49m\u001b[43m_get_intXint\u001b[49m\u001b[43m(\u001b[49m\u001b[43mrow\u001b[49m\u001b[43m,\u001b[49m\u001b[43m \u001b[49m\u001b[43mcol\u001b[49m\u001b[43m)\u001b[49m\n\u001b[0;32m     58\u001b[0m     \u001b[38;5;28;01melif\u001b[39;00m \u001b[38;5;28misinstance\u001b[39m(col, \u001b[38;5;28mslice\u001b[39m):\n\u001b[0;32m     59\u001b[0m         \u001b[38;5;28mself\u001b[39m\u001b[38;5;241m.\u001b[39m_raise_on_1d_array_slice()\n",
      "File \u001b[1;32m~\\AppData\\Local\\Packages\\PythonSoftwareFoundation.Python.3.12_qbz5n2kfra8p0\\LocalCache\\local-packages\\Python312\\site-packages\\scipy\\sparse\\_compressed.py:659\u001b[0m, in \u001b[0;36m_cs_matrix._get_intXint\u001b[1;34m(self, row, col)\u001b[0m\n\u001b[0;32m    657\u001b[0m M, N \u001b[38;5;241m=\u001b[39m \u001b[38;5;28mself\u001b[39m\u001b[38;5;241m.\u001b[39m_swap(\u001b[38;5;28mself\u001b[39m\u001b[38;5;241m.\u001b[39mshape)\n\u001b[0;32m    658\u001b[0m major, minor \u001b[38;5;241m=\u001b[39m \u001b[38;5;28mself\u001b[39m\u001b[38;5;241m.\u001b[39m_swap((row, col))\n\u001b[1;32m--> 659\u001b[0m indptr, indices, data \u001b[38;5;241m=\u001b[39m \u001b[43mget_csr_submatrix\u001b[49m\u001b[43m(\u001b[49m\n\u001b[0;32m    660\u001b[0m \u001b[43m    \u001b[49m\u001b[43mM\u001b[49m\u001b[43m,\u001b[49m\u001b[43m \u001b[49m\u001b[43mN\u001b[49m\u001b[43m,\u001b[49m\u001b[43m \u001b[49m\u001b[38;5;28;43mself\u001b[39;49m\u001b[38;5;241;43m.\u001b[39;49m\u001b[43mindptr\u001b[49m\u001b[43m,\u001b[49m\u001b[43m \u001b[49m\u001b[38;5;28;43mself\u001b[39;49m\u001b[38;5;241;43m.\u001b[39;49m\u001b[43mindices\u001b[49m\u001b[43m,\u001b[49m\u001b[43m \u001b[49m\u001b[38;5;28;43mself\u001b[39;49m\u001b[38;5;241;43m.\u001b[39;49m\u001b[43mdata\u001b[49m\u001b[43m,\u001b[49m\n\u001b[0;32m    661\u001b[0m \u001b[43m    \u001b[49m\u001b[43mmajor\u001b[49m\u001b[43m,\u001b[49m\u001b[43m \u001b[49m\u001b[43mmajor\u001b[49m\u001b[43m \u001b[49m\u001b[38;5;241;43m+\u001b[39;49m\u001b[43m \u001b[49m\u001b[38;5;241;43m1\u001b[39;49m\u001b[43m,\u001b[49m\u001b[43m \u001b[49m\u001b[43mminor\u001b[49m\u001b[43m,\u001b[49m\u001b[43m \u001b[49m\u001b[43mminor\u001b[49m\u001b[43m \u001b[49m\u001b[38;5;241;43m+\u001b[39;49m\u001b[43m \u001b[49m\u001b[38;5;241;43m1\u001b[39;49m\u001b[43m)\u001b[49m\n\u001b[0;32m    662\u001b[0m \u001b[38;5;28;01mreturn\u001b[39;00m data\u001b[38;5;241m.\u001b[39msum(dtype\u001b[38;5;241m=\u001b[39m\u001b[38;5;28mself\u001b[39m\u001b[38;5;241m.\u001b[39mdtype)\n",
      "\u001b[1;31mKeyboardInterrupt\u001b[0m: "
     ]
    }
   ],
   "source": [
    "avg_predictions_corr = [[None if train_matrix[u, i] != 0 else average_prediction(u, i, neighbors_corr[u]) \n",
    "                        for i in range(100)] for u in test_users]\n",
    "avg_predictions_jmsd = [[None if train_matrix[u, i] != 0 else average_prediction(u, i, neighbors_jmsd[u]) \n",
    "                        for i in range(100)] for u in test_users]\n",
    "\n",
    "wavg_predictions_corr = [[None if train_matrix[u, i] != 0 else weighted_average_prediction(u, i, neighbors_corr[u]) \n",
    "                        for i in range(100)] for u in test_users]\n",
    "wavg_predictions_jmsd = [[None if train_matrix[u, i] != 0 else weighted_average_prediction(u, i, neighbors_jmsd[u]) \n",
    "                        for i in range(100)] for u in test_users]\n",
    "\n",
    "dfm_predictions_corr = [[None if train_matrix[u, i] != 0 else deviation_from_mean_prediction(u, i, neighbors_corr[u]) \n",
    "                        for i in range(100)] for u in test_users]\n",
    "dfm_predictions_jmsd = [[None if train_matrix[u, i] != 0 else deviation_from_mean_prediction(u, i, neighbors_jmsd[u]) \n",
    "                        for i in range(100)] for u in test_users]"
   ]
  },
  {
   "cell_type": "code",
   "execution_count": null,
   "id": "eb76e519",
   "metadata": {},
   "outputs": [
    {
     "name": "stdout",
     "output_type": "stream",
     "text": [
      "[66, 79, 7, 53, 54, 79, 19, 79, 26, 79]\n",
      "[51, 79, 79, 21, 38, 79, 59, 79, 8, 66]\n",
      "[79, 79, 7, 53, 54, 79, 19, 79, 79, 79]\n",
      "[51, 79, 79, 21, 89, 79, 59, 92, 26, 66]\n",
      "[69, 79, 35, 53, 79, 79, 19, 79, 26, 79]\n",
      "[51, 79, 79, 79, 79, 79, 59, 79, 83, 66]\n"
     ]
    }
   ],
   "source": [
    "recommendations_avg_corr = get_recommendations(avg_predictions_corr)\n",
    "recommendations_avg_jmsd = get_recommendations(avg_predictions_jmsd)\n",
    "recommendations_wavg_corr = get_recommendations(wavg_predictions_corr)\n",
    "recommendations_wavg_jmsd = get_recommendations(wavg_predictions_jmsd)\n",
    "recommendations_dfm_corr = get_recommendations(dfm_predictions_corr)\n",
    "recommendations_dfm_jmsd = get_recommendations(dfm_predictions_jmsd)\n",
    "\n",
    "print(recommendations_avg_corr)\n",
    "print(recommendations_avg_jmsd)\n",
    "print(recommendations_wavg_corr)\n",
    "print(recommendations_wavg_jmsd)\n",
    "print(recommendations_dfm_corr)\n",
    "print(recommendations_dfm_jmsd)"
   ]
  },
  {
   "cell_type": "markdown",
   "id": "dd707d1e",
   "metadata": {},
   "source": [
    "#### Calculo del MAE"
   ]
  },
  {
   "cell_type": "code",
   "execution_count": null,
   "id": "d51c023a",
   "metadata": {},
   "outputs": [],
   "source": [
    "def has_test_ratings(u):\n",
    "    return test_matrix[u].nnz > 0"
   ]
  },
  {
   "cell_type": "markdown",
   "id": "b4b5e146",
   "metadata": {},
   "source": [
    "Para poder hacer las predicciones de múltiples algoritmos, vimos necesario hacer un prefiltrado de posibles vecinos en bloques de 50  \n",
    "para reducir drásticamente el tiempo de ejecución (anteriormente estuvo 1 día y no terminó).  \n",
    "Actualmente estamos comparando similitudes únicamente con vecinos potenciales. (90mins aprox)"
   ]
  },
  {
   "cell_type": "code",
   "execution_count": null,
   "id": "bfacb277",
   "metadata": {},
   "outputs": [
    {
     "name": "stdout",
     "output_type": "stream",
     "text": [
      "Iniciando ejecución...\n",
      "Seleccionando hasta 100 usuarios con ratings en test...\n"
     ]
    },
    {
     "ename": "NameError",
     "evalue": "name 'NUM_USERS' is not defined",
     "output_type": "error",
     "traceback": [
      "\u001b[1;31m---------------------------------------------------------------------------\u001b[0m",
      "\u001b[1;31mNameError\u001b[0m                                 Traceback (most recent call last)",
      "Cell \u001b[1;32mIn[1], line 11\u001b[0m\n\u001b[0;32m      9\u001b[0m \u001b[38;5;28mprint\u001b[39m(\u001b[38;5;124mf\u001b[39m\u001b[38;5;124m\"\u001b[39m\u001b[38;5;124mSeleccionando hasta \u001b[39m\u001b[38;5;132;01m{\u001b[39;00mMAX_USERS\u001b[38;5;132;01m}\u001b[39;00m\u001b[38;5;124m usuarios con ratings en test...\u001b[39m\u001b[38;5;124m\"\u001b[39m)\n\u001b[0;32m     10\u001b[0m test_users \u001b[38;5;241m=\u001b[39m []\n\u001b[1;32m---> 11\u001b[0m \u001b[38;5;28;01mfor\u001b[39;00m u \u001b[38;5;129;01min\u001b[39;00m \u001b[38;5;28mrange\u001b[39m(\u001b[38;5;28mmin\u001b[39m(\u001b[38;5;241m1000\u001b[39m, \u001b[43mNUM_USERS\u001b[49m)):  \u001b[38;5;66;03m# Limitar búsqueda inicial\u001b[39;00m\n\u001b[0;32m     12\u001b[0m     \u001b[38;5;28;01mif\u001b[39;00m u \u001b[38;5;241m%\u001b[39m \u001b[38;5;241m100\u001b[39m \u001b[38;5;241m==\u001b[39m \u001b[38;5;241m0\u001b[39m:\n\u001b[0;32m     13\u001b[0m         \u001b[38;5;28mprint\u001b[39m(\u001b[38;5;124mf\u001b[39m\u001b[38;5;124m\"\u001b[39m\u001b[38;5;124mVerificando usuario \u001b[39m\u001b[38;5;132;01m{\u001b[39;00mu\u001b[38;5;132;01m}\u001b[39;00m\u001b[38;5;124m...\u001b[39m\u001b[38;5;124m\"\u001b[39m)\n",
      "\u001b[1;31mNameError\u001b[0m: name 'NUM_USERS' is not defined"
     ]
    }
   ],
   "source": [
    "import time\n",
    "print(\"Iniciando ejecución...\")\n",
    "start_time = time.time()\n",
    "\n",
    "MAX_USERS = 100\n",
    "MAX_POTENTIAL_NEIGHBORS = 30\n",
    "\n",
    "print(f\"Seleccionando hasta {MAX_USERS} usuarios con ratings en test...\")\n",
    "test_users = []\n",
    "for u in range(min(1000, NUM_USERS)):\n",
    "    if u % 100 == 0:\n",
    "        print(f\"Verificando usuario {u}...\")\n",
    "    if test_matrix[u].nnz > 0:\n",
    "        test_users.append(u)\n",
    "        if len(test_users) >= MAX_USERS:\n",
    "            break\n",
    "\n",
    "print(f\"Encontrados {len(test_users)} usuarios con ratings en test en {time.time()-start_time:.2f}s\")\n",
    "\n",
    "predictions = {\n",
    "    'avg_corr': {},\n",
    "    'avg_jmsd': {},\n",
    "    'wavg_corr': {},\n",
    "    'wavg_jmsd': {},\n",
    "    'dfm_corr': {},\n",
    "    'dfm_jmsd': {}\n",
    "}\n",
    "\n",
    "# Procesar usuarios individualmente (sin lotes para simplificar)\n",
    "for u_idx, u in enumerate(test_users):\n",
    "    print(f\"Procesando usuario {u_idx+1}/{len(test_users)}: {u}\")\n",
    "    user_start = time.time()\n",
    "    \n",
    "    # Obtener ítems calificados en test (pre-calcular para evitar llamadas repetidas)\n",
    "    test_items = test_matrix[u].nonzero()[1]\n",
    "    print(f\"  Usuario tiene {len(test_items)} ítems en test\")\n",
    "    \n",
    "    # Simplificación radical: usar solo 5 vecinos aleatorios para prueba inicial\n",
    "    if u_idx == 0:  # Solo para el primer usuario para prueba\n",
    "        print(\"  PRUEBA RÁPIDA: Usando solo 5 vecinos aleatorios\")\n",
    "        potential_neighbors = random.sample(range(NUM_USERS), min(5, NUM_USERS))\n",
    "        if u in potential_neighbors:\n",
    "            potential_neighbors.remove(u)\n",
    "    else:\n",
    "        # Obtener vecinos potenciales limitados\n",
    "        potential_neighbors = set()\n",
    "        for i in train_matrix[u].indices:\n",
    "            rated_i = train_matrix[:, i].nonzero()[0]\n",
    "            potential_neighbors.update(rated_i[:10])  # Limitar usuarios por ítem\n",
    "            if len(potential_neighbors) >= MAX_POTENTIAL_NEIGHBORS:\n",
    "                break\n",
    "        \n",
    "        if u in potential_neighbors:\n",
    "            potential_neighbors.remove(u)\n",
    "            \n",
    "        potential_neighbors = list(potential_neighbors)[:MAX_POTENTIAL_NEIGHBORS]\n",
    "    \n",
    "    print(f\"  Seleccionados {len(potential_neighbors)} vecinos potenciales en {time.time()-user_start:.2f}s\")\n",
    "    \n",
    "    # Calcular similitudes y vecinos (versión simplificada)\n",
    "    neighbors_corr = []\n",
    "    neighbors_jmsd = []\n",
    "    \n",
    "    sim_start = time.time()\n",
    "    for v in potential_neighbors:\n",
    "        try:\n",
    "            # Correlación\n",
    "            corr_sim = correlation_similarity(u, v)\n",
    "            if corr_sim.nnz > 0:\n",
    "                sim_val = corr_sim[0, v]\n",
    "                neighbors_corr.append((v, sim_val))\n",
    "            \n",
    "            # JMSD\n",
    "            jmsd_sim = jmsd_similarity(u, v)\n",
    "            if jmsd_sim.nnz > 0:\n",
    "                sim_val = jmsd_sim[0, v]\n",
    "                neighbors_jmsd.append((v, sim_val))\n",
    "        except Exception as e:\n",
    "            print(f\"    Error calculando similitud entre {u} y {v}: {e}\")\n",
    "    \n",
    "    print(f\"  Similitudes calculadas en {time.time()-sim_start:.2f}s. Vecinos encontrados: {len(neighbors_corr)}/{len(neighbors_jmsd)}\")\n",
    "    \n",
    "    # Ordenar vecinos por similitud\n",
    "    neighbors_corr.sort(key=lambda x: x[1], reverse=True)\n",
    "    neighbors_jmsd.sort(key=lambda x: x[1], reverse=True)\n",
    "    \n",
    "    # Solo mantener los 10 mejores vecinos para cada método\n",
    "    neighbors_corr = neighbors_corr[:10]\n",
    "    neighbors_jmsd = neighbors_jmsd[:10]\n",
    "    \n",
    "    # Calcular solo 1 ítem como prueba\n",
    "    if len(test_items) > 0:\n",
    "        i = test_items[0]\n",
    "        print(f\"  PRUEBA: Prediciendo para ítem {i}\")\n",
    "        \n",
    "        # Calcular predicciones con diferentes métodos\n",
    "        try:\n",
    "            predictions['avg_corr'][u] = {i: average_prediction(u, i, neighbors_corr)}\n",
    "            predictions['avg_jmsd'][u] = {i: average_prediction(u, i, neighbors_jmsd)}\n",
    "            predictions['wavg_corr'][u] = {i: weighted_average_prediction(u, i, neighbors_corr, 'corr')}\n",
    "            predictions['wavg_jmsd'][u] = {i: weighted_average_prediction(u, i, neighbors_jmsd, 'jmsd')}\n",
    "            predictions['dfm_corr'][u] = {i: deviation_from_mean_prediction(u, i, neighbors_corr)}\n",
    "            predictions['dfm_jmsd'][u] = {i: deviation_from_mean_prediction(u, i, neighbors_jmsd)}\n",
    "            \n",
    "            print(f\"  Predicciones para ítem {i}:\")\n",
    "            for method, preds in predictions.items():\n",
    "                if u in preds and i in preds[u]:\n",
    "                    print(f\"    {method}: {preds[u][i]}\")\n",
    "        except Exception as e:\n",
    "            print(f\"    Error calculando predicciones: {e}\")\n",
    "    \n",
    "    print(f\"  Usuario procesado en {time.time()-user_start:.2f}s\")\n",
    "    \n",
    "    # Solo procesar algunos usuarios para prueba inicial\n",
    "    if u_idx >= 2:  # Después de 3 usuarios\n",
    "        user_decision = input(\"¿Continuar con el siguiente usuario? (s/n): \")\n",
    "        if user_decision.lower() != 's':\n",
    "            print(\"Deteniendo procesamiento para análisis\")\n",
    "            break\n",
    "\n",
    "print(f\"Tiempo total: {time.time()-start_time:.2f}s\")"
   ]
  },
  {
   "cell_type": "markdown",
   "id": "acd2ee5d",
   "metadata": {},
   "source": [
    "Ahora definimos el MAE y lo calculamos"
   ]
  },
  {
   "cell_type": "code",
   "execution_count": null,
   "id": "25d186ef",
   "metadata": {},
   "outputs": [],
   "source": [
    "def get_user_mae(u, predictions):\n",
    "    mae = 0\n",
    "    count = 0\n",
    "    \n",
    "    test_items = test_matrix[u].nonzero()[1]\n",
    "    \n",
    "    for i in test_items:\n",
    "        if predictions[u][i] is not None:\n",
    "            mae += abs(test_matrix[u, i] - predictions[u][i])\n",
    "            count += 1\n",
    "    \n",
    "    if count > 0:\n",
    "        return mae / count\n",
    "    else:\n",
    "        return None\n",
    "    "
   ]
  },
  {
   "cell_type": "code",
   "execution_count": null,
   "id": "f54c26e1",
   "metadata": {},
   "outputs": [],
   "source": [
    "def get_mae(predictions):\n",
    "    mae = 0\n",
    "    count = 0\n",
    "    \n",
    "    for u in range(NUM_USERS):\n",
    "        if has_test_ratings(u):\n",
    "            user_mae = get_user_mae(u, predictions)\n",
    "            \n",
    "            if user_mae is not None:\n",
    "                mae += user_mae\n",
    "                count += 1\n",
    "    \n",
    "    if count > 0:\n",
    "        return mae / count\n",
    "    else:\n",
    "        return None"
   ]
  },
  {
   "cell_type": "code",
   "execution_count": null,
   "id": "1b4d87c4",
   "metadata": {},
   "outputs": [
    {
     "name": "stdout",
     "output_type": "stream",
     "text": [
      "MAE Avg Prediction with Corr Similarity = 1.1606368045457007\n",
      "MAE Avg Prediction with JMSD Similarity = 1.0568724053169671\n",
      "MAE Weighted Avg Prediction with Corr Similarity = 1.6286280183648738\n",
      "MAE Weighted Avg Prediction with JMSD Similarity = 1.1158895577077275\n",
      "MAE Dev from Mean Prediction with Corr Similarity = 1.1511359965649157\n",
      "MAE Dev from Mean Prediction with JMSD Similarity = 1.0690044704402293\n"
     ]
    }
   ],
   "source": [
    "mae_avg_corr = get_mae(avg_predictions_corr)\n",
    "mae_avg_jmsd = get_mae(avg_predictions_jmsd)\n",
    "mae_wavg_corr = get_mae(wavg_predictions_corr)\n",
    "mae_wavg_jmsd = get_mae(wavg_predictions_jmsd)\n",
    "mae_dfm_corr = get_mae(dfm_predictions_corr)\n",
    "mae_dfm_jmsd = get_mae(dfm_predictions_jmsd)\n",
    "\n",
    "print(f\"MAE Avg Prediction with Corr Similarity = \" + str(mae_avg_corr))\n",
    "print(f\"MAE Avg Prediction with JMSD Similarity = \" + str(mae_avg_jmsd))\n",
    "print(f\"MAE Weighted Avg Prediction with Corr Similarity = \" + str(mae_wavg_corr))\n",
    "print(f\"MAE Weighted Avg Prediction with JMSD Similarity = \" + str(mae_wavg_jmsd))\n",
    "print(f\"MAE Dev from Mean Prediction with Corr Similarity = \" + str(mae_dfm_corr))\n",
    "print(f\"MAE Dev from Mean Prediction with JMSD Similarity = \" + str(mae_dfm_jmsd))"
   ]
  },
  {
   "cell_type": "markdown",
   "id": "5130e13d",
   "metadata": {},
   "source": [
    "#### Cálculo del resto de medidas\n",
    "Las adaptaciones para las matrices sparse utilizadas se centran acceso eficiente a datos no nulos mediante `nonzero()`,  \n",
    "reemplazando verificaciones basadas en `None` por comprobaciones de valores distintos de cero,  \n",
    "y empleando pre-filtrado de vecinos para reducir drásticamente los pares de comparación"
   ]
  },
  {
   "cell_type": "markdown",
   "id": "7143cf9d",
   "metadata": {},
   "source": [
    "rmse"
   ]
  },
  {
   "cell_type": "code",
   "execution_count": null,
   "id": "f9e84e9c",
   "metadata": {},
   "outputs": [],
   "source": [
    "def get_user_rmse(u, predictions):\n",
    "    mse = 0\n",
    "    count = 0\n",
    "    \n",
    "    test_items = test_matrix[u].nonzero()[1]\n",
    "    \n",
    "    for i in test_items:\n",
    "        if predictions[u][i] is not None:\n",
    "            mse += (test_matrix[u, i] - predictions[u][i]) ** 2\n",
    "            count += 1\n",
    "    \n",
    "    if count > 0:\n",
    "        return math.sqrt(mse / count)\n",
    "    else:\n",
    "        return None"
   ]
  },
  {
   "cell_type": "code",
   "execution_count": null,
   "id": "2a650966",
   "metadata": {},
   "outputs": [],
   "source": [
    "def get_rmse(predictions):\n",
    "    rmse = 0\n",
    "    count = 0\n",
    "    \n",
    "    for u in range(NUM_USERS):\n",
    "        if has_test_ratings(u):\n",
    "            user_rmse = get_user_rmse(u, predictions)\n",
    "            \n",
    "            if user_rmse is not None:\n",
    "                rmse += user_rmse\n",
    "                count += 1\n",
    "    \n",
    "    if count > 0:\n",
    "        return rmse / count\n",
    "    else:\n",
    "        return None"
   ]
  },
  {
   "cell_type": "code",
   "execution_count": null,
   "id": "8650c299",
   "metadata": {},
   "outputs": [
    {
     "name": "stdout",
     "output_type": "stream",
     "text": [
      "RMSE Avg Prediction with Corr Similarity = 1.4411773904659608\n",
      "RMSE Avg Prediction with JMSD Similarity = 1.3207952092747248\n",
      "RMSE Weighted Avg Prediction with Corr Similarity = 2.1292938788818896\n",
      "RMSE Weighted Avg Prediction with JMSD Similarity = 1.3801907019328008\n",
      "RMSE Dev from Mean Prediction with Corr Similarity = 1.4055793052285834\n",
      "RMSE Dev from Mean Prediction with JMSD Similarity = 1.3014693348194508\n"
     ]
    }
   ],
   "source": [
    "rmse_avg_corr = get_rmse(avg_predictions_corr)\n",
    "rmse_avg_jmsd = get_rmse(avg_predictions_jmsd)\n",
    "rmse_wavg_corr = get_rmse(wavg_predictions_corr)\n",
    "rmse_wavg_jmsd = get_rmse(wavg_predictions_jmsd)\n",
    "rmse_dfm_corr = get_rmse(dfm_predictions_corr)\n",
    "rmse_dfm_jmsd = get_rmse(dfm_predictions_jmsd)\n",
    "\n",
    "print(f\"RMSE Avg Prediction with Corr Similarity = \" + str(rmse_avg_corr))\n",
    "print(f\"RMSE Avg Prediction with JMSD Similarity = \" + str(rmse_avg_jmsd))\n",
    "print(f\"RMSE Weighted Avg Prediction with Corr Similarity = \" + str(rmse_wavg_corr))\n",
    "print(f\"RMSE Weighted Avg Prediction with JMSD Similarity = \" + str(rmse_wavg_jmsd))\n",
    "print(f\"RMSE Dev from Mean Prediction with Corr Similarity = \" + str(rmse_dfm_corr))\n",
    "print(f\"RMSE Dev from Mean Prediction with JMSD Similarity = \" + str(rmse_dfm_jmsd))"
   ]
  },
  {
   "cell_type": "markdown",
   "id": "6b9f3fd0",
   "metadata": {},
   "source": [
    "Precision"
   ]
  },
  {
   "cell_type": "code",
   "execution_count": null,
   "id": "fca450f9",
   "metadata": {},
   "outputs": [],
   "source": [
    "theta = 4"
   ]
  },
  {
   "cell_type": "code",
   "execution_count": null,
   "id": "36943e4a",
   "metadata": {},
   "outputs": [],
   "source": [
    "def get_user_precision(u, predictions):\n",
    "    precision = 0\n",
    "    count = 0\n",
    "    \n",
    "    user_predictions = predictions[u]\n",
    "    recommendations = get_recommendations([user_predictions])[0]\n",
    "    \n",
    "    if recommendations is None:\n",
    "        return None\n",
    "    \n",
    "    if not isinstance(recommendations, list):\n",
    "        recommendations = [recommendations]\n",
    "    \n",
    "    for i in recommendations:\n",
    "        if i is not None and test_matrix[u, i] != 0:\n",
    "            precision += 1 if test_matrix[u, i] >= theta else 0\n",
    "            count += 1\n",
    "    \n",
    "    if count > 0:\n",
    "        return precision / count\n",
    "    else:\n",
    "        return None"
   ]
  },
  {
   "cell_type": "code",
   "execution_count": null,
   "id": "653b1f99",
   "metadata": {},
   "outputs": [],
   "source": [
    "def get_precision(predictions):\n",
    "    precision = 0\n",
    "    count = 0\n",
    "    \n",
    "    for u in range(NUM_USERS):\n",
    "        if has_test_ratings(u):\n",
    "            user_precision = get_user_precision(u, predictions)\n",
    "            \n",
    "            if user_precision is not None:\n",
    "                precision += user_precision\n",
    "                count += 1\n",
    "    \n",
    "    if count > 0:\n",
    "        return precision / count\n",
    "    else:\n",
    "        return None"
   ]
  },
  {
   "cell_type": "code",
   "execution_count": null,
   "id": "9deed6c5",
   "metadata": {},
   "outputs": [
    {
     "name": "stdout",
     "output_type": "stream",
     "text": [
      "Precision Avg Prediction with Corr Similarity = 0.8413140311804009\n",
      "Precision Avg Prediction with JMSD Similarity = 0.8485523385300668\n",
      "Precision Weighted Avg Prediction with Corr Similarity = 0.8449331848552338\n",
      "Precision Weighted Avg Prediction with JMSD Similarity = 0.8463251670378619\n",
      "Precision Dev from Mean Prediction with Corr Similarity = 0.8346325167037862\n",
      "Precision Dev from Mean Prediction with JMSD Similarity = 0.8382516703786191\n"
     ]
    }
   ],
   "source": [
    "precision_avg_corr = get_precision(avg_predictions_corr)\n",
    "precision_avg_jmsd = get_precision(avg_predictions_jmsd)\n",
    "precision_wavg_corr = get_precision(wavg_predictions_corr)\n",
    "precision_wavg_jmsd = get_precision(wavg_predictions_jmsd)\n",
    "precision_dfm_corr = get_precision(dfm_predictions_corr)\n",
    "precision_dfm_jmsd = get_precision(dfm_predictions_jmsd)\n",
    "\n",
    "print(f\"Precision Avg Prediction with Corr Similarity = \" + str(precision_avg_corr))\n",
    "print(f\"Precision Avg Prediction with JMSD Similarity = \" + str(precision_avg_jmsd))\n",
    "print(f\"Precision Weighted Avg Prediction with Corr Similarity = \" + str(precision_wavg_corr))\n",
    "print(f\"Precision Weighted Avg Prediction with JMSD Similarity = \" + str(precision_wavg_jmsd))\n",
    "print(f\"Precision Dev from Mean Prediction with Corr Similarity = \" + str(precision_dfm_corr))\n",
    "print(f\"Precision Dev from Mean Prediction with JMSD Similarity = \" + str(precision_dfm_jmsd))"
   ]
  },
  {
   "cell_type": "markdown",
   "id": "8a249c89",
   "metadata": {},
   "source": [
    "Recall"
   ]
  },
  {
   "cell_type": "code",
   "execution_count": null,
   "id": "0053e62d",
   "metadata": {},
   "outputs": [],
   "source": [
    "def get_user_recall(u, predictions):\n",
    "    recall = 0\n",
    "    count = 0\n",
    "    \n",
    "    recommendations = get_recommendations([predictions[u]])[0]\n",
    "    \n",
    "    if recommendations is not None and not isinstance(recommendations, list):\n",
    "        recommendations = [recommendations]\n",
    "    \n",
    "    test_items = test_matrix[u].nonzero()[1]\n",
    "    \n",
    "    for i in test_items:\n",
    "        if test_matrix[u, i] >= theta:\n",
    "            recall += 1 if recommendations is not None and i in recommendations else 0\n",
    "            count += 1\n",
    "    \n",
    "    if count > 0:\n",
    "        return recall / count\n",
    "    else:\n",
    "        return None\n",
    "\n",
    "def get_recall(predictions):\n",
    "    recall = 0\n",
    "    count = 0\n",
    "    \n",
    "    for u in range(NUM_USERS):\n",
    "        if has_test_ratings(u):\n",
    "            user_recall = get_user_recall(u, predictions)\n",
    "            \n",
    "            if user_recall is not None:\n",
    "                recall += user_recall\n",
    "                count += 1\n",
    "    \n",
    "    if count > 0:\n",
    "        return recall / count\n",
    "    else:\n",
    "        return None"
   ]
  },
  {
   "cell_type": "code",
   "execution_count": null,
   "id": "28fc3446",
   "metadata": {},
   "outputs": [
    {
     "name": "stdout",
     "output_type": "stream",
     "text": [
      "Recall Avg Prediction with Corr Similarity = 0.2516962920865665\n",
      "Recall Avg Prediction with JMSD Similarity = 0.25189842325149303\n",
      "Recall Weighted Avg Prediction with Corr Similarity = 0.2524028900153866\n",
      "Recall Weighted Avg Prediction with JMSD Similarity = 0.25097690649664295\n",
      "Recall Dev from Mean Prediction with Corr Similarity = 0.25006582972749164\n",
      "Recall Dev from Mean Prediction with JMSD Similarity = 0.24775415081536542\n"
     ]
    }
   ],
   "source": [
    "recall_avg_corr = get_recall(avg_predictions_corr)\n",
    "recall_avg_jmsd = get_recall(avg_predictions_jmsd)\n",
    "recall_wavg_corr = get_recall(wavg_predictions_corr)\n",
    "recall_wavg_jmsd = get_recall(wavg_predictions_jmsd)\n",
    "recall_dfm_corr = get_recall(dfm_predictions_corr)\n",
    "recall_dfm_jmsd = get_recall(dfm_predictions_jmsd)\n",
    "\n",
    "print(f\"Recall Avg Prediction with Corr Similarity = \" + str(recall_avg_corr))\n",
    "print(f\"Recall Avg Prediction with JMSD Similarity = \" + str(recall_avg_jmsd))\n",
    "print(f\"Recall Weighted Avg Prediction with Corr Similarity = \" + str(recall_wavg_corr))\n",
    "print(f\"Recall Weighted Avg Prediction with JMSD Similarity = \" + str(recall_wavg_jmsd))\n",
    "print(f\"Recall Dev from Mean Prediction with Corr Similarity = \" + str(recall_dfm_corr))\n",
    "print(f\"Recall Dev from Mean Prediction with JMSD Similarity = \" + str(recall_dfm_jmsd))"
   ]
  },
  {
   "cell_type": "markdown",
   "id": "24dba92b",
   "metadata": {},
   "source": [
    "F1"
   ]
  },
  {
   "cell_type": "code",
   "execution_count": null,
   "id": "8c3b1a02",
   "metadata": {},
   "outputs": [],
   "source": [
    "def get_user_f1(u, predictions):\n",
    "    precision = get_user_precision(u, predictions)\n",
    "    recall = get_user_recall(u, predictions)\n",
    "    \n",
    "    if precision is None or recall is None:\n",
    "        return None\n",
    "    elif precision == 0 and recall == 0:\n",
    "        return 0\n",
    "    else:\n",
    "        return 2 * precision * recall / (precision + recall)"
   ]
  },
  {
   "cell_type": "code",
   "execution_count": null,
   "id": "7b297a4e",
   "metadata": {},
   "outputs": [],
   "source": [
    "def get_f1(predictions):\n",
    "    f1 = 0\n",
    "    count = 0\n",
    "    \n",
    "    for u in range(NUM_USERS):\n",
    "        if has_test_ratings(u):\n",
    "            user_f1 = get_user_f1(u, predictions)\n",
    "            \n",
    "            if user_f1 is not None:\n",
    "                f1 += user_f1\n",
    "                count += 1\n",
    "    \n",
    "    if count > 0:\n",
    "        return f1 / count\n",
    "    else:\n",
    "        return None"
   ]
  },
  {
   "cell_type": "code",
   "execution_count": null,
   "id": "197fbb43",
   "metadata": {},
   "outputs": [
    {
     "name": "stdout",
     "output_type": "stream",
     "text": [
      "F1 Avg Prediction with Corr Similarity = 0.3581890340662306\n",
      "F1 Avg Prediction with JMSD Similarity = 0.36006940984671765\n",
      "F1 Weighted Avg Prediction with Corr Similarity = 0.3596215829987796\n",
      "F1 Weighted Avg Prediction with JMSD Similarity = 0.35884672306847526\n",
      "F1 Dev from Mean Prediction with Corr Similarity = 0.3556556407422389\n",
      "F1 Dev from Mean Prediction with JMSD Similarity = 0.35440112118697564\n"
     ]
    }
   ],
   "source": [
    "f1_avg_corr = get_f1(avg_predictions_corr)\n",
    "f1_avg_jmsd = get_f1(avg_predictions_jmsd)\n",
    "f1_wavg_corr = get_f1(wavg_predictions_corr)\n",
    "f1_wavg_jmsd = get_f1(wavg_predictions_jmsd)\n",
    "f1_dfm_corr = get_f1(dfm_predictions_corr)\n",
    "f1_dfm_jmsd = get_f1(dfm_predictions_jmsd)\n",
    "\n",
    "print(f\"F1 Avg Prediction with Corr Similarity = \" + str(f1_avg_corr))\n",
    "print(f\"F1 Avg Prediction with JMSD Similarity = \" + str(f1_avg_jmsd))\n",
    "print(f\"F1 Weighted Avg Prediction with Corr Similarity = \" + str(f1_wavg_corr))\n",
    "print(f\"F1 Weighted Avg Prediction with JMSD Similarity = \" + str(f1_wavg_jmsd))\n",
    "print(f\"F1 Dev from Mean Prediction with Corr Similarity = \" + str(f1_dfm_corr))\n",
    "print(f\"F1 Dev from Mean Prediction with JMSD Similarity = \" + str(f1_dfm_jmsd))"
   ]
  },
  {
   "cell_type": "markdown",
   "id": "cefdd335",
   "metadata": {},
   "source": [
    "nDCG"
   ]
  },
  {
   "cell_type": "code",
   "execution_count": null,
   "id": "3000a0eb",
   "metadata": {},
   "outputs": [],
   "source": [
    "def get_sorted_test_items(u):\n",
    "    test_items = test_matrix[u].nonzero()[1]\n",
    "    items = []\n",
    "    \n",
    "    if len(test_items) == 0:\n",
    "        return items\n",
    "    \n",
    "    for i in test_items:\n",
    "        items.append(i)\n",
    "    \n",
    "    items.sort(key=lambda x: test_matrix[u, x], reverse=True)\n",
    "    \n",
    "    return items"
   ]
  },
  {
   "cell_type": "code",
   "execution_count": null,
   "id": "3c031845",
   "metadata": {},
   "outputs": [],
   "source": [
    "def get_user_idcg(u):\n",
    "    items = get_sorted_test_items(u)\n",
    "    idcg = 0\n",
    "    \n",
    "    for pos, i in enumerate(items):\n",
    "        if test_matrix[u, i] >= theta:\n",
    "            idcg += (2 ** test_matrix[u, i] - 1) / math.log2(pos + 2)\n",
    "    \n",
    "    return idcg"
   ]
  },
  {
   "cell_type": "code",
   "execution_count": null,
   "id": "956fac75",
   "metadata": {},
   "outputs": [],
   "source": [
    "def get_user_dcg(u, recommendations):\n",
    "    dcg = 0\n",
    "    \n",
    "    if recommendations is None:\n",
    "        return 0\n",
    "    \n",
    "    if not isinstance(recommendations, list):\n",
    "        recommendations = [recommendations]\n",
    "    \n",
    "    for pos, i in enumerate(recommendations):\n",
    "        if i is not None and test_matrix[u, i] != 0:\n",
    "            dcg += (2 ** test_matrix[u, i] - 1) / math.log2(pos + 2)\n",
    "    \n",
    "    return dcg"
   ]
  },
  {
   "cell_type": "code",
   "execution_count": null,
   "id": "197bac5a",
   "metadata": {},
   "outputs": [],
   "source": [
    "def get_user_ndcg(u, predictions):\n",
    "    recommendations = get_recommendations([predictions[u]])[0]\n",
    "    \n",
    "    dcg = get_user_dcg(u, recommendations)\n",
    "    idcg = get_user_idcg(u)\n",
    "    \n",
    "    if idcg == 0:\n",
    "        return None\n",
    "    else:\n",
    "        return dcg / idcg"
   ]
  },
  {
   "cell_type": "code",
   "execution_count": null,
   "id": "22147971",
   "metadata": {},
   "outputs": [],
   "source": [
    "def get_ndcg(predictions):\n",
    "    ndcg = 0\n",
    "    count = 0\n",
    "    \n",
    "    for u in range(NUM_USERS):\n",
    "        if has_test_ratings(u):\n",
    "            user_ndcg = get_user_ndcg(u, predictions)\n",
    "            \n",
    "            if user_ndcg is not None:\n",
    "                ndcg += user_ndcg\n",
    "                count += 1\n",
    "    \n",
    "    if count > 0:\n",
    "        return ndcg / count\n",
    "    else:\n",
    "        return None"
   ]
  },
  {
   "cell_type": "code",
   "execution_count": null,
   "id": "8a9a9691",
   "metadata": {},
   "outputs": [
    {
     "name": "stdout",
     "output_type": "stream",
     "text": [
      "nDCG Avg Prediction with Corr Similarity = 0.37926206511411514\n",
      "nDCG Avg Prediction with JMSD Similarity = 0.3843460771291534\n",
      "nDCG Weighted Avg Prediction with Corr Similarity = 0.381210272924732\n",
      "nDCG Weighted Avg Prediction with JMSD Similarity = 0.38245378689367787\n",
      "nDCG Dev from Mean Prediction with Corr Similarity = 0.377133062693343\n",
      "nDCG Dev from Mean Prediction with JMSD Similarity = 0.3782215877148551\n"
     ]
    }
   ],
   "source": [
    "ndcg_avg_corr = get_ndcg(avg_predictions_corr)\n",
    "ndcg_avg_jmsd = get_ndcg(avg_predictions_jmsd)\n",
    "ndcg_wavg_corr = get_ndcg(wavg_predictions_corr)\n",
    "ndcg_wavg_jmsd = get_ndcg(wavg_predictions_jmsd)\n",
    "ndcg_dfm_corr = get_ndcg(dfm_predictions_corr)\n",
    "ndcg_dfm_jmsd = get_ndcg(dfm_predictions_jmsd)\n",
    "\n",
    "print(f\"nDCG Avg Prediction with Corr Similarity = \" + str(ndcg_avg_corr))\n",
    "print(f\"nDCG Avg Prediction with JMSD Similarity = \" + str(ndcg_avg_jmsd))\n",
    "print(f\"nDCG Weighted Avg Prediction with Corr Similarity = \" + str(ndcg_wavg_corr))\n",
    "print(f\"nDCG Weighted Avg Prediction with JMSD Similarity = \" + str(ndcg_wavg_jmsd))\n",
    "print(f\"nDCG Dev from Mean Prediction with Corr Similarity = \" + str(ndcg_dfm_corr))\n",
    "print(f\"nDCG Dev from Mean Prediction with JMSD Similarity = \" + str(ndcg_dfm_jmsd))"
   ]
  }
 ],
 "metadata": {
  "kernelspec": {
   "display_name": "Python 3",
   "language": "python",
   "name": "python3"
  },
  "language_info": {
   "codemirror_mode": {
    "name": "ipython",
    "version": 3
   },
   "file_extension": ".py",
   "mimetype": "text/x-python",
   "name": "python",
   "nbconvert_exporter": "python",
   "pygments_lexer": "ipython3",
   "version": "3.12.10"
  }
 },
 "nbformat": 4,
 "nbformat_minor": 5
}
