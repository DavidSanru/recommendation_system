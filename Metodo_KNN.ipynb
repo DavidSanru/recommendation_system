{
  "cells": [
    {
      "cell_type": "markdown",
      "id": "d968e938",
      "metadata": {
        "id": "d968e938"
      },
      "source": [
        "#### Cargamos las librerias necesarias"
      ]
    },
    {
      "cell_type": "code",
      "execution_count": null,
      "id": "c2523626",
      "metadata": {
        "id": "c2523626"
      },
      "outputs": [],
      "source": [
        "\n",
        "import pandas as pd\n",
        "import numpy as np\n",
        "import matplotlib.pyplot as plt\n",
        "import math\n",
        "from datetime import datetime\n",
        "import scipy.sparse as sp\n",
        "from sklearn.metrics.pairwise import cosine_similarity\n",
        "import random\n",
        "from scipy.stats import pearsonr\n",
        "from collections import Counter\n",
        "import collections"
      ]
    },
    {
      "cell_type": "markdown",
      "id": "1258176d",
      "metadata": {
        "id": "1258176d"
      },
      "source": [
        "#### Cargamos el archivo"
      ]
    },
    {
      "cell_type": "code",
      "source": [
        "from google.colab import files\n",
        "uploaded = files.upload()  # Te mostrará un botón para seleccionar el archivo Video_Games.csv"
      ],
      "metadata": {
        "colab": {
          "base_uri": "https://localhost:8080/",
          "height": 71
        },
        "id": "PzJw5hmjEDwu",
        "outputId": "8513710a-6c88-4ab5-84dd-9740a0453c71"
      },
      "id": "PzJw5hmjEDwu",
      "execution_count": null,
      "outputs": [
        {
          "output_type": "display_data",
          "data": {
            "text/plain": [
              "<IPython.core.display.HTML object>"
            ],
            "text/html": [
              "\n",
              "     <input type=\"file\" id=\"files-b6afe1b1-cc7e-48ec-9550-64a264dfdb47\" name=\"files[]\" multiple disabled\n",
              "        style=\"border:none\" />\n",
              "     <output id=\"result-b6afe1b1-cc7e-48ec-9550-64a264dfdb47\">\n",
              "      Upload widget is only available when the cell has been executed in the\n",
              "      current browser session. Please rerun this cell to enable.\n",
              "      </output>\n",
              "      <script>// Copyright 2017 Google LLC\n",
              "//\n",
              "// Licensed under the Apache License, Version 2.0 (the \"License\");\n",
              "// you may not use this file except in compliance with the License.\n",
              "// You may obtain a copy of the License at\n",
              "//\n",
              "//      http://www.apache.org/licenses/LICENSE-2.0\n",
              "//\n",
              "// Unless required by applicable law or agreed to in writing, software\n",
              "// distributed under the License is distributed on an \"AS IS\" BASIS,\n",
              "// WITHOUT WARRANTIES OR CONDITIONS OF ANY KIND, either express or implied.\n",
              "// See the License for the specific language governing permissions and\n",
              "// limitations under the License.\n",
              "\n",
              "/**\n",
              " * @fileoverview Helpers for google.colab Python module.\n",
              " */\n",
              "(function(scope) {\n",
              "function span(text, styleAttributes = {}) {\n",
              "  const element = document.createElement('span');\n",
              "  element.textContent = text;\n",
              "  for (const key of Object.keys(styleAttributes)) {\n",
              "    element.style[key] = styleAttributes[key];\n",
              "  }\n",
              "  return element;\n",
              "}\n",
              "\n",
              "// Max number of bytes which will be uploaded at a time.\n",
              "const MAX_PAYLOAD_SIZE = 100 * 1024;\n",
              "\n",
              "function _uploadFiles(inputId, outputId) {\n",
              "  const steps = uploadFilesStep(inputId, outputId);\n",
              "  const outputElement = document.getElementById(outputId);\n",
              "  // Cache steps on the outputElement to make it available for the next call\n",
              "  // to uploadFilesContinue from Python.\n",
              "  outputElement.steps = steps;\n",
              "\n",
              "  return _uploadFilesContinue(outputId);\n",
              "}\n",
              "\n",
              "// This is roughly an async generator (not supported in the browser yet),\n",
              "// where there are multiple asynchronous steps and the Python side is going\n",
              "// to poll for completion of each step.\n",
              "// This uses a Promise to block the python side on completion of each step,\n",
              "// then passes the result of the previous step as the input to the next step.\n",
              "function _uploadFilesContinue(outputId) {\n",
              "  const outputElement = document.getElementById(outputId);\n",
              "  const steps = outputElement.steps;\n",
              "\n",
              "  const next = steps.next(outputElement.lastPromiseValue);\n",
              "  return Promise.resolve(next.value.promise).then((value) => {\n",
              "    // Cache the last promise value to make it available to the next\n",
              "    // step of the generator.\n",
              "    outputElement.lastPromiseValue = value;\n",
              "    return next.value.response;\n",
              "  });\n",
              "}\n",
              "\n",
              "/**\n",
              " * Generator function which is called between each async step of the upload\n",
              " * process.\n",
              " * @param {string} inputId Element ID of the input file picker element.\n",
              " * @param {string} outputId Element ID of the output display.\n",
              " * @return {!Iterable<!Object>} Iterable of next steps.\n",
              " */\n",
              "function* uploadFilesStep(inputId, outputId) {\n",
              "  const inputElement = document.getElementById(inputId);\n",
              "  inputElement.disabled = false;\n",
              "\n",
              "  const outputElement = document.getElementById(outputId);\n",
              "  outputElement.innerHTML = '';\n",
              "\n",
              "  const pickedPromise = new Promise((resolve) => {\n",
              "    inputElement.addEventListener('change', (e) => {\n",
              "      resolve(e.target.files);\n",
              "    });\n",
              "  });\n",
              "\n",
              "  const cancel = document.createElement('button');\n",
              "  inputElement.parentElement.appendChild(cancel);\n",
              "  cancel.textContent = 'Cancel upload';\n",
              "  const cancelPromise = new Promise((resolve) => {\n",
              "    cancel.onclick = () => {\n",
              "      resolve(null);\n",
              "    };\n",
              "  });\n",
              "\n",
              "  // Wait for the user to pick the files.\n",
              "  const files = yield {\n",
              "    promise: Promise.race([pickedPromise, cancelPromise]),\n",
              "    response: {\n",
              "      action: 'starting',\n",
              "    }\n",
              "  };\n",
              "\n",
              "  cancel.remove();\n",
              "\n",
              "  // Disable the input element since further picks are not allowed.\n",
              "  inputElement.disabled = true;\n",
              "\n",
              "  if (!files) {\n",
              "    return {\n",
              "      response: {\n",
              "        action: 'complete',\n",
              "      }\n",
              "    };\n",
              "  }\n",
              "\n",
              "  for (const file of files) {\n",
              "    const li = document.createElement('li');\n",
              "    li.append(span(file.name, {fontWeight: 'bold'}));\n",
              "    li.append(span(\n",
              "        `(${file.type || 'n/a'}) - ${file.size} bytes, ` +\n",
              "        `last modified: ${\n",
              "            file.lastModifiedDate ? file.lastModifiedDate.toLocaleDateString() :\n",
              "                                    'n/a'} - `));\n",
              "    const percent = span('0% done');\n",
              "    li.appendChild(percent);\n",
              "\n",
              "    outputElement.appendChild(li);\n",
              "\n",
              "    const fileDataPromise = new Promise((resolve) => {\n",
              "      const reader = new FileReader();\n",
              "      reader.onload = (e) => {\n",
              "        resolve(e.target.result);\n",
              "      };\n",
              "      reader.readAsArrayBuffer(file);\n",
              "    });\n",
              "    // Wait for the data to be ready.\n",
              "    let fileData = yield {\n",
              "      promise: fileDataPromise,\n",
              "      response: {\n",
              "        action: 'continue',\n",
              "      }\n",
              "    };\n",
              "\n",
              "    // Use a chunked sending to avoid message size limits. See b/62115660.\n",
              "    let position = 0;\n",
              "    do {\n",
              "      const length = Math.min(fileData.byteLength - position, MAX_PAYLOAD_SIZE);\n",
              "      const chunk = new Uint8Array(fileData, position, length);\n",
              "      position += length;\n",
              "\n",
              "      const base64 = btoa(String.fromCharCode.apply(null, chunk));\n",
              "      yield {\n",
              "        response: {\n",
              "          action: 'append',\n",
              "          file: file.name,\n",
              "          data: base64,\n",
              "        },\n",
              "      };\n",
              "\n",
              "      let percentDone = fileData.byteLength === 0 ?\n",
              "          100 :\n",
              "          Math.round((position / fileData.byteLength) * 100);\n",
              "      percent.textContent = `${percentDone}% done`;\n",
              "\n",
              "    } while (position < fileData.byteLength);\n",
              "  }\n",
              "\n",
              "  // All done.\n",
              "  yield {\n",
              "    response: {\n",
              "      action: 'complete',\n",
              "    }\n",
              "  };\n",
              "}\n",
              "\n",
              "scope.google = scope.google || {};\n",
              "scope.google.colab = scope.google.colab || {};\n",
              "scope.google.colab._files = {\n",
              "  _uploadFiles,\n",
              "  _uploadFilesContinue,\n",
              "};\n",
              "})(self);\n",
              "</script> "
            ]
          },
          "metadata": {}
        },
        {
          "output_type": "stream",
          "name": "stdout",
          "text": [
            "Saving Video_Games.csv to Video_Games.csv\n"
          ]
        }
      ]
    },
    {
      "cell_type": "code",
      "execution_count": null,
      "id": "da255bdd",
      "metadata": {
        "colab": {
          "base_uri": "https://localhost:8080/"
        },
        "id": "da255bdd",
        "outputId": "e0fb0120-f36a-4b53-ab71-2369774a370b"
      },
      "outputs": [
        {
          "output_type": "stream",
          "name": "stdout",
          "text": [
            "Tamaño total del dataset: (2565349, 3)\n"
          ]
        }
      ],
      "source": [
        "df = pd.read_csv(\"Video_Games.csv\", header=None)\n",
        "\n",
        "df.columns = ['item_id', 'user_id', 'rating', 'timestamp']\n",
        "\n",
        "df = df.drop('timestamp', axis=1)\n",
        "\n",
        "print(f\"Tamaño total del dataset: {df.shape}\")"
      ]
    },
    {
      "cell_type": "markdown",
      "source": [
        "El método de knn es el que más problemas nos ha dado en cuanto a tiempos de ejecución por tanto vamos a filtrarlo a usuarios que tengan minimo 30 ratings llegnado a un total de 10000 usuarios como máximo"
      ],
      "metadata": {
        "id": "PkA_J1xfhJB3"
      },
      "id": "PkA_J1xfhJB3"
    },
    {
      "cell_type": "code",
      "execution_count": null,
      "id": "0e0bf6cd",
      "metadata": {
        "colab": {
          "base_uri": "https://localhost:8080/"
        },
        "id": "0e0bf6cd",
        "outputId": "d3462fc2-4248-4784-89ab-17814b8afb3d"
      },
      "outputs": [
        {
          "output_type": "stream",
          "name": "stdout",
          "text": [
            "Seleccionados 1579 usuarios con al menos 30 ratings cada uno\n",
            "Tamaño del dataset filtrado: (84541, 3)\n"
          ]
        }
      ],
      "source": [
        "top_n_users = 10000 # Maximo de usuarios con los que queremos trabajar\n",
        "min_ratings = 30   # Usuarios con al menos este número de ratings\n",
        "user_counts = df['user_id'].value_counts()\n",
        "\n",
        "dense_users = user_counts[user_counts >= min_ratings].index.tolist()\n",
        "\n",
        "if len(dense_users) > top_n_users:\n",
        "    dense_users = dense_users[:top_n_users]\n",
        "\n",
        "print(f\"Seleccionados {len(dense_users)} usuarios con al menos {min_ratings} ratings cada uno\")\n",
        "\n",
        "df_dense = df[df['user_id'].isin(dense_users)]\n",
        "\n",
        "print(f\"Tamaño del dataset filtrado: {df_dense.shape}\")"
      ]
    },
    {
      "cell_type": "markdown",
      "source": [
        "Hacemos una función que garantice la presencia tanto de usuarios como de items de test al menos una vez en train"
      ],
      "metadata": {
        "id": "28UjGWmAiE00"
      },
      "id": "28UjGWmAiE00"
    },
    {
      "cell_type": "code",
      "execution_count": null,
      "id": "28f8519e",
      "metadata": {
        "colab": {
          "base_uri": "https://localhost:8080/"
        },
        "id": "28f8519e",
        "outputId": "774ebfe6-7d71-461a-c5fd-a176dd9f2e7f"
      },
      "outputs": [
        {
          "output_type": "stream",
          "name": "stdout",
          "text": [
            "Tamaño del conjunto de entrenamiento: (67632, 3)\n",
            "Tamaño del conjunto de prueba: (14478, 3)\n"
          ]
        }
      ],
      "source": [
        "def random_split(data, test_ratio=0.2, random_state=42):\n",
        "    data_shuffled = data.sample(frac=1, random_state=random_state)\n",
        "\n",
        "    split = int(len(data) * (1 - test_ratio))\n",
        "\n",
        "    train = data_shuffled.iloc[:split]\n",
        "    test = data_shuffled.iloc[split:]\n",
        "\n",
        "    train_users = set(train['user_id'].unique())\n",
        "    train_items = set(train['item_id'].unique())\n",
        "    test = test[test['user_id'].isin(train_users) & test['item_id'].isin(train_items)]\n",
        "\n",
        "    return train, test\n",
        "\n",
        "train_data, test_data = random_split(df_dense)\n",
        "print(f\"Tamaño del conjunto de entrenamiento: {train_data.shape}\")\n",
        "print(f\"Tamaño del conjunto de prueba: {test_data.shape}\")\n",
        "\n",
        "train_users = set(train_data['user_id'].unique())\n",
        "train_items = set(train_data['item_id'].unique())\n",
        "common_users = len(train_users.intersection(set(test_data['user_id'].unique())))\n",
        "common_items = len(train_items.intersection(set(test_data['item_id'].unique())))"
      ]
    },
    {
      "cell_type": "markdown",
      "id": "91eb2080",
      "metadata": {
        "id": "91eb2080"
      },
      "source": [
        "#### Creación de matrices"
      ]
    },
    {
      "cell_type": "markdown",
      "id": "b804c164",
      "metadata": {
        "id": "b804c164"
      },
      "source": [
        "Mapeos de IDs para no perder informacion"
      ]
    },
    {
      "cell_type": "code",
      "execution_count": null,
      "id": "74615fb8",
      "metadata": {
        "colab": {
          "base_uri": "https://localhost:8080/"
        },
        "id": "74615fb8",
        "outputId": "2e4301fd-a5e1-43a6-8f61-5894b673676e"
      },
      "outputs": [
        {
          "output_type": "stream",
          "name": "stdout",
          "text": [
            "Usuarios: 1579, Items: 20340\n"
          ]
        }
      ],
      "source": [
        "train_users_list = train_data['user_id'].unique()\n",
        "train_items_list = train_data['item_id'].unique()\n",
        "\n",
        "user2idx = {user_id: idx for idx, user_id in enumerate(train_users_list)}\n",
        "item2idx = {item_id: idx for idx, item_id in enumerate(train_items_list)}\n",
        "\n",
        "idx2user = {idx: user for user, idx in user2idx.items()}\n",
        "idx2item = {idx: item for item, idx in item2idx.items()}\n",
        "\n",
        "NUM_USERS = len(user2idx)\n",
        "NUM_ITEMS = len(item2idx)\n",
        "MIN_RATING = df['rating'].min()\n",
        "MAX_RATING = df['rating'].max()\n",
        "\n",
        "print(f\"Usuarios: {NUM_USERS}, Items: {NUM_ITEMS}\")"
      ]
    },
    {
      "cell_type": "markdown",
      "id": "2bf507f9",
      "metadata": {
        "id": "2bf507f9"
      },
      "source": [
        "Matriz de train sparse"
      ]
    },
    {
      "cell_type": "code",
      "execution_count": null,
      "id": "aaa0026b",
      "metadata": {
        "id": "aaa0026b"
      },
      "outputs": [],
      "source": [
        "train_matrix = sp.lil_matrix((NUM_USERS, NUM_ITEMS))\n",
        "\n",
        "for _, row in train_data.iterrows():\n",
        "    if row['user_id'] in user2idx and row['item_id'] in item2idx:\n",
        "        u_idx = user2idx[row['user_id']]\n",
        "        i_idx = item2idx[row['item_id']]\n",
        "        train_matrix[u_idx, i_idx] = row['rating']\n",
        "\n",
        "# Convertimos la matriz a su formato CSR para mejorar en eficiencia\n",
        "train_matrix = train_matrix.tocsr()"
      ]
    },
    {
      "cell_type": "markdown",
      "id": "ec34660c",
      "metadata": {
        "id": "ec34660c"
      },
      "source": [
        "Matriz de test sparse"
      ]
    },
    {
      "cell_type": "code",
      "execution_count": null,
      "id": "5ad8d3fa",
      "metadata": {
        "id": "5ad8d3fa"
      },
      "outputs": [],
      "source": [
        "test_matrix = sp.lil_matrix((NUM_USERS, NUM_ITEMS))\n",
        "\n",
        "for _, row in test_data.iterrows():\n",
        "    if row['user_id'] in user2idx and row['item_id'] in item2idx:\n",
        "        u_idx = user2idx[row['user_id']]\n",
        "        i_idx = item2idx[row['item_id']]\n",
        "        test_matrix[u_idx, i_idx] = row['rating']\n",
        "\n",
        "#El mismo motivo que antes\n",
        "test_matrix = test_matrix.tocsr()"
      ]
    },
    {
      "cell_type": "markdown",
      "id": "db615b04",
      "metadata": {
        "id": "db615b04"
      },
      "source": [
        "#### Cáclulo de similaridad"
      ]
    },
    {
      "cell_type": "markdown",
      "id": "4b4da7e8",
      "metadata": {
        "id": "4b4da7e8"
      },
      "source": [
        "Adaptamos las funciones de similaridad implementadas en clase a nuestro caso"
      ]
    },
    {
      "cell_type": "markdown",
      "source": [
        "Correlation similarity"
      ],
      "metadata": {
        "id": "VRD69BNvj5Uc"
      },
      "id": "VRD69BNvj5Uc"
    },
    {
      "cell_type": "code",
      "execution_count": null,
      "id": "4abedc1b",
      "metadata": {
        "id": "4abedc1b"
      },
      "outputs": [],
      "source": [
        "def correlation_similarity(u, v):\n",
        "    if u == v:\n",
        "        return sp.identity(NUM_USERS, format='csr')\n",
        "\n",
        "    u_items = set(train_matrix[u].indices)\n",
        "    v_items = set(train_matrix[v].indices)\n",
        "    common_items = u_items.intersection(v_items)\n",
        "\n",
        "    if len(common_items) < 2:\n",
        "        return sp.csr_matrix((1, NUM_USERS))\n",
        "\n",
        "    u_ratings = [train_matrix[u, i] for i in common_items]\n",
        "    v_ratings = [train_matrix[v, i] for i in common_items]\n",
        "\n",
        "    avg_u = np.mean(u_ratings) if len(u_ratings) > 0 else 0\n",
        "    avg_v = np.mean(v_ratings) if len(v_ratings) > 0 else 0\n",
        "\n",
        "    num = 0\n",
        "    den_u = 0\n",
        "    den_v = 0\n",
        "\n",
        "    for i in common_items:\n",
        "        r_u = float(train_matrix[u, i])\n",
        "        r_v = float(train_matrix[v, i])\n",
        "\n",
        "        num += (r_u - avg_u) * (r_v - avg_v)\n",
        "        den_u += (r_u - avg_u) ** 2\n",
        "        den_v += (r_v - avg_v) ** 2\n",
        "\n",
        "    if num == 0 or den_u == 0 or den_v == 0:\n",
        "        return sp.csr_matrix((1, NUM_USERS))\n",
        "\n",
        "    sim = num / (np.sqrt(den_u) * np.sqrt(den_v))\n",
        "\n",
        "    return sp.csr_matrix(([sim], ([0], [v])), shape=(1, NUM_USERS))"
      ]
    },
    {
      "cell_type": "markdown",
      "id": "3eaf7fa9",
      "metadata": {
        "id": "3eaf7fa9"
      },
      "source": [
        "jmsd similarity"
      ]
    },
    {
      "cell_type": "code",
      "execution_count": null,
      "id": "da4ee827",
      "metadata": {
        "id": "da4ee827"
      },
      "outputs": [],
      "source": [
        "def jmsd_similarity(u, v):\n",
        "    if u == v:\n",
        "        return sp.identity(NUM_USERS, format='csr')\n",
        "\n",
        "    u_items = set(train_matrix[u].indices)\n",
        "    v_items = set(train_matrix[v].indices)\n",
        "    common_items = u_items.intersection(v_items)\n",
        "    all_items = u_items.union(v_items)\n",
        "\n",
        "    intersection = len(common_items)\n",
        "    union = len(all_items)\n",
        "\n",
        "    if intersection == 0:\n",
        "        return sp.csr_matrix((1, NUM_USERS))\n",
        "\n",
        "    rating_range = MAX_RATING - MIN_RATING\n",
        "\n",
        "    diff_sum = 0\n",
        "    for i in common_items:\n",
        "        # Normalizamos las calificaciones\n",
        "        r_u = (float(train_matrix[u, i]) - MIN_RATING) / rating_range\n",
        "        r_v = (float(train_matrix[v, i]) - MIN_RATING) / rating_range\n",
        "\n",
        "        diff_sum += (r_u - r_v) ** 2\n",
        "\n",
        "    msd = diff_sum / intersection\n",
        "    jaccard = intersection / union\n",
        "\n",
        "    sim = jaccard * (1 - msd)\n",
        "\n",
        "    return sp.csr_matrix(([sim], ([0], [v])), shape=(1, NUM_USERS))"
      ]
    },
    {
      "cell_type": "markdown",
      "id": "83f47d60",
      "metadata": {
        "id": "83f47d60"
      },
      "source": [
        "Hacemos un pequeño test para comprobar que funciona.  \n",
        "En la mayoria de casos da 0.0, aunque de vez en cuando encuentra usuarios con algo de similaridad.  \n",
        "Esto ocurre porque nuestro dataset es bastante disperso"
      ]
    },
    {
      "cell_type": "code",
      "execution_count": null,
      "id": "1c731389",
      "metadata": {
        "colab": {
          "base_uri": "https://localhost:8080/"
        },
        "id": "1c731389",
        "outputId": "a278bc35-c745-49da-c7a0-851ca9cea6f3"
      },
      "outputs": [
        {
          "output_type": "stream",
          "name": "stdout",
          "text": [
            "Similitud entre usuario A3HLAESZGUFBAV y AREYISJYIH9L3: Correlación = 0.000000, JMSD = 0.037162\n"
          ]
        }
      ],
      "source": [
        "u, v = random.randint(0, NUM_USERS-1), random.randint(0, NUM_USERS-1)\n",
        "corr_sim = correlation_similarity(u, v)[0, v] if u != v else 1.0\n",
        "jmsd_sim = jmsd_similarity(u, v)[0, v] if u != v else 1.0\n",
        "print(f\"Similitud entre usuario {idx2user[u]} y {idx2user[v]}: Correlación = {corr_sim:.6f}, JMSD = {jmsd_sim:.6f}\")"
      ]
    },
    {
      "cell_type": "markdown",
      "id": "30c735bc",
      "metadata": {
        "id": "30c735bc"
      },
      "source": [
        "#### Obtener vecinos"
      ]
    },
    {
      "cell_type": "code",
      "execution_count": null,
      "id": "6da05d70",
      "metadata": {
        "id": "6da05d70"
      },
      "outputs": [],
      "source": [
        "def get_neighbors(u, similarities):\n",
        "    k = 25\n",
        "    neighbors = []\n",
        "\n",
        "    for v, sim in enumerate(similarities):\n",
        "        if v != u and sim is not None:\n",
        "            if sim.nnz > 0:\n",
        "                sim_value = sim[0, v]\n",
        "                neighbors.append((v, sim_value))\n",
        "\n",
        "    neighbors.sort(key=lambda x: x[1], reverse=True)\n",
        "    return neighbors[:k]"
      ]
    },
    {
      "cell_type": "code",
      "execution_count": null,
      "id": "8d77f302",
      "metadata": {
        "colab": {
          "base_uri": "https://localhost:8080/"
        },
        "id": "8d77f302",
        "outputId": "6fdcc0c0-6155-44fd-bdee-53f535d674b0"
      },
      "outputs": [
        {
          "output_type": "stream",
          "name": "stdout",
          "text": [
            "[(302, np.float64(1.0)), (523, np.float64(1.0)), (1438, np.float64(1.0)), (1299, np.float64(0.9999999999999998)), (802, np.float64(-0.30151134457776363)), (536, np.float64(-0.9999999999999998))]\n",
            "[(1366, np.float64(0.14893617021276595)), (1085, np.float64(0.07407407407407407)), (1564, np.float64(0.07352941176470588)), (728, np.float64(0.06976744186046512)), (295, np.float64(0.057692307692307696)), (824, np.float64(0.05263157894736842)), (1438, np.float64(0.04662698412698412)), (345, np.float64(0.045454545454545456)), (981, np.float64(0.044444444444444446)), (1556, np.float64(0.043478260869565216)), (778, np.float64(0.04196428571428571)), (304, np.float64(0.041666666666666664)), (798, np.float64(0.041666666666666664)), (57, np.float64(0.04)), (802, np.float64(0.036989795918367346)), (560, np.float64(0.03529411764705882)), (14, np.float64(0.03508771929824561)), (1027, np.float64(0.034482758620689655)), (326, np.float64(0.03409090909090909)), (458, np.float64(0.03076923076923077)), (52, np.float64(0.03013392857142857)), (1299, np.float64(0.029094827586206896)), (315, np.float64(0.028225806451612902)), (858, np.float64(0.02702702702702703)), (1169, np.float64(0.023343373493975906))]\n"
          ]
        }
      ],
      "source": [
        "u = 12\n",
        "similarities_corr = [None if u == v else correlation_similarity(u, v) for v in range(NUM_USERS)]\n",
        "similarities_jmsd = [None if u == v else jmsd_similarity(u, v) for v in range(NUM_USERS)]\n",
        "neighbors_corr = get_neighbors(u, similarities_corr)\n",
        "neighbors_jmsd = get_neighbors(u, similarities_jmsd)\n",
        "print(neighbors_corr)\n",
        "print(neighbors_jmsd)"
      ]
    },
    {
      "cell_type": "markdown",
      "id": "67852cb8",
      "metadata": {
        "id": "67852cb8"
      },
      "source": [
        "#### Estimación de las predicciones\n",
        "En el caso de que no haya los suficientes datos, se devolverá la media global del item. Es un término conocido como 'fallback' que se usa en casos reales"
      ]
    },
    {
      "cell_type": "markdown",
      "id": "8d3479fa",
      "metadata": {
        "id": "8d3479fa"
      },
      "source": [
        "Media del item"
      ]
    },
    {
      "cell_type": "code",
      "execution_count": null,
      "id": "51ab454f",
      "metadata": {
        "id": "51ab454f"
      },
      "outputs": [],
      "source": [
        "def global_average(i):\n",
        "    users_who_rated = [u for u in range(NUM_USERS) if train_matrix[u, i] != 0]\n",
        "    if users_who_rated:\n",
        "        return sum(train_matrix[u, i] for u in users_who_rated) / len(users_who_rated)\n",
        "    return 3.0"
      ]
    },
    {
      "cell_type": "markdown",
      "id": "741c4056",
      "metadata": {
        "id": "741c4056"
      },
      "source": [
        "Media"
      ]
    },
    {
      "cell_type": "code",
      "execution_count": null,
      "id": "f82b063c",
      "metadata": {
        "id": "f82b063c"
      },
      "outputs": [],
      "source": [
        "def average_prediction(u, i, neighbors):\n",
        "    count = 0\n",
        "    sum_ratings = 0\n",
        "\n",
        "    for v, _ in neighbors:\n",
        "        if train_matrix[v, i] != 0:\n",
        "            sum_ratings += train_matrix[v, i]\n",
        "            count += 1\n",
        "\n",
        "    if count > 0:\n",
        "        return sum_ratings / count\n",
        "\n",
        "    return global_average(i)"
      ]
    },
    {
      "cell_type": "code",
      "execution_count": null,
      "id": "4bf3fabd",
      "metadata": {
        "colab": {
          "base_uri": "https://localhost:8080/"
        },
        "id": "4bf3fabd",
        "outputId": "8d784ba0-b37a-4b25-c8a9-ba180478ffc0"
      },
      "outputs": [
        {
          "output_type": "stream",
          "name": "stdout",
          "text": [
            "3.6666666666666665\n",
            "5.0\n"
          ]
        }
      ],
      "source": [
        "u = 1\n",
        "i = 14\n",
        "predicted_corr = average_prediction(u, i, neighbors_corr)\n",
        "predicted_jmsd = average_prediction(u, i, neighbors_jmsd)\n",
        "print(predicted_corr)\n",
        "print(predicted_jmsd)"
      ]
    },
    {
      "cell_type": "markdown",
      "id": "aee81a15",
      "metadata": {
        "id": "aee81a15"
      },
      "source": [
        "Media ponderada"
      ]
    },
    {
      "cell_type": "code",
      "execution_count": null,
      "id": "3c46893f",
      "metadata": {
        "id": "3c46893f"
      },
      "outputs": [],
      "source": [
        "def weighted_average_prediction(u, i, neighbors):\n",
        "    numerator = 0\n",
        "    denominator = 0\n",
        "\n",
        "    for v, sim in neighbors:\n",
        "        if train_matrix[v, i] != 0:\n",
        "            numerator += sim * train_matrix[v, i]\n",
        "            denominator += abs(sim)\n",
        "\n",
        "    if denominator > 0:\n",
        "        return numerator / denominator\n",
        "\n",
        "    return global_average(i)"
      ]
    },
    {
      "cell_type": "code",
      "execution_count": null,
      "id": "cc7263b2",
      "metadata": {
        "colab": {
          "base_uri": "https://localhost:8080/"
        },
        "id": "cc7263b2",
        "outputId": "c9951752-b30e-41fe-e6da-5c7f4afd2b81"
      },
      "outputs": [
        {
          "output_type": "stream",
          "name": "stdout",
          "text": [
            "4.2\n",
            "5.0\n"
          ]
        }
      ],
      "source": [
        "u = 1\n",
        "i = 26\n",
        "predicted_corr = weighted_average_prediction(u, i, neighbors_corr)\n",
        "predicted_jmsd = weighted_average_prediction(u, i, neighbors_jmsd)\n",
        "print(predicted_corr)\n",
        "print(predicted_jmsd)"
      ]
    },
    {
      "cell_type": "markdown",
      "id": "92dca611",
      "metadata": {
        "id": "92dca611"
      },
      "source": [
        "Media de agregación"
      ]
    },
    {
      "cell_type": "code",
      "execution_count": null,
      "id": "6b8ef98b",
      "metadata": {
        "id": "6b8ef98b"
      },
      "outputs": [],
      "source": [
        "def deviation_from_mean_prediction(u, i, neighbors):\n",
        "    u_ratings = train_matrix[u].data\n",
        "    avg_u = np.mean(u_ratings) if len(u_ratings) > 0 else global_average(i)\n",
        "\n",
        "    sum_deviation = 0\n",
        "    count = 0\n",
        "\n",
        "    for v, _ in neighbors:\n",
        "        if train_matrix[v, i] != 0:\n",
        "            v_ratings = train_matrix[v].data\n",
        "            avg_v = np.mean(v_ratings) if len(v_ratings) > 0 else 0\n",
        "\n",
        "            sum_deviation += (train_matrix[v, i] - avg_v)\n",
        "            count += 1\n",
        "\n",
        "    if count > 0:\n",
        "        prediction = avg_u + (sum_deviation / count)\n",
        "        return prediction\n",
        "\n",
        "    return global_average(i)"
      ]
    },
    {
      "cell_type": "code",
      "execution_count": null,
      "id": "5919fe72",
      "metadata": {
        "colab": {
          "base_uri": "https://localhost:8080/"
        },
        "id": "5919fe72",
        "outputId": "40333a2c-4e87-424b-e865-f4ebd93b0cb5"
      },
      "outputs": [
        {
          "output_type": "stream",
          "name": "stdout",
          "text": [
            "4.44\n",
            "4.854804448331876\n"
          ]
        }
      ],
      "source": [
        "u = 1\n",
        "i = 32\n",
        "predicted_corr = deviation_from_mean_prediction(u, i, neighbors_corr)\n",
        "predicted_jmsd = deviation_from_mean_prediction(u, i, neighbors_jmsd)\n",
        "print(predicted_corr)\n",
        "print(predicted_jmsd)"
      ]
    },
    {
      "cell_type": "markdown",
      "id": "16e67fff",
      "metadata": {
        "id": "16e67fff"
      },
      "source": [
        "#### Calculo de recomendaciones"
      ]
    },
    {
      "cell_type": "code",
      "execution_count": null,
      "id": "77f54b2a",
      "metadata": {
        "id": "77f54b2a"
      },
      "outputs": [],
      "source": [
        "def get_recommendations(predictions):\n",
        "    recommendations = [None for _ in range(len(predictions))]\n",
        "\n",
        "    for n in range(len(predictions)):\n",
        "        max_value = None\n",
        "        item = None\n",
        "\n",
        "        for i, value in enumerate(predictions[n]):\n",
        "            if value is not None and (max_value is None or value > max_value):\n",
        "                max_value = value\n",
        "                item = i\n",
        "\n",
        "        recommendations[n] = item\n",
        "\n",
        "    return recommendations"
      ]
    },
    {
      "cell_type": "code",
      "execution_count": null,
      "id": "766e1e7c",
      "metadata": {
        "id": "766e1e7c"
      },
      "outputs": [],
      "source": [
        "N = 5 #Vamos a usar 5 usuarios para mostrar recomendaciones\n",
        "M = NUM_ITEMS\n",
        "\n",
        "test_users = random.sample(range(NUM_USERS), N)\n",
        "\n",
        "neighbors_corr = {}\n",
        "neighbors_jmsd = {}\n",
        "for u in test_users:\n",
        "    similarities_corr = [None if u == v else correlation_similarity(u, v) for v in range(NUM_USERS)]\n",
        "    similarities_jmsd = [None if u == v else jmsd_similarity(u, v) for v in range(NUM_USERS)]\n",
        "    neighbors_corr[u] = get_neighbors(u, similarities_corr)\n",
        "    neighbors_jmsd[u] = get_neighbors(u, similarities_jmsd)"
      ]
    },
    {
      "cell_type": "markdown",
      "source": [
        "Decidimos que haga la recomendación con 100 items ya que lo considerabamos una muestra aceptable. Si no nos resultaba inviable con todos (20.000)."
      ],
      "metadata": {
        "id": "LuJeIaGxmDne"
      },
      "id": "LuJeIaGxmDne"
    },
    {
      "cell_type": "code",
      "execution_count": null,
      "id": "56cf1ba9",
      "metadata": {
        "id": "56cf1ba9"
      },
      "outputs": [],
      "source": [
        "avg_predictions_corr = [[None if train_matrix[u, i] != 0 else average_prediction(u, i, neighbors_corr[u])\n",
        "                        for i in range(100)] for u in test_users]\n",
        "avg_predictions_jmsd = [[None if train_matrix[u, i] != 0 else average_prediction(u, i, neighbors_jmsd[u])\n",
        "                        for i in range(100)] for u in test_users]\n",
        "\n",
        "wavg_predictions_corr = [[None if train_matrix[u, i] != 0 else weighted_average_prediction(u, i, neighbors_corr[u])\n",
        "                        for i in range(100)] for u in test_users]\n",
        "wavg_predictions_jmsd = [[None if train_matrix[u, i] != 0 else weighted_average_prediction(u, i, neighbors_jmsd[u])\n",
        "                        for i in range(100)] for u in test_users]\n",
        "\n",
        "dfm_predictions_corr = [[None if train_matrix[u, i] != 0 else deviation_from_mean_prediction(u, i, neighbors_corr[u])\n",
        "                        for i in range(100)] for u in test_users]\n",
        "dfm_predictions_jmsd = [[None if train_matrix[u, i] != 0 else deviation_from_mean_prediction(u, i, neighbors_jmsd[u])\n",
        "                        for i in range(100)] for u in test_users]"
      ]
    },
    {
      "cell_type": "code",
      "execution_count": null,
      "id": "eb76e519",
      "metadata": {
        "colab": {
          "base_uri": "https://localhost:8080/"
        },
        "id": "eb76e519",
        "outputId": "ad273c05-977f-47bf-8ecf-c7a8ab4cfb08"
      },
      "outputs": [
        {
          "output_type": "stream",
          "name": "stdout",
          "text": [
            "[0, 0, 0, 0, 0]\n",
            "[0, 0, 0, 0, 0]\n",
            "[0, 0, 0, 0, 0]\n",
            "[0, 0, 28, 0, 55]\n",
            "[0, 54, 25, 86, 90]\n",
            "[0, 41, 0, 10, 90]\n"
          ]
        }
      ],
      "source": [
        "recommendations_avg_corr = get_recommendations(avg_predictions_corr)\n",
        "recommendations_avg_jmsd = get_recommendations(avg_predictions_jmsd)\n",
        "recommendations_wavg_corr = get_recommendations(wavg_predictions_corr)\n",
        "recommendations_wavg_jmsd = get_recommendations(wavg_predictions_jmsd)\n",
        "recommendations_dfm_corr = get_recommendations(dfm_predictions_corr)\n",
        "recommendations_dfm_jmsd = get_recommendations(dfm_predictions_jmsd)\n",
        "\n",
        "print(recommendations_avg_corr)\n",
        "print(recommendations_avg_jmsd)\n",
        "print(recommendations_wavg_corr)\n",
        "print(recommendations_wavg_jmsd)\n",
        "print(recommendations_dfm_corr)\n",
        "print(recommendations_dfm_jmsd)"
      ]
    },
    {
      "cell_type": "markdown",
      "id": "dd707d1e",
      "metadata": {
        "id": "dd707d1e"
      },
      "source": [
        "#### Calculo del MAE"
      ]
    },
    {
      "cell_type": "code",
      "execution_count": null,
      "id": "d51c023a",
      "metadata": {
        "id": "d51c023a"
      },
      "outputs": [],
      "source": [
        "def has_test_ratings(u):\n",
        "    return test_matrix[u].nnz > 0"
      ]
    },
    {
      "cell_type": "code",
      "execution_count": null,
      "id": "bfacb277",
      "metadata": {
        "colab": {
          "base_uri": "https://localhost:8080/"
        },
        "id": "bfacb277",
        "outputId": "ef19c067-51cd-4ce8-a197-98a4cc7f8434"
      },
      "outputs": [
        {
          "output_type": "stream",
          "name": "stdout",
          "text": [
            "0.00%\n",
            "0.06%\n",
            "0.13%\n",
            "0.19%\n",
            "0.25%\n",
            "0.32%\n",
            "0.38%\n",
            "0.44%\n",
            "0.51%\n",
            "0.57%\n",
            "0.63%\n",
            "0.70%\n",
            "0.76%\n",
            "0.82%\n",
            "0.89%\n",
            "0.95%\n",
            "1.01%\n",
            "1.08%\n",
            "1.14%\n",
            "1.20%\n",
            "1.27%\n",
            "1.33%\n",
            "1.39%\n",
            "1.46%\n",
            "1.52%\n",
            "1.58%\n",
            "1.65%\n",
            "1.71%\n",
            "1.77%\n",
            "1.84%\n",
            "1.90%\n",
            "1.96%\n",
            "2.03%\n",
            "2.09%\n",
            "2.15%\n",
            "2.22%\n",
            "2.28%\n",
            "2.34%\n",
            "2.41%\n",
            "2.47%\n",
            "2.53%\n",
            "2.60%\n",
            "2.66%\n",
            "2.72%\n",
            "2.79%\n",
            "2.85%\n",
            "2.91%\n",
            "2.98%\n",
            "3.04%\n",
            "3.10%\n",
            "3.17%\n",
            "3.23%\n",
            "3.29%\n",
            "3.36%\n",
            "3.42%\n",
            "3.48%\n",
            "3.55%\n",
            "3.61%\n",
            "3.67%\n",
            "3.74%\n",
            "3.80%\n",
            "3.86%\n",
            "3.93%\n",
            "3.99%\n",
            "4.05%\n",
            "4.12%\n",
            "4.18%\n",
            "4.24%\n",
            "4.31%\n",
            "4.37%\n",
            "4.43%\n",
            "4.50%\n",
            "4.56%\n",
            "4.62%\n",
            "4.69%\n",
            "4.75%\n",
            "4.81%\n",
            "4.88%\n",
            "4.94%\n",
            "5.00%\n",
            "5.07%\n",
            "5.13%\n",
            "5.19%\n",
            "5.26%\n",
            "5.32%\n",
            "5.38%\n",
            "5.45%\n",
            "5.51%\n",
            "5.57%\n",
            "5.64%\n",
            "5.70%\n",
            "5.76%\n",
            "5.83%\n",
            "5.89%\n",
            "5.95%\n",
            "6.02%\n",
            "6.08%\n",
            "6.14%\n",
            "6.21%\n",
            "6.27%\n",
            "6.33%\n",
            "6.40%\n",
            "6.46%\n",
            "6.52%\n",
            "6.59%\n",
            "6.65%\n",
            "6.71%\n",
            "6.78%\n",
            "6.84%\n",
            "6.90%\n",
            "6.97%\n",
            "7.03%\n",
            "7.09%\n",
            "7.16%\n",
            "7.22%\n",
            "7.28%\n",
            "7.35%\n",
            "7.41%\n",
            "7.47%\n",
            "7.54%\n",
            "7.60%\n",
            "7.66%\n",
            "7.73%\n",
            "7.79%\n",
            "7.85%\n",
            "7.92%\n",
            "7.98%\n",
            "8.04%\n",
            "8.11%\n",
            "8.17%\n",
            "8.23%\n",
            "8.30%\n",
            "8.36%\n",
            "8.42%\n",
            "8.49%\n",
            "8.55%\n",
            "8.61%\n",
            "8.68%\n",
            "8.74%\n",
            "8.80%\n",
            "8.87%\n",
            "8.93%\n",
            "8.99%\n",
            "9.06%\n",
            "9.12%\n",
            "9.18%\n",
            "9.25%\n",
            "9.31%\n",
            "9.37%\n",
            "9.44%\n",
            "9.50%\n",
            "9.56%\n",
            "9.63%\n",
            "9.69%\n",
            "9.75%\n",
            "9.82%\n",
            "9.88%\n",
            "9.94%\n",
            "10.01%\n",
            "10.07%\n",
            "10.13%\n",
            "10.20%\n",
            "10.26%\n",
            "10.32%\n",
            "10.39%\n",
            "10.45%\n",
            "10.51%\n",
            "10.58%\n",
            "10.64%\n",
            "10.70%\n",
            "10.77%\n",
            "10.83%\n",
            "10.89%\n",
            "10.96%\n",
            "11.02%\n",
            "11.08%\n",
            "11.15%\n",
            "11.21%\n",
            "11.27%\n",
            "11.34%\n",
            "11.40%\n",
            "11.46%\n",
            "11.53%\n",
            "11.59%\n",
            "11.65%\n",
            "11.72%\n",
            "11.78%\n",
            "11.84%\n",
            "11.91%\n",
            "11.97%\n",
            "12.03%\n",
            "12.10%\n",
            "12.16%\n",
            "12.22%\n",
            "12.29%\n",
            "12.35%\n",
            "12.41%\n",
            "12.48%\n",
            "12.54%\n",
            "12.60%\n",
            "12.67%\n",
            "12.73%\n",
            "12.79%\n",
            "12.86%\n",
            "12.92%\n",
            "12.98%\n",
            "13.05%\n",
            "13.11%\n",
            "13.17%\n",
            "13.24%\n",
            "13.30%\n",
            "13.36%\n",
            "13.43%\n",
            "13.49%\n",
            "13.55%\n",
            "13.62%\n",
            "13.68%\n",
            "13.74%\n",
            "13.81%\n",
            "13.87%\n",
            "13.93%\n",
            "14.00%\n",
            "14.06%\n",
            "14.12%\n",
            "14.19%\n",
            "14.25%\n",
            "14.31%\n",
            "14.38%\n",
            "14.44%\n",
            "14.50%\n",
            "14.57%\n",
            "14.63%\n",
            "14.69%\n",
            "14.76%\n",
            "14.82%\n",
            "14.88%\n",
            "14.95%\n",
            "15.01%\n",
            "15.07%\n",
            "15.14%\n",
            "15.20%\n",
            "15.26%\n",
            "15.33%\n",
            "15.39%\n",
            "15.45%\n",
            "15.52%\n",
            "15.58%\n",
            "15.64%\n",
            "15.71%\n",
            "15.77%\n",
            "15.83%\n",
            "15.90%\n",
            "15.96%\n",
            "16.02%\n",
            "16.09%\n",
            "16.15%\n",
            "16.21%\n",
            "16.28%\n",
            "16.34%\n",
            "16.40%\n",
            "16.47%\n",
            "16.53%\n",
            "16.59%\n",
            "16.66%\n",
            "16.72%\n",
            "16.78%\n",
            "16.85%\n",
            "16.91%\n",
            "16.97%\n",
            "17.04%\n",
            "17.10%\n",
            "17.16%\n",
            "17.23%\n",
            "17.29%\n",
            "17.35%\n",
            "17.42%\n",
            "17.48%\n",
            "17.54%\n",
            "17.61%\n",
            "17.67%\n",
            "17.73%\n",
            "17.80%\n",
            "17.86%\n",
            "17.92%\n",
            "17.99%\n",
            "18.05%\n",
            "18.11%\n",
            "18.18%\n",
            "18.24%\n",
            "18.30%\n",
            "18.37%\n",
            "18.43%\n",
            "18.49%\n",
            "18.56%\n",
            "18.62%\n",
            "18.68%\n",
            "18.75%\n",
            "18.81%\n",
            "18.87%\n",
            "18.94%\n",
            "19.00%\n",
            "19.06%\n",
            "19.13%\n",
            "19.19%\n",
            "19.25%\n",
            "19.32%\n",
            "19.38%\n",
            "19.44%\n",
            "19.51%\n",
            "19.57%\n",
            "19.63%\n",
            "19.70%\n",
            "19.76%\n",
            "19.82%\n",
            "19.89%\n",
            "19.95%\n",
            "20.01%\n",
            "20.08%\n",
            "20.14%\n",
            "20.20%\n",
            "20.27%\n",
            "20.33%\n",
            "20.39%\n",
            "20.46%\n",
            "20.52%\n",
            "20.58%\n",
            "20.65%\n",
            "20.71%\n",
            "20.77%\n",
            "20.84%\n",
            "20.90%\n",
            "20.96%\n",
            "21.03%\n",
            "21.09%\n",
            "21.15%\n",
            "21.22%\n",
            "21.28%\n",
            "21.34%\n",
            "21.41%\n",
            "21.47%\n",
            "21.53%\n",
            "21.60%\n",
            "21.66%\n",
            "21.72%\n",
            "21.79%\n",
            "21.85%\n",
            "21.91%\n",
            "21.98%\n",
            "22.04%\n",
            "22.10%\n",
            "22.17%\n",
            "22.23%\n",
            "22.29%\n",
            "22.36%\n",
            "22.42%\n",
            "22.48%\n",
            "22.55%\n",
            "22.61%\n",
            "22.67%\n",
            "22.74%\n",
            "22.80%\n",
            "22.86%\n",
            "22.93%\n",
            "22.99%\n",
            "23.05%\n",
            "23.12%\n",
            "23.18%\n",
            "23.24%\n",
            "23.31%\n",
            "23.37%\n",
            "23.43%\n",
            "23.50%\n",
            "23.56%\n",
            "23.62%\n",
            "23.69%\n",
            "23.75%\n",
            "23.81%\n",
            "23.88%\n",
            "23.94%\n",
            "24.00%\n",
            "24.07%\n",
            "24.13%\n",
            "24.19%\n",
            "24.26%\n",
            "24.32%\n",
            "24.38%\n",
            "24.45%\n",
            "24.51%\n",
            "24.57%\n",
            "24.64%\n",
            "24.70%\n",
            "24.76%\n",
            "24.83%\n",
            "24.89%\n",
            "24.95%\n",
            "25.02%\n",
            "25.08%\n",
            "25.14%\n",
            "25.21%\n",
            "25.27%\n",
            "25.33%\n",
            "25.40%\n",
            "25.46%\n",
            "25.52%\n",
            "25.59%\n",
            "25.65%\n",
            "25.71%\n",
            "25.78%\n",
            "25.84%\n",
            "25.90%\n",
            "25.97%\n",
            "26.03%\n",
            "26.09%\n",
            "26.16%\n",
            "26.22%\n",
            "26.28%\n",
            "26.35%\n",
            "26.41%\n",
            "26.47%\n",
            "26.54%\n",
            "26.60%\n",
            "26.66%\n",
            "26.73%\n",
            "26.79%\n",
            "26.85%\n",
            "26.92%\n",
            "26.98%\n",
            "27.04%\n",
            "27.11%\n",
            "27.17%\n",
            "27.23%\n",
            "27.30%\n",
            "27.36%\n",
            "27.42%\n",
            "27.49%\n",
            "27.55%\n",
            "27.61%\n",
            "27.68%\n",
            "27.74%\n",
            "27.80%\n",
            "27.87%\n",
            "27.93%\n",
            "27.99%\n",
            "28.06%\n",
            "28.12%\n",
            "28.18%\n",
            "28.25%\n",
            "28.31%\n",
            "28.37%\n",
            "28.44%\n",
            "28.50%\n",
            "28.56%\n",
            "28.63%\n",
            "28.69%\n",
            "28.75%\n",
            "28.82%\n",
            "28.88%\n",
            "28.94%\n",
            "29.01%\n",
            "29.07%\n",
            "29.13%\n",
            "29.20%\n",
            "29.26%\n",
            "29.32%\n",
            "29.39%\n",
            "29.45%\n",
            "29.51%\n",
            "29.58%\n",
            "29.64%\n",
            "29.70%\n",
            "29.77%\n",
            "29.83%\n",
            "29.89%\n",
            "29.96%\n",
            "30.02%\n",
            "30.08%\n",
            "30.15%\n",
            "30.21%\n",
            "30.27%\n",
            "30.34%\n",
            "30.40%\n",
            "30.46%\n",
            "30.53%\n",
            "30.59%\n",
            "30.65%\n",
            "30.72%\n",
            "30.78%\n",
            "30.84%\n",
            "30.91%\n",
            "30.97%\n",
            "31.03%\n",
            "31.10%\n",
            "31.16%\n",
            "31.22%\n",
            "31.29%\n",
            "31.35%\n",
            "31.41%\n",
            "31.48%\n",
            "31.54%\n",
            "31.60%\n",
            "31.67%\n",
            "31.73%\n",
            "31.79%\n",
            "31.86%\n",
            "31.92%\n",
            "31.98%\n",
            "32.05%\n",
            "32.11%\n",
            "32.17%\n",
            "32.24%\n",
            "32.30%\n",
            "32.36%\n",
            "32.43%\n",
            "32.49%\n",
            "32.55%\n",
            "32.62%\n",
            "32.68%\n",
            "32.74%\n",
            "32.81%\n",
            "32.87%\n",
            "32.93%\n",
            "33.00%\n",
            "33.06%\n",
            "33.12%\n",
            "33.19%\n",
            "33.25%\n",
            "33.31%\n",
            "33.38%\n",
            "33.44%\n",
            "33.50%\n",
            "33.57%\n",
            "33.63%\n",
            "33.69%\n",
            "33.76%\n",
            "33.82%\n",
            "33.88%\n",
            "33.95%\n",
            "34.01%\n",
            "34.07%\n",
            "34.14%\n",
            "34.20%\n",
            "34.26%\n",
            "34.33%\n",
            "34.39%\n",
            "34.45%\n",
            "34.52%\n",
            "34.58%\n",
            "34.64%\n",
            "34.71%\n",
            "34.77%\n",
            "34.83%\n",
            "34.90%\n",
            "34.96%\n",
            "35.02%\n",
            "35.09%\n",
            "35.15%\n",
            "35.21%\n",
            "35.28%\n",
            "35.34%\n",
            "35.40%\n",
            "35.47%\n",
            "35.53%\n",
            "35.59%\n",
            "35.66%\n",
            "35.72%\n",
            "35.78%\n",
            "35.85%\n",
            "35.91%\n",
            "35.97%\n",
            "36.04%\n",
            "36.10%\n",
            "36.16%\n",
            "36.23%\n",
            "36.29%\n",
            "36.35%\n",
            "36.42%\n",
            "36.48%\n",
            "36.54%\n",
            "36.61%\n",
            "36.67%\n",
            "36.73%\n",
            "36.80%\n",
            "36.86%\n",
            "36.92%\n",
            "36.99%\n",
            "37.05%\n",
            "37.11%\n",
            "37.18%\n",
            "37.24%\n",
            "37.30%\n",
            "37.37%\n",
            "37.43%\n",
            "37.49%\n",
            "37.56%\n",
            "37.62%\n",
            "37.68%\n",
            "37.75%\n",
            "37.81%\n",
            "37.87%\n",
            "37.94%\n",
            "38.00%\n",
            "38.06%\n",
            "38.13%\n",
            "38.19%\n",
            "38.25%\n",
            "38.32%\n",
            "38.38%\n",
            "38.44%\n",
            "38.51%\n",
            "38.57%\n",
            "38.63%\n",
            "38.70%\n",
            "38.76%\n",
            "38.82%\n",
            "38.89%\n",
            "38.95%\n",
            "39.01%\n",
            "39.08%\n",
            "39.14%\n",
            "39.20%\n",
            "39.27%\n",
            "39.33%\n",
            "39.39%\n",
            "39.46%\n",
            "39.52%\n",
            "39.58%\n",
            "39.65%\n",
            "39.71%\n",
            "39.77%\n",
            "39.84%\n",
            "39.90%\n",
            "39.96%\n",
            "40.03%\n",
            "40.09%\n",
            "40.15%\n",
            "40.22%\n",
            "40.28%\n",
            "40.34%\n",
            "40.41%\n",
            "40.47%\n",
            "40.53%\n",
            "40.60%\n",
            "40.66%\n",
            "40.72%\n",
            "40.79%\n",
            "40.85%\n",
            "40.91%\n",
            "40.98%\n",
            "41.04%\n",
            "41.10%\n",
            "41.17%\n",
            "41.23%\n",
            "41.29%\n",
            "41.36%\n",
            "41.42%\n",
            "41.48%\n",
            "41.55%\n",
            "41.61%\n",
            "41.67%\n",
            "41.74%\n",
            "41.80%\n",
            "41.86%\n",
            "41.93%\n",
            "41.99%\n",
            "42.05%\n",
            "42.12%\n",
            "42.18%\n",
            "42.24%\n",
            "42.31%\n",
            "42.37%\n",
            "42.43%\n",
            "42.50%\n",
            "42.56%\n",
            "42.62%\n",
            "42.69%\n",
            "42.75%\n",
            "42.81%\n",
            "42.88%\n",
            "42.94%\n",
            "43.00%\n",
            "43.07%\n",
            "43.13%\n",
            "43.19%\n",
            "43.26%\n",
            "43.32%\n",
            "43.38%\n",
            "43.45%\n",
            "43.51%\n",
            "43.57%\n",
            "43.64%\n",
            "43.70%\n",
            "43.76%\n",
            "43.83%\n",
            "43.89%\n",
            "43.95%\n",
            "44.02%\n",
            "44.08%\n",
            "44.14%\n",
            "44.21%\n",
            "44.27%\n",
            "44.33%\n",
            "44.40%\n",
            "44.46%\n",
            "44.52%\n",
            "44.59%\n",
            "44.65%\n",
            "44.71%\n",
            "44.78%\n",
            "44.84%\n",
            "44.90%\n",
            "44.97%\n",
            "45.03%\n",
            "45.09%\n",
            "45.16%\n",
            "45.22%\n",
            "45.28%\n",
            "45.35%\n",
            "45.41%\n",
            "45.47%\n"
          ]
        }
      ],
      "source": [
        "avg_predictions_corr = [[None for _ in range(NUM_ITEMS)] for _ in range(NUM_USERS)]\n",
        "avg_predictions_jmsd = [[None for _ in range(NUM_ITEMS)] for _ in range(NUM_USERS)]\n",
        "wavg_predictions_corr = [[None for _ in range(NUM_ITEMS)] for _ in range(NUM_USERS)]\n",
        "wavg_predictions_jmsd = [[None for _ in range(NUM_ITEMS)] for _ in range(NUM_USERS)]\n",
        "dfm_predictions_corr = [[None for _ in range(NUM_ITEMS)] for _ in range(NUM_USERS)]\n",
        "dfm_predictions_jmsd = [[None for _ in range(NUM_ITEMS)] for _ in range(NUM_USERS)]\n",
        "\n",
        "for u in range(NUM_USERS):\n",
        "  print(f'{(u/ NUM_USERS * 100):.2f}%')\n",
        "  if has_test_ratings(u):\n",
        "\n",
        "    similarities_corr = [None if u == v else correlation_similarity(u, v) for v in range(NUM_USERS)]\n",
        "    similarities_jmsd = [None if u == v else jmsd_similarity(u, v) for v in range(NUM_USERS)]\n",
        "\n",
        "    neighbors_corr = get_neighbors(u, similarities_corr)\n",
        "    neighbors_jmsd = get_neighbors(u, similarities_jmsd)\n",
        "\n",
        "    for i in range(NUM_ITEMS):\n",
        "      if test_matrix[u, i] != 0:\n",
        "        avg_predictions_corr[u][i] = average_prediction(u, i, neighbors_corr)\n",
        "        avg_predictions_jmsd[u][i] = average_prediction(u, i, neighbors_jmsd)\n",
        "        wavg_predictions_corr[u][i] = weighted_average_prediction(u, i, neighbors_corr)\n",
        "        wavg_predictions_jmsd[u][i] = weighted_average_prediction(u, i, neighbors_jmsd)\n",
        "        dfm_predictions_corr[u][i] = deviation_from_mean_prediction(u, i, neighbors_corr)\n",
        "        dfm_predictions_jmsd[u][i] = deviation_from_mean_prediction(u, i, neighbors_jmsd)"
      ]
    },
    {
      "cell_type": "markdown",
      "id": "acd2ee5d",
      "metadata": {
        "id": "acd2ee5d"
      },
      "source": [
        "Ahora definimos el MAE y lo calculamos"
      ]
    },
    {
      "cell_type": "code",
      "execution_count": null,
      "id": "25d186ef",
      "metadata": {
        "id": "25d186ef"
      },
      "outputs": [],
      "source": [
        "def get_user_mae(u, predictions):\n",
        "    mae = 0\n",
        "    count = 0\n",
        "\n",
        "    test_items = test_matrix[u].nonzero()[1]\n",
        "\n",
        "    for i in test_items:\n",
        "        if predictions[u][i] is not None:\n",
        "            mae += abs(test_matrix[u, i] - predictions[u][i])\n",
        "            count += 1\n",
        "\n",
        "    if count > 0:\n",
        "        return mae / count\n",
        "    else:\n",
        "        return None\n"
      ]
    },
    {
      "cell_type": "code",
      "execution_count": null,
      "id": "f54c26e1",
      "metadata": {
        "id": "f54c26e1"
      },
      "outputs": [],
      "source": [
        "def get_mae(predictions):\n",
        "    mae = 0\n",
        "    count = 0\n",
        "\n",
        "    for u in range(NUM_USERS):\n",
        "        if has_test_ratings(u):\n",
        "            user_mae = get_user_mae(u, predictions)\n",
        "\n",
        "            if user_mae is not None:\n",
        "                mae += user_mae\n",
        "                count += 1\n",
        "\n",
        "    if count > 0:\n",
        "        return mae / count\n",
        "    else:\n",
        "        return None"
      ]
    },
    {
      "cell_type": "code",
      "execution_count": null,
      "id": "1b4d87c4",
      "metadata": {
        "colab": {
          "base_uri": "https://localhost:8080/"
        },
        "id": "1b4d87c4",
        "outputId": "8bcc76de-a49d-4cfc-bc1a-32157261b657"
      },
      "outputs": [
        {
          "output_type": "stream",
          "name": "stdout",
          "text": [
            "MAE Avg Prediction with Corr Similarity = 0.9253989193716361\n",
            "MAE Avg Prediction with JMSD Similarity = 0.8891381276586673\n",
            "MAE Weighted Avg Prediction with Corr Similarity = 1.4951731697457744\n",
            "MAE Weighted Avg Prediction with JMSD Similarity = 0.8896986542954874\n",
            "MAE Dev from Mean Prediction with Corr Similarity = 0.906414319183112\n",
            "MAE Dev from Mean Prediction with JMSD Similarity = 0.8714327656261254\n"
          ]
        }
      ],
      "source": [
        "mae_avg_corr = get_mae(avg_predictions_corr)\n",
        "mae_avg_jmsd = get_mae(avg_predictions_jmsd)\n",
        "mae_wavg_corr = get_mae(wavg_predictions_corr)\n",
        "mae_wavg_jmsd = get_mae(wavg_predictions_jmsd)\n",
        "mae_dfm_corr = get_mae(dfm_predictions_corr)\n",
        "mae_dfm_jmsd = get_mae(dfm_predictions_jmsd)\n",
        "\n",
        "print(f\"MAE Avg Prediction with Corr Similarity = \" + str(mae_avg_corr))\n",
        "print(f\"MAE Avg Prediction with JMSD Similarity = \" + str(mae_avg_jmsd))\n",
        "print(f\"MAE Weighted Avg Prediction with Corr Similarity = \" + str(mae_wavg_corr))\n",
        "print(f\"MAE Weighted Avg Prediction with JMSD Similarity = \" + str(mae_wavg_jmsd))\n",
        "print(f\"MAE Dev from Mean Prediction with Corr Similarity = \" + str(mae_dfm_corr))\n",
        "print(f\"MAE Dev from Mean Prediction with JMSD Similarity = \" + str(mae_dfm_jmsd))"
      ]
    },
    {
      "cell_type": "markdown",
      "source": [
        "Podemos ver que las predicciones que se hicieron con jmsd se han comportado mejor. Además, solo una predicción se alejó más de 1 punto"
      ],
      "metadata": {
        "id": "hkrnUv7yozCL"
      },
      "id": "hkrnUv7yozCL"
    },
    {
      "cell_type": "markdown",
      "id": "5130e13d",
      "metadata": {
        "id": "5130e13d"
      },
      "source": [
        "#### Cálculo del resto de medidas\n",
        "Las adaptaciones para las matrices sparse utilizadas se centran acceso eficiente a datos no nulos mediante `nonzero()`,  \n",
        "reemplazando verificaciones basadas en `None` por comprobaciones de valores distintos de cero,  \n",
        "y empleando pre-filtrado de vecinos para reducir drásticamente los pares de comparación"
      ]
    },
    {
      "cell_type": "markdown",
      "id": "7143cf9d",
      "metadata": {
        "id": "7143cf9d"
      },
      "source": [
        "rmse"
      ]
    },
    {
      "cell_type": "code",
      "execution_count": null,
      "id": "f9e84e9c",
      "metadata": {
        "id": "f9e84e9c"
      },
      "outputs": [],
      "source": [
        "def get_user_rmse(u, predictions):\n",
        "    mse = 0\n",
        "    count = 0\n",
        "\n",
        "    test_items = test_matrix[u].nonzero()[1]\n",
        "\n",
        "    for i in test_items:\n",
        "        if predictions[u][i] is not None:\n",
        "            mse += (test_matrix[u, i] - predictions[u][i]) ** 2\n",
        "            count += 1\n",
        "\n",
        "    if count > 0:\n",
        "        return math.sqrt(mse / count)\n",
        "    else:\n",
        "        return None"
      ]
    },
    {
      "cell_type": "code",
      "execution_count": null,
      "id": "2a650966",
      "metadata": {
        "id": "2a650966"
      },
      "outputs": [],
      "source": [
        "def get_rmse(predictions):\n",
        "    rmse = 0\n",
        "    count = 0\n",
        "\n",
        "    for u in range(NUM_USERS):\n",
        "        if has_test_ratings(u):\n",
        "            user_rmse = get_user_rmse(u, predictions)\n",
        "\n",
        "            if user_rmse is not None:\n",
        "                rmse += user_rmse\n",
        "                count += 1\n",
        "\n",
        "    if count > 0:\n",
        "        return rmse / count\n",
        "    else:\n",
        "        return None"
      ]
    },
    {
      "cell_type": "code",
      "execution_count": null,
      "id": "8650c299",
      "metadata": {
        "colab": {
          "base_uri": "https://localhost:8080/"
        },
        "id": "8650c299",
        "outputId": "133474a8-94b2-4f73-9ad8-c02aea8bfd58"
      },
      "outputs": [
        {
          "output_type": "stream",
          "name": "stdout",
          "text": [
            "RMSE Avg Prediction with Corr Similarity = 1.2068751519805172\n",
            "RMSE Avg Prediction with JMSD Similarity = 1.1863055385249233\n",
            "RMSE Weighted Avg Prediction with Corr Similarity = 2.085948591788406\n",
            "RMSE Weighted Avg Prediction with JMSD Similarity = 1.186703353540928\n",
            "RMSE Dev from Mean Prediction with Corr Similarity = 1.1574648409835016\n",
            "RMSE Dev from Mean Prediction with JMSD Similarity = 1.118176263338421\n"
          ]
        }
      ],
      "source": [
        "rmse_avg_corr = get_rmse(avg_predictions_corr)\n",
        "rmse_avg_jmsd = get_rmse(avg_predictions_jmsd)\n",
        "rmse_wavg_corr = get_rmse(wavg_predictions_corr)\n",
        "rmse_wavg_jmsd = get_rmse(wavg_predictions_jmsd)\n",
        "rmse_dfm_corr = get_rmse(dfm_predictions_corr)\n",
        "rmse_dfm_jmsd = get_rmse(dfm_predictions_jmsd)\n",
        "\n",
        "print(f\"RMSE Avg Prediction with Corr Similarity = \" + str(rmse_avg_corr))\n",
        "print(f\"RMSE Avg Prediction with JMSD Similarity = \" + str(rmse_avg_jmsd))\n",
        "print(f\"RMSE Weighted Avg Prediction with Corr Similarity = \" + str(rmse_wavg_corr))\n",
        "print(f\"RMSE Weighted Avg Prediction with JMSD Similarity = \" + str(rmse_wavg_jmsd))\n",
        "print(f\"RMSE Dev from Mean Prediction with Corr Similarity = \" + str(rmse_dfm_corr))\n",
        "print(f\"RMSE Dev from Mean Prediction with JMSD Similarity = \" + str(rmse_dfm_jmsd))"
      ]
    },
    {
      "cell_type": "markdown",
      "id": "6b9f3fd0",
      "metadata": {
        "id": "6b9f3fd0"
      },
      "source": [
        "Precision"
      ]
    },
    {
      "cell_type": "code",
      "execution_count": null,
      "id": "fca450f9",
      "metadata": {
        "id": "fca450f9"
      },
      "outputs": [],
      "source": [
        "theta = 4"
      ]
    },
    {
      "cell_type": "code",
      "execution_count": null,
      "id": "36943e4a",
      "metadata": {
        "id": "36943e4a"
      },
      "outputs": [],
      "source": [
        "def get_user_precision(u, predictions):\n",
        "    precision = 0\n",
        "    count = 0\n",
        "\n",
        "    user_predictions = predictions[u]\n",
        "    recommendations = get_recommendations([user_predictions])[0]\n",
        "\n",
        "    if recommendations is None:\n",
        "        return None\n",
        "\n",
        "    if not isinstance(recommendations, list):\n",
        "        recommendations = [recommendations]\n",
        "\n",
        "    for i in recommendations:\n",
        "        if i is not None and test_matrix[u, i] != 0:\n",
        "            precision += 1 if test_matrix[u, i] >= theta else 0\n",
        "            count += 1\n",
        "\n",
        "    if count > 0:\n",
        "        return precision / count\n",
        "    else:\n",
        "        return None"
      ]
    },
    {
      "cell_type": "code",
      "execution_count": null,
      "id": "653b1f99",
      "metadata": {
        "id": "653b1f99"
      },
      "outputs": [],
      "source": [
        "def get_precision(predictions):\n",
        "    precision = 0\n",
        "    count = 0\n",
        "\n",
        "    for u in range(NUM_USERS):\n",
        "        if has_test_ratings(u):\n",
        "            user_precision = get_user_precision(u, predictions)\n",
        "\n",
        "            if user_precision is not None:\n",
        "                precision += user_precision\n",
        "                count += 1\n",
        "\n",
        "    if count > 0:\n",
        "        return precision / count\n",
        "    else:\n",
        "        return None"
      ]
    },
    {
      "cell_type": "code",
      "execution_count": null,
      "id": "9deed6c5",
      "metadata": {
        "colab": {
          "base_uri": "https://localhost:8080/"
        },
        "id": "9deed6c5",
        "outputId": "01639932-9b0b-4c50-8b5a-8b9c9a6cfb1b"
      },
      "outputs": [
        {
          "output_type": "stream",
          "name": "stdout",
          "text": [
            "Precision Avg Prediction with Corr Similarity = 0.8366988586479368\n",
            "Precision Avg Prediction with JMSD Similarity = 0.8419666374012291\n",
            "Precision Weighted Avg Prediction with Corr Similarity = 0.845478489903424\n",
            "Precision Weighted Avg Prediction with JMSD Similarity = 0.839332748024583\n",
            "Precision Dev from Mean Prediction with Corr Similarity = 0.839332748024583\n",
            "Precision Dev from Mean Prediction with JMSD Similarity = 0.835820895522388\n"
          ]
        }
      ],
      "source": [
        "precision_avg_corr = get_precision(avg_predictions_corr)\n",
        "precision_avg_jmsd = get_precision(avg_predictions_jmsd)\n",
        "precision_wavg_corr = get_precision(wavg_predictions_corr)\n",
        "precision_wavg_jmsd = get_precision(wavg_predictions_jmsd)\n",
        "precision_dfm_corr = get_precision(dfm_predictions_corr)\n",
        "precision_dfm_jmsd = get_precision(dfm_predictions_jmsd)\n",
        "\n",
        "print(f\"Precision Avg Prediction with Corr Similarity = \" + str(precision_avg_corr))\n",
        "print(f\"Precision Avg Prediction with JMSD Similarity = \" + str(precision_avg_jmsd))\n",
        "print(f\"Precision Weighted Avg Prediction with Corr Similarity = \" + str(precision_wavg_corr))\n",
        "print(f\"Precision Weighted Avg Prediction with JMSD Similarity = \" + str(precision_wavg_jmsd))\n",
        "print(f\"Precision Dev from Mean Prediction with Corr Similarity = \" + str(precision_dfm_corr))\n",
        "print(f\"Precision Dev from Mean Prediction with JMSD Similarity = \" + str(precision_dfm_jmsd))"
      ]
    },
    {
      "cell_type": "markdown",
      "id": "8a249c89",
      "metadata": {
        "id": "8a249c89"
      },
      "source": [
        "Recall"
      ]
    },
    {
      "cell_type": "code",
      "execution_count": null,
      "id": "0053e62d",
      "metadata": {
        "id": "0053e62d"
      },
      "outputs": [],
      "source": [
        "def get_user_recall(u, predictions):\n",
        "    recall = 0\n",
        "    count = 0\n",
        "\n",
        "    recommendations = get_recommendations([predictions[u]])[0]\n",
        "\n",
        "    if recommendations is not None and not isinstance(recommendations, list):\n",
        "        recommendations = [recommendations]\n",
        "\n",
        "    test_items = test_matrix[u].nonzero()[1]\n",
        "\n",
        "    for i in test_items:\n",
        "        if test_matrix[u, i] >= theta:\n",
        "            recall += 1 if recommendations is not None and i in recommendations else 0\n",
        "            count += 1\n",
        "\n",
        "    if count > 0:\n",
        "        return recall / count\n",
        "    else:\n",
        "        return None\n",
        "\n",
        "def get_recall(predictions):\n",
        "    recall = 0\n",
        "    count = 0\n",
        "\n",
        "    for u in range(NUM_USERS):\n",
        "        if has_test_ratings(u):\n",
        "            user_recall = get_user_recall(u, predictions)\n",
        "\n",
        "            if user_recall is not None:\n",
        "                recall += user_recall\n",
        "                count += 1\n",
        "\n",
        "    if count > 0:\n",
        "        return recall / count\n",
        "    else:\n",
        "        return None"
      ]
    },
    {
      "cell_type": "code",
      "execution_count": null,
      "id": "28fc3446",
      "metadata": {
        "colab": {
          "base_uri": "https://localhost:8080/"
        },
        "id": "28fc3446",
        "outputId": "e5740036-4b4f-42fc-82ee-a4c26606d437"
      },
      "outputs": [
        {
          "output_type": "stream",
          "name": "stdout",
          "text": [
            "Recall Avg Prediction with Corr Similarity = 0.15236202588080855\n",
            "Recall Avg Prediction with JMSD Similarity = 0.15269808356298617\n",
            "Recall Weighted Avg Prediction with Corr Similarity = 0.15308404722338936\n",
            "Recall Weighted Avg Prediction with JMSD Similarity = 0.15239471908502739\n",
            "Recall Dev from Mean Prediction with Corr Similarity = 0.15316387844142437\n",
            "Recall Dev from Mean Prediction with JMSD Similarity = 0.15337196490913357\n"
          ]
        }
      ],
      "source": [
        "recall_avg_corr = get_recall(avg_predictions_corr)\n",
        "recall_avg_jmsd = get_recall(avg_predictions_jmsd)\n",
        "recall_wavg_corr = get_recall(wavg_predictions_corr)\n",
        "recall_wavg_jmsd = get_recall(wavg_predictions_jmsd)\n",
        "recall_dfm_corr = get_recall(dfm_predictions_corr)\n",
        "recall_dfm_jmsd = get_recall(dfm_predictions_jmsd)\n",
        "\n",
        "print(f\"Recall Avg Prediction with Corr Similarity = \" + str(recall_avg_corr))\n",
        "print(f\"Recall Avg Prediction with JMSD Similarity = \" + str(recall_avg_jmsd))\n",
        "print(f\"Recall Weighted Avg Prediction with Corr Similarity = \" + str(recall_wavg_corr))\n",
        "print(f\"Recall Weighted Avg Prediction with JMSD Similarity = \" + str(recall_wavg_jmsd))\n",
        "print(f\"Recall Dev from Mean Prediction with Corr Similarity = \" + str(recall_dfm_corr))\n",
        "print(f\"Recall Dev from Mean Prediction with JMSD Similarity = \" + str(recall_dfm_jmsd))"
      ]
    },
    {
      "cell_type": "markdown",
      "id": "24dba92b",
      "metadata": {
        "id": "24dba92b"
      },
      "source": [
        "F1"
      ]
    },
    {
      "cell_type": "code",
      "execution_count": null,
      "id": "8c3b1a02",
      "metadata": {
        "id": "8c3b1a02"
      },
      "outputs": [],
      "source": [
        "def get_user_f1(u, predictions):\n",
        "    precision = get_user_precision(u, predictions)\n",
        "    recall = get_user_recall(u, predictions)\n",
        "\n",
        "    if precision is None or recall is None:\n",
        "        return None\n",
        "    elif precision == 0 and recall == 0:\n",
        "        return 0\n",
        "    else:\n",
        "        return 2 * precision * recall / (precision + recall)"
      ]
    },
    {
      "cell_type": "code",
      "execution_count": null,
      "id": "7b297a4e",
      "metadata": {
        "id": "7b297a4e"
      },
      "outputs": [],
      "source": [
        "def get_f1(predictions):\n",
        "    f1 = 0\n",
        "    count = 0\n",
        "\n",
        "    for u in range(NUM_USERS):\n",
        "        if has_test_ratings(u):\n",
        "            user_f1 = get_user_f1(u, predictions)\n",
        "\n",
        "            if user_f1 is not None:\n",
        "                f1 += user_f1\n",
        "                count += 1\n",
        "\n",
        "    if count > 0:\n",
        "        return f1 / count\n",
        "    else:\n",
        "        return None"
      ]
    },
    {
      "cell_type": "code",
      "execution_count": null,
      "id": "197fbb43",
      "metadata": {
        "colab": {
          "base_uri": "https://localhost:8080/"
        },
        "id": "197fbb43",
        "outputId": "1ae125db-8ab5-4198-9157-5d6dbbbda257"
      },
      "outputs": [
        {
          "output_type": "stream",
          "name": "stdout",
          "text": [
            "F1 Avg Prediction with Corr Similarity = 0.24416223386263353\n",
            "F1 Avg Prediction with JMSD Similarity = 0.24520824339893638\n",
            "F1 Weighted Avg Prediction with Corr Similarity = 0.2460613954864842\n",
            "F1 Weighted Avg Prediction with JMSD Similarity = 0.24472866824270453\n",
            "F1 Dev from Mean Prediction with Corr Similarity = 0.2450653731201427\n",
            "F1 Dev from Mean Prediction with JMSD Similarity = 0.2453404028500156\n"
          ]
        }
      ],
      "source": [
        "f1_avg_corr = get_f1(avg_predictions_corr)\n",
        "f1_avg_jmsd = get_f1(avg_predictions_jmsd)\n",
        "f1_wavg_corr = get_f1(wavg_predictions_corr)\n",
        "f1_wavg_jmsd = get_f1(wavg_predictions_jmsd)\n",
        "f1_dfm_corr = get_f1(dfm_predictions_corr)\n",
        "f1_dfm_jmsd = get_f1(dfm_predictions_jmsd)\n",
        "\n",
        "print(f\"F1 Avg Prediction with Corr Similarity = \" + str(f1_avg_corr))\n",
        "print(f\"F1 Avg Prediction with JMSD Similarity = \" + str(f1_avg_jmsd))\n",
        "print(f\"F1 Weighted Avg Prediction with Corr Similarity = \" + str(f1_wavg_corr))\n",
        "print(f\"F1 Weighted Avg Prediction with JMSD Similarity = \" + str(f1_wavg_jmsd))\n",
        "print(f\"F1 Dev from Mean Prediction with Corr Similarity = \" + str(f1_dfm_corr))\n",
        "print(f\"F1 Dev from Mean Prediction with JMSD Similarity = \" + str(f1_dfm_jmsd))"
      ]
    },
    {
      "cell_type": "markdown",
      "id": "cefdd335",
      "metadata": {
        "id": "cefdd335"
      },
      "source": [
        "nDCG"
      ]
    },
    {
      "cell_type": "code",
      "execution_count": null,
      "id": "3000a0eb",
      "metadata": {
        "id": "3000a0eb"
      },
      "outputs": [],
      "source": [
        "def get_sorted_test_items(u):\n",
        "    test_items = test_matrix[u].nonzero()[1]\n",
        "    items = []\n",
        "\n",
        "    if len(test_items) == 0:\n",
        "        return items\n",
        "\n",
        "    for i in test_items:\n",
        "        items.append(i)\n",
        "\n",
        "    items.sort(key=lambda x: test_matrix[u, x], reverse=True)\n",
        "\n",
        "    return items"
      ]
    },
    {
      "cell_type": "code",
      "execution_count": null,
      "id": "3c031845",
      "metadata": {
        "id": "3c031845"
      },
      "outputs": [],
      "source": [
        "def get_user_idcg(u):\n",
        "    items = get_sorted_test_items(u)\n",
        "    idcg = 0\n",
        "\n",
        "    for pos, i in enumerate(items):\n",
        "        if test_matrix[u, i] >= theta:\n",
        "            idcg += (2 ** test_matrix[u, i] - 1) / math.log2(pos + 2)\n",
        "\n",
        "    return idcg"
      ]
    },
    {
      "cell_type": "code",
      "execution_count": null,
      "id": "956fac75",
      "metadata": {
        "id": "956fac75"
      },
      "outputs": [],
      "source": [
        "def get_user_dcg(u, recommendations):\n",
        "    dcg = 0\n",
        "\n",
        "    if recommendations is None:\n",
        "        return 0\n",
        "\n",
        "    if not isinstance(recommendations, list):\n",
        "        recommendations = [recommendations]\n",
        "\n",
        "    for pos, i in enumerate(recommendations):\n",
        "        if i is not None and test_matrix[u, i] != 0:\n",
        "            dcg += (2 ** test_matrix[u, i] - 1) / math.log2(pos + 2)\n",
        "\n",
        "    return dcg"
      ]
    },
    {
      "cell_type": "code",
      "execution_count": null,
      "id": "197bac5a",
      "metadata": {
        "id": "197bac5a"
      },
      "outputs": [],
      "source": [
        "def get_user_ndcg(u, predictions):\n",
        "    recommendations = get_recommendations([predictions[u]])[0]\n",
        "\n",
        "    dcg = get_user_dcg(u, recommendations)\n",
        "    idcg = get_user_idcg(u)\n",
        "\n",
        "    if idcg == 0:\n",
        "        return None\n",
        "    else:\n",
        "        return dcg / idcg"
      ]
    },
    {
      "cell_type": "code",
      "execution_count": null,
      "id": "22147971",
      "metadata": {
        "id": "22147971"
      },
      "outputs": [],
      "source": [
        "def get_ndcg(predictions):\n",
        "    ndcg = 0\n",
        "    count = 0\n",
        "\n",
        "    for u in range(NUM_USERS):\n",
        "        if has_test_ratings(u):\n",
        "            user_ndcg = get_user_ndcg(u, predictions)\n",
        "\n",
        "            if user_ndcg is not None:\n",
        "                ndcg += user_ndcg\n",
        "                count += 1\n",
        "\n",
        "    if count > 0:\n",
        "        return ndcg / count\n",
        "    else:\n",
        "        return None"
      ]
    },
    {
      "cell_type": "code",
      "execution_count": null,
      "id": "8a9a9691",
      "metadata": {
        "colab": {
          "base_uri": "https://localhost:8080/"
        },
        "id": "8a9a9691",
        "outputId": "adfe17cb-2b53-4e35-b00c-bf4f348a9870"
      },
      "outputs": [
        {
          "output_type": "stream",
          "name": "stdout",
          "text": [
            "nDCG Avg Prediction with Corr Similarity = 0.26908334391304933\n",
            "nDCG Avg Prediction with JMSD Similarity = 0.2692377818839883\n",
            "nDCG Weighted Avg Prediction with Corr Similarity = 0.2698495886034852\n",
            "nDCG Weighted Avg Prediction with JMSD Similarity = 0.26909344337642344\n",
            "nDCG Dev from Mean Prediction with Corr Similarity = 0.2675613909560734\n",
            "nDCG Dev from Mean Prediction with JMSD Similarity = 0.26945522485491585\n"
          ]
        }
      ],
      "source": [
        "ndcg_avg_corr = get_ndcg(avg_predictions_corr)\n",
        "ndcg_avg_jmsd = get_ndcg(avg_predictions_jmsd)\n",
        "ndcg_wavg_corr = get_ndcg(wavg_predictions_corr)\n",
        "ndcg_wavg_jmsd = get_ndcg(wavg_predictions_jmsd)\n",
        "ndcg_dfm_corr = get_ndcg(dfm_predictions_corr)\n",
        "ndcg_dfm_jmsd = get_ndcg(dfm_predictions_jmsd)\n",
        "\n",
        "print(f\"nDCG Avg Prediction with Corr Similarity = \" + str(ndcg_avg_corr))\n",
        "print(f\"nDCG Avg Prediction with JMSD Similarity = \" + str(ndcg_avg_jmsd))\n",
        "print(f\"nDCG Weighted Avg Prediction with Corr Similarity = \" + str(ndcg_wavg_corr))\n",
        "print(f\"nDCG Weighted Avg Prediction with JMSD Similarity = \" + str(ndcg_wavg_jmsd))\n",
        "print(f\"nDCG Dev from Mean Prediction with Corr Similarity = \" + str(ndcg_dfm_corr))\n",
        "print(f\"nDCG Dev from Mean Prediction with JMSD Similarity = \" + str(ndcg_dfm_jmsd))"
      ]
    }
  ],
  "metadata": {
    "kernelspec": {
      "display_name": "Python 3",
      "name": "python3"
    },
    "language_info": {
      "codemirror_mode": {
        "name": "ipython",
        "version": 3
      },
      "file_extension": ".py",
      "mimetype": "text/x-python",
      "name": "python",
      "nbconvert_exporter": "python",
      "pygments_lexer": "ipython3",
      "version": "3.12.10"
    },
    "colab": {
      "provenance": [],
      "gpuType": "T4"
    },
    "accelerator": "GPU"
  },
  "nbformat": 4,
  "nbformat_minor": 5
}