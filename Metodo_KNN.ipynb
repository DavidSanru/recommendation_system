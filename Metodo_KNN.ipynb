{
  "cells": [
    {
      "cell_type": "markdown",
      "id": "d968e938",
      "metadata": {
        "id": "d968e938"
      },
      "source": [
        "#### Carga librerias"
      ]
    },
    {
      "cell_type": "code",
      "execution_count": 2,
      "id": "c2523626",
      "metadata": {
        "id": "c2523626"
      },
      "outputs": [],
      "source": [
        "\n",
        "import pandas as pd\n",
        "import numpy as np\n",
        "import matplotlib.pyplot as plt\n",
        "import math\n",
        "from datetime import datetime\n",
        "import scipy.sparse as sp\n",
        "from sklearn.metrics.pairwise import cosine_similarity\n",
        "import random\n",
        "from scipy.stats import pearsonr\n",
        "from collections import Counter\n",
        "import collections"
      ]
    },
    {
      "cell_type": "markdown",
      "id": "1258176d",
      "metadata": {
        "id": "1258176d"
      },
      "source": [
        "#### Carga archivo"
      ]
    },
    {
      "cell_type": "code",
      "source": [
        "from google.colab import files\n",
        "uploaded = files.upload()  # Te mostrará un botón para seleccionar el archivo Video_Games.csv"
      ],
      "metadata": {
        "colab": {
          "base_uri": "https://localhost:8080/",
          "height": 71
        },
        "id": "PzJw5hmjEDwu",
        "outputId": "d3c58ceb-03ab-4597-8ea6-71f70e980ed1"
      },
      "id": "PzJw5hmjEDwu",
      "execution_count": 5,
      "outputs": [
        {
          "output_type": "display_data",
          "data": {
            "text/plain": [
              "<IPython.core.display.HTML object>"
            ],
            "text/html": [
              "\n",
              "     <input type=\"file\" id=\"files-dc136409-e611-4bdf-beab-8fdfc242738c\" name=\"files[]\" multiple disabled\n",
              "        style=\"border:none\" />\n",
              "     <output id=\"result-dc136409-e611-4bdf-beab-8fdfc242738c\">\n",
              "      Upload widget is only available when the cell has been executed in the\n",
              "      current browser session. Please rerun this cell to enable.\n",
              "      </output>\n",
              "      <script>// Copyright 2017 Google LLC\n",
              "//\n",
              "// Licensed under the Apache License, Version 2.0 (the \"License\");\n",
              "// you may not use this file except in compliance with the License.\n",
              "// You may obtain a copy of the License at\n",
              "//\n",
              "//      http://www.apache.org/licenses/LICENSE-2.0\n",
              "//\n",
              "// Unless required by applicable law or agreed to in writing, software\n",
              "// distributed under the License is distributed on an \"AS IS\" BASIS,\n",
              "// WITHOUT WARRANTIES OR CONDITIONS OF ANY KIND, either express or implied.\n",
              "// See the License for the specific language governing permissions and\n",
              "// limitations under the License.\n",
              "\n",
              "/**\n",
              " * @fileoverview Helpers for google.colab Python module.\n",
              " */\n",
              "(function(scope) {\n",
              "function span(text, styleAttributes = {}) {\n",
              "  const element = document.createElement('span');\n",
              "  element.textContent = text;\n",
              "  for (const key of Object.keys(styleAttributes)) {\n",
              "    element.style[key] = styleAttributes[key];\n",
              "  }\n",
              "  return element;\n",
              "}\n",
              "\n",
              "// Max number of bytes which will be uploaded at a time.\n",
              "const MAX_PAYLOAD_SIZE = 100 * 1024;\n",
              "\n",
              "function _uploadFiles(inputId, outputId) {\n",
              "  const steps = uploadFilesStep(inputId, outputId);\n",
              "  const outputElement = document.getElementById(outputId);\n",
              "  // Cache steps on the outputElement to make it available for the next call\n",
              "  // to uploadFilesContinue from Python.\n",
              "  outputElement.steps = steps;\n",
              "\n",
              "  return _uploadFilesContinue(outputId);\n",
              "}\n",
              "\n",
              "// This is roughly an async generator (not supported in the browser yet),\n",
              "// where there are multiple asynchronous steps and the Python side is going\n",
              "// to poll for completion of each step.\n",
              "// This uses a Promise to block the python side on completion of each step,\n",
              "// then passes the result of the previous step as the input to the next step.\n",
              "function _uploadFilesContinue(outputId) {\n",
              "  const outputElement = document.getElementById(outputId);\n",
              "  const steps = outputElement.steps;\n",
              "\n",
              "  const next = steps.next(outputElement.lastPromiseValue);\n",
              "  return Promise.resolve(next.value.promise).then((value) => {\n",
              "    // Cache the last promise value to make it available to the next\n",
              "    // step of the generator.\n",
              "    outputElement.lastPromiseValue = value;\n",
              "    return next.value.response;\n",
              "  });\n",
              "}\n",
              "\n",
              "/**\n",
              " * Generator function which is called between each async step of the upload\n",
              " * process.\n",
              " * @param {string} inputId Element ID of the input file picker element.\n",
              " * @param {string} outputId Element ID of the output display.\n",
              " * @return {!Iterable<!Object>} Iterable of next steps.\n",
              " */\n",
              "function* uploadFilesStep(inputId, outputId) {\n",
              "  const inputElement = document.getElementById(inputId);\n",
              "  inputElement.disabled = false;\n",
              "\n",
              "  const outputElement = document.getElementById(outputId);\n",
              "  outputElement.innerHTML = '';\n",
              "\n",
              "  const pickedPromise = new Promise((resolve) => {\n",
              "    inputElement.addEventListener('change', (e) => {\n",
              "      resolve(e.target.files);\n",
              "    });\n",
              "  });\n",
              "\n",
              "  const cancel = document.createElement('button');\n",
              "  inputElement.parentElement.appendChild(cancel);\n",
              "  cancel.textContent = 'Cancel upload';\n",
              "  const cancelPromise = new Promise((resolve) => {\n",
              "    cancel.onclick = () => {\n",
              "      resolve(null);\n",
              "    };\n",
              "  });\n",
              "\n",
              "  // Wait for the user to pick the files.\n",
              "  const files = yield {\n",
              "    promise: Promise.race([pickedPromise, cancelPromise]),\n",
              "    response: {\n",
              "      action: 'starting',\n",
              "    }\n",
              "  };\n",
              "\n",
              "  cancel.remove();\n",
              "\n",
              "  // Disable the input element since further picks are not allowed.\n",
              "  inputElement.disabled = true;\n",
              "\n",
              "  if (!files) {\n",
              "    return {\n",
              "      response: {\n",
              "        action: 'complete',\n",
              "      }\n",
              "    };\n",
              "  }\n",
              "\n",
              "  for (const file of files) {\n",
              "    const li = document.createElement('li');\n",
              "    li.append(span(file.name, {fontWeight: 'bold'}));\n",
              "    li.append(span(\n",
              "        `(${file.type || 'n/a'}) - ${file.size} bytes, ` +\n",
              "        `last modified: ${\n",
              "            file.lastModifiedDate ? file.lastModifiedDate.toLocaleDateString() :\n",
              "                                    'n/a'} - `));\n",
              "    const percent = span('0% done');\n",
              "    li.appendChild(percent);\n",
              "\n",
              "    outputElement.appendChild(li);\n",
              "\n",
              "    const fileDataPromise = new Promise((resolve) => {\n",
              "      const reader = new FileReader();\n",
              "      reader.onload = (e) => {\n",
              "        resolve(e.target.result);\n",
              "      };\n",
              "      reader.readAsArrayBuffer(file);\n",
              "    });\n",
              "    // Wait for the data to be ready.\n",
              "    let fileData = yield {\n",
              "      promise: fileDataPromise,\n",
              "      response: {\n",
              "        action: 'continue',\n",
              "      }\n",
              "    };\n",
              "\n",
              "    // Use a chunked sending to avoid message size limits. See b/62115660.\n",
              "    let position = 0;\n",
              "    do {\n",
              "      const length = Math.min(fileData.byteLength - position, MAX_PAYLOAD_SIZE);\n",
              "      const chunk = new Uint8Array(fileData, position, length);\n",
              "      position += length;\n",
              "\n",
              "      const base64 = btoa(String.fromCharCode.apply(null, chunk));\n",
              "      yield {\n",
              "        response: {\n",
              "          action: 'append',\n",
              "          file: file.name,\n",
              "          data: base64,\n",
              "        },\n",
              "      };\n",
              "\n",
              "      let percentDone = fileData.byteLength === 0 ?\n",
              "          100 :\n",
              "          Math.round((position / fileData.byteLength) * 100);\n",
              "      percent.textContent = `${percentDone}% done`;\n",
              "\n",
              "    } while (position < fileData.byteLength);\n",
              "  }\n",
              "\n",
              "  // All done.\n",
              "  yield {\n",
              "    response: {\n",
              "      action: 'complete',\n",
              "    }\n",
              "  };\n",
              "}\n",
              "\n",
              "scope.google = scope.google || {};\n",
              "scope.google.colab = scope.google.colab || {};\n",
              "scope.google.colab._files = {\n",
              "  _uploadFiles,\n",
              "  _uploadFilesContinue,\n",
              "};\n",
              "})(self);\n",
              "</script> "
            ]
          },
          "metadata": {}
        },
        {
          "output_type": "stream",
          "name": "stdout",
          "text": [
            "Saving Video_Games.csv to Video_Games.csv\n"
          ]
        }
      ]
    },
    {
      "cell_type": "code",
      "execution_count": 6,
      "id": "da255bdd",
      "metadata": {
        "colab": {
          "base_uri": "https://localhost:8080/"
        },
        "id": "da255bdd",
        "outputId": "a5b9388f-33bb-4203-c3c6-2a6a6fe67b88"
      },
      "outputs": [
        {
          "output_type": "stream",
          "name": "stdout",
          "text": [
            "Tamaño total del dataset: (2565349, 3)\n"
          ]
        }
      ],
      "source": [
        "df = pd.read_csv(\"Video_Games.csv\", header=None)\n",
        "\n",
        "df.columns = ['item_id', 'user_id', 'rating', 'timestamp']\n",
        "\n",
        "df = df.drop('timestamp', axis=1)\n",
        "\n",
        "print(f\"Tamaño total del dataset: {df.shape}\")"
      ]
    },
    {
      "cell_type": "code",
      "execution_count": 105,
      "id": "0e0bf6cd",
      "metadata": {
        "colab": {
          "base_uri": "https://localhost:8080/"
        },
        "id": "0e0bf6cd",
        "outputId": "6e62ba35-0444-4cc3-8455-821ae16719d6"
      },
      "outputs": [
        {
          "output_type": "stream",
          "name": "stdout",
          "text": [
            "Seleccionados 1141 usuarios con al menos 35 ratings cada uno\n",
            "Tamaño del dataset filtrado: (70580, 3)\n",
            "Reducción del dataset: 97.25%\n"
          ]
        }
      ],
      "source": [
        "top_n_users = 100000 # Maximo de usuarios con los que queremos trabajar\n",
        "min_ratings = 35   # Usuarios con al menos este número de ratings\n",
        "user_counts = df['user_id'].value_counts()\n",
        "\n",
        "dense_users = user_counts[user_counts >= min_ratings].index.tolist()\n",
        "\n",
        "if len(dense_users) > top_n_users:\n",
        "    dense_users = dense_users[:top_n_users]\n",
        "\n",
        "print(f\"Seleccionados {len(dense_users)} usuarios con al menos {min_ratings} ratings cada uno\")\n",
        "\n",
        "df_dense = df[df['user_id'].isin(dense_users)]\n",
        "\n",
        "print(f\"Tamaño del dataset filtrado: {df_dense.shape}\")\n",
        "print(f\"Reducción del dataset: {100 * (1 - len(df_dense) / len(df)):.2f}%\")"
      ]
    },
    {
      "cell_type": "code",
      "execution_count": 106,
      "id": "28f8519e",
      "metadata": {
        "colab": {
          "base_uri": "https://localhost:8080/"
        },
        "id": "28f8519e",
        "outputId": "4f0e2cf9-7758-417e-90dc-46ebfe60c4f8"
      },
      "outputs": [
        {
          "output_type": "stream",
          "name": "stdout",
          "text": [
            "Tamaño del conjunto de entrenamiento: (56464, 3)\n",
            "Tamaño del conjunto de prueba: (11762, 3)\n",
            "Usuarios comunes en train y test: 1139/1141\n",
            "Items comunes en train y test: 5962/18660\n"
          ]
        }
      ],
      "source": [
        "def random_split(data, test_ratio=0.2, random_state=42):\n",
        "    data_shuffled = data.sample(frac=1, random_state=random_state)\n",
        "\n",
        "    split = int(len(data) * (1 - test_ratio))\n",
        "\n",
        "    train = data_shuffled.iloc[:split]\n",
        "    test = data_shuffled.iloc[split:]\n",
        "\n",
        "    train_users = set(train['user_id'].unique())\n",
        "    train_items = set(train['item_id'].unique())\n",
        "    test = test[test['user_id'].isin(train_users) & test['item_id'].isin(train_items)]\n",
        "\n",
        "    return train, test\n",
        "\n",
        "train_data, test_data = random_split(df_dense)\n",
        "print(f\"Tamaño del conjunto de entrenamiento: {train_data.shape}\")\n",
        "print(f\"Tamaño del conjunto de prueba: {test_data.shape}\")\n",
        "\n",
        "train_users = set(train_data['user_id'].unique())\n",
        "train_items = set(train_data['item_id'].unique())\n",
        "common_users = len(train_users.intersection(set(test_data['user_id'].unique())))\n",
        "common_items = len(train_items.intersection(set(test_data['item_id'].unique())))\n",
        "\n",
        "print(f\"Usuarios comunes en train y test: {common_users}/{len(train_users)}\")\n",
        "print(f\"Items comunes en train y test: {common_items}/{len(train_items)}\")"
      ]
    },
    {
      "cell_type": "markdown",
      "id": "91eb2080",
      "metadata": {
        "id": "91eb2080"
      },
      "source": [
        "#### Creación de matrices"
      ]
    },
    {
      "cell_type": "markdown",
      "id": "b804c164",
      "metadata": {
        "id": "b804c164"
      },
      "source": [
        "Mapeos para los datos de entrenamiento"
      ]
    },
    {
      "cell_type": "code",
      "execution_count": 107,
      "id": "74615fb8",
      "metadata": {
        "colab": {
          "base_uri": "https://localhost:8080/"
        },
        "id": "74615fb8",
        "outputId": "89eab3f0-4262-4ca4-8098-5631b214cf3c"
      },
      "outputs": [
        {
          "output_type": "stream",
          "name": "stdout",
          "text": [
            "Usuarios: 1141, Items: 18660\n"
          ]
        }
      ],
      "source": [
        "train_users_list = train_data['user_id'].unique()\n",
        "train_items_list = train_data['item_id'].unique()\n",
        "\n",
        "user2idx = {user_id: idx for idx, user_id in enumerate(train_users_list)}\n",
        "item2idx = {item_id: idx for idx, item_id in enumerate(train_items_list)}\n",
        "\n",
        "idx2user = {idx: user for user, idx in user2idx.items()}\n",
        "idx2item = {idx: item for item, idx in item2idx.items()}\n",
        "\n",
        "NUM_USERS = len(user2idx)\n",
        "NUM_ITEMS = len(item2idx)\n",
        "MIN_RATING = df['rating'].min()\n",
        "MAX_RATING = df['rating'].max()\n",
        "\n",
        "print(f\"Usuarios: {NUM_USERS}, Items: {NUM_ITEMS}\")"
      ]
    },
    {
      "cell_type": "markdown",
      "id": "2bf507f9",
      "metadata": {
        "id": "2bf507f9"
      },
      "source": [
        "Matriz de train sparse"
      ]
    },
    {
      "cell_type": "code",
      "execution_count": 108,
      "id": "aaa0026b",
      "metadata": {
        "id": "aaa0026b"
      },
      "outputs": [],
      "source": [
        "# Inicializar matriz vacía\n",
        "train_matrix = sp.lil_matrix((NUM_USERS, NUM_ITEMS))\n",
        "\n",
        "# Llenar con valores sin acumular\n",
        "for _, row in train_data.iterrows():\n",
        "    if row['user_id'] in user2idx and row['item_id'] in item2idx:\n",
        "        u_idx = user2idx[row['user_id']]\n",
        "        i_idx = item2idx[row['item_id']]\n",
        "        # Asignar directamente, sin acumular\n",
        "        train_matrix[u_idx, i_idx] = row['rating']\n",
        "\n",
        "# Convertir a CSR para operaciones eficientes\n",
        "train_matrix = train_matrix.tocsr()"
      ]
    },
    {
      "cell_type": "markdown",
      "id": "ec34660c",
      "metadata": {
        "id": "ec34660c"
      },
      "source": [
        "Matriz de test sparse"
      ]
    },
    {
      "cell_type": "code",
      "execution_count": 109,
      "id": "5ad8d3fa",
      "metadata": {
        "id": "5ad8d3fa"
      },
      "outputs": [],
      "source": [
        "test_matrix = sp.lil_matrix((NUM_USERS, NUM_ITEMS))\n",
        "\n",
        "# Llenar con valores sin acumular\n",
        "for _, row in test_data.iterrows():\n",
        "    if row['user_id'] in user2idx and row['item_id'] in item2idx:\n",
        "        u_idx = user2idx[row['user_id']]\n",
        "        i_idx = item2idx[row['item_id']]\n",
        "        # Asignar directamente, sin acumular\n",
        "        test_matrix[u_idx, i_idx] = row['rating']\n",
        "\n",
        "# Convertir a CSR para operaciones eficientes\n",
        "test_matrix = test_matrix.tocsr()"
      ]
    },
    {
      "cell_type": "markdown",
      "id": "ab804aec",
      "metadata": {
        "id": "ab804aec"
      },
      "source": [
        "Medidas"
      ]
    },
    {
      "cell_type": "code",
      "execution_count": 110,
      "id": "67b3ff2d",
      "metadata": {
        "colab": {
          "base_uri": "https://localhost:8080/"
        },
        "id": "67b3ff2d",
        "outputId": "800f03fb-4c41-4f57-cf6f-6aca4a5117e2"
      },
      "outputs": [
        {
          "output_type": "stream",
          "name": "stdout",
          "text": [
            "Forma de la matriz de train: (1141, 18660)\n",
            "Densidad de la matriz de train: 0.002555\n",
            "Forma de la matriz de test: (1141, 18660)\n",
            "Densidad de la matriz de test: 0.000545\n"
          ]
        }
      ],
      "source": [
        "print(f\"Forma de la matriz de train: {train_matrix.shape}\")\n",
        "print(f\"Densidad de la matriz de train: {train_matrix.nnz / (NUM_USERS * NUM_ITEMS):.6f}\")\n",
        "print(f\"Forma de la matriz de test: {test_matrix.shape}\")\n",
        "print(f\"Densidad de la matriz de test: {test_matrix.nnz / (NUM_USERS * NUM_ITEMS):.6f}\")"
      ]
    },
    {
      "cell_type": "markdown",
      "id": "db615b04",
      "metadata": {
        "id": "db615b04"
      },
      "source": [
        "#### Cáclulo de similaridad"
      ]
    },
    {
      "cell_type": "markdown",
      "id": "4b4da7e8",
      "metadata": {
        "id": "4b4da7e8"
      },
      "source": [
        "correlation similarity"
      ]
    },
    {
      "cell_type": "code",
      "execution_count": 111,
      "id": "4abedc1b",
      "metadata": {
        "id": "4abedc1b"
      },
      "outputs": [],
      "source": [
        "def correlation_similarity(u, v):\n",
        "    if u == v:\n",
        "        return sp.identity(NUM_USERS, format='csr')\n",
        "\n",
        "    u_items = set(train_matrix[u].indices)\n",
        "    v_items = set(train_matrix[v].indices)\n",
        "    common_items = u_items.intersection(v_items)\n",
        "\n",
        "    if len(common_items) < 2:\n",
        "        return sp.csr_matrix((1, NUM_USERS))\n",
        "\n",
        "    u_ratings = [train_matrix[u, i] for i in common_items]\n",
        "    v_ratings = [train_matrix[v, i] for i in common_items]\n",
        "\n",
        "    avg_u = np.mean(u_ratings) if len(u_ratings) > 0 else 0\n",
        "    avg_v = np.mean(v_ratings) if len(v_ratings) > 0 else 0\n",
        "\n",
        "    num = 0\n",
        "    den_u = 0\n",
        "    den_v = 0\n",
        "\n",
        "    for i in common_items:\n",
        "        r_u = float(train_matrix[u, i])\n",
        "        r_v = float(train_matrix[v, i])\n",
        "\n",
        "        num += (r_u - avg_u) * (r_v - avg_v)\n",
        "        den_u += (r_u - avg_u) ** 2\n",
        "        den_v += (r_v - avg_v) ** 2\n",
        "\n",
        "    if num == 0 or den_u == 0 or den_v == 0:\n",
        "        return sp.csr_matrix((1, NUM_USERS))\n",
        "\n",
        "    sim = num / (np.sqrt(den_u) * np.sqrt(den_v))\n",
        "\n",
        "    return sp.csr_matrix(([sim], ([0], [v])), shape=(1, NUM_USERS))"
      ]
    },
    {
      "cell_type": "markdown",
      "id": "3eaf7fa9",
      "metadata": {
        "id": "3eaf7fa9"
      },
      "source": [
        "jmsd similarity"
      ]
    },
    {
      "cell_type": "code",
      "execution_count": 112,
      "id": "da4ee827",
      "metadata": {
        "id": "da4ee827"
      },
      "outputs": [],
      "source": [
        "def jmsd_similarity(u, v):\n",
        "    if u == v:\n",
        "        return sp.identity(NUM_USERS, format='csr')\n",
        "\n",
        "    u_items = set(train_matrix[u].indices)\n",
        "    v_items = set(train_matrix[v].indices)\n",
        "    common_items = u_items.intersection(v_items)\n",
        "    all_items = u_items.union(v_items)\n",
        "\n",
        "    intersection = len(common_items)\n",
        "    union = len(all_items)\n",
        "\n",
        "    if intersection == 0:\n",
        "        return sp.csr_matrix((1, NUM_USERS))\n",
        "\n",
        "    rating_range = MAX_RATING - MIN_RATING\n",
        "\n",
        "    diff_sum = 0\n",
        "    for i in common_items:\n",
        "        # Normalizamos las calificaciones\n",
        "        r_u = (float(train_matrix[u, i]) - MIN_RATING) / rating_range\n",
        "        r_v = (float(train_matrix[v, i]) - MIN_RATING) / rating_range\n",
        "\n",
        "        diff_sum += (r_u - r_v) ** 2\n",
        "\n",
        "    msd = diff_sum / intersection\n",
        "    jaccard = intersection / union\n",
        "\n",
        "    sim = jaccard * (1 - msd)\n",
        "\n",
        "    return sp.csr_matrix(([sim], ([0], [v])), shape=(1, NUM_USERS))"
      ]
    },
    {
      "cell_type": "markdown",
      "id": "83f47d60",
      "metadata": {
        "id": "83f47d60"
      },
      "source": [
        "Hacemos un pequeño test para comprobar que funciona.  \n",
        "En la mayoria de casos da 0.0, aunque de vez en cuando encuentra usuarios con algo de similaridad.  \n",
        "Esto ocurre porque nuestro dataset es bastante disperso"
      ]
    },
    {
      "cell_type": "code",
      "execution_count": 113,
      "id": "1c731389",
      "metadata": {
        "colab": {
          "base_uri": "https://localhost:8080/"
        },
        "id": "1c731389",
        "outputId": "18759ffb-ef78-4880-f222-8120a6d9579d"
      },
      "outputs": [
        {
          "output_type": "stream",
          "name": "stdout",
          "text": [
            "Similitud entre usuario A1RS06313BL6WN y AIUSVX34T9Z4O: Correlación = 0.000000, JMSD = 0.004858\n"
          ]
        }
      ],
      "source": [
        "u, v = random.randint(0, NUM_USERS-1), random.randint(0, NUM_USERS-1)\n",
        "corr_sim = correlation_similarity(u, v)[0, v] if u != v else 1.0\n",
        "jmsd_sim = jmsd_similarity(u, v)[0, v] if u != v else 1.0\n",
        "print(f\"Similitud entre usuario {idx2user[u]} y {idx2user[v]}: Correlación = {corr_sim:.6f}, JMSD = {jmsd_sim:.6f}\")"
      ]
    },
    {
      "cell_type": "markdown",
      "id": "30c735bc",
      "metadata": {
        "id": "30c735bc"
      },
      "source": [
        "#### Obtener vecinos"
      ]
    },
    {
      "cell_type": "code",
      "execution_count": 114,
      "id": "6da05d70",
      "metadata": {
        "id": "6da05d70"
      },
      "outputs": [],
      "source": [
        "def get_neighbors(u, similarities):\n",
        "    k = 25\n",
        "    neighbors = []\n",
        "\n",
        "    for v, sim in enumerate(similarities):\n",
        "        if v != u and sim is not None:\n",
        "            if sim.nnz > 0:\n",
        "                sim_value = sim[0, v]\n",
        "                neighbors.append((v, sim_value))\n",
        "\n",
        "    neighbors.sort(key=lambda x: x[1], reverse=True)\n",
        "    return neighbors[:k]"
      ]
    },
    {
      "cell_type": "code",
      "execution_count": 115,
      "id": "8d77f302",
      "metadata": {
        "colab": {
          "base_uri": "https://localhost:8080/"
        },
        "id": "8d77f302",
        "outputId": "ede6dead-01b4-4f94-af37-40a502a0ec38"
      },
      "outputs": [
        {
          "output_type": "stream",
          "name": "stdout",
          "text": [
            "[(180, np.float64(1.0000000000000002)), (53, np.float64(1.0)), (468, np.float64(0.9999999999999998)), (923, np.float64(0.9999999999999998)), (140, np.float64(0.7559289460184546)), (710, np.float64(0.6123724356957944)), (31, np.float64(0.5000000000000001)), (535, np.float64(0.5000000000000001)), (594, np.float64(0.5000000000000001)), (674, np.float64(0.5000000000000001)), (340, np.float64(0.3614486980061246)), (301, np.float64(0.25000000000000006)), (394, np.float64(0.25)), (974, np.float64(0.06939315030888374)), (486, np.float64(-0.5000000000000001)), (179, np.float64(-0.5940885257860046)), (1051, np.float64(-0.9999999999999998))]\n",
            "[(719, np.float64(0.0806686046511628)), (394, np.float64(0.06994047619047618)), (784, np.float64(0.06818181818181818)), (974, np.float64(0.053797468354430375)), (580, np.float64(0.049218750000000006)), (662, np.float64(0.04578488372093023)), (237, np.float64(0.045454545454545456)), (884, np.float64(0.043750000000000004)), (646, np.float64(0.042385057471264365)), (301, np.float64(0.03653846153846154)), (379, np.float64(0.035860655737704916)), (436, np.float64(0.03547297297297297)), (69, np.float64(0.03539156626506024)), (458, np.float64(0.03497023809523809)), (340, np.float64(0.03409090909090909)), (1025, np.float64(0.03409090909090909)), (107, np.float64(0.03361344537815126)), (604, np.float64(0.031586021505376344)), (674, np.float64(0.030598958333333332)), (535, np.float64(0.028519417475728157)), (317, np.float64(0.028465346534653466)), (363, np.float64(0.02694954128440367)), (180, np.float64(0.02564102564102564)), (594, np.float64(0.023882113821138213)), (812, np.float64(0.023689516129032258))]\n"
          ]
        }
      ],
      "source": [
        "u = 112\n",
        "similarities_corr = [None if u == v else correlation_similarity(u, v) for v in range(NUM_USERS)]\n",
        "similarities_jmsd = [None if u == v else jmsd_similarity(u, v) for v in range(NUM_USERS)]\n",
        "neighbors_corr = get_neighbors(u, similarities_corr)\n",
        "neighbors_jmsd = get_neighbors(u, similarities_jmsd)\n",
        "print(neighbors_corr)\n",
        "print(neighbors_jmsd)"
      ]
    },
    {
      "cell_type": "markdown",
      "id": "67852cb8",
      "metadata": {
        "id": "67852cb8"
      },
      "source": [
        "#### Estimación de las predicciones\n",
        "En el caso de que no haya los suficientes datos, se devolverá la media global del item. Es un término conocido como 'fallback' que se usa en casos reales"
      ]
    },
    {
      "cell_type": "markdown",
      "id": "8d3479fa",
      "metadata": {
        "id": "8d3479fa"
      },
      "source": [
        "Media del item"
      ]
    },
    {
      "cell_type": "code",
      "execution_count": 116,
      "id": "51ab454f",
      "metadata": {
        "id": "51ab454f"
      },
      "outputs": [],
      "source": [
        "def global_average(i):\n",
        "    users_who_rated = [u for u in range(NUM_USERS) if train_matrix[u, i] != 0]\n",
        "    if users_who_rated:\n",
        "        return sum(train_matrix[u, i] for u in users_who_rated) / len(users_who_rated)\n",
        "    return 3.0"
      ]
    },
    {
      "cell_type": "markdown",
      "id": "741c4056",
      "metadata": {
        "id": "741c4056"
      },
      "source": [
        "Media"
      ]
    },
    {
      "cell_type": "code",
      "execution_count": 117,
      "id": "f82b063c",
      "metadata": {
        "id": "f82b063c"
      },
      "outputs": [],
      "source": [
        "def average_prediction(u, i, neighbors):\n",
        "    count = 0\n",
        "    sum_ratings = 0\n",
        "\n",
        "    for v, _ in neighbors:\n",
        "        if train_matrix[v, i] != 0:\n",
        "            sum_ratings += train_matrix[v, i]\n",
        "            count += 1\n",
        "\n",
        "    if count > 0:\n",
        "        return sum_ratings / count\n",
        "\n",
        "    return global_average(i)"
      ]
    },
    {
      "cell_type": "code",
      "execution_count": 118,
      "id": "4bf3fabd",
      "metadata": {
        "colab": {
          "base_uri": "https://localhost:8080/"
        },
        "id": "4bf3fabd",
        "outputId": "63d3c0ab-a7c6-425b-9efd-f17f2e5eb830"
      },
      "outputs": [
        {
          "output_type": "stream",
          "name": "stdout",
          "text": [
            "4.444444444444445\n",
            "4.444444444444445\n"
          ]
        }
      ],
      "source": [
        "u = 67\n",
        "i = 1865\n",
        "predicted_corr = average_prediction(u, i, neighbors_corr)\n",
        "predicted_jmsd = average_prediction(u, i, neighbors_jmsd)\n",
        "print(predicted_corr)\n",
        "print(predicted_jmsd)"
      ]
    },
    {
      "cell_type": "markdown",
      "id": "aee81a15",
      "metadata": {
        "id": "aee81a15"
      },
      "source": [
        "Media ponderada"
      ]
    },
    {
      "cell_type": "code",
      "execution_count": 119,
      "id": "3c46893f",
      "metadata": {
        "id": "3c46893f"
      },
      "outputs": [],
      "source": [
        "def weighted_average_prediction(u, i, neighbors):\n",
        "    numerator = 0\n",
        "    denominator = 0\n",
        "\n",
        "    for v, sim in neighbors:\n",
        "        if train_matrix[v, i] != 0:\n",
        "            numerator += sim * train_matrix[v, i]\n",
        "            denominator += abs(sim)\n",
        "\n",
        "    if denominator > 0:\n",
        "        return numerator / denominator\n",
        "\n",
        "    return global_average(i)"
      ]
    },
    {
      "cell_type": "code",
      "execution_count": 120,
      "id": "cc7263b2",
      "metadata": {
        "colab": {
          "base_uri": "https://localhost:8080/"
        },
        "id": "cc7263b2",
        "outputId": "dc13705e-53d4-4063-cb16-2a305e703864"
      },
      "outputs": [
        {
          "output_type": "stream",
          "name": "stdout",
          "text": [
            "2.9999999999999996\n",
            "5.0\n"
          ]
        }
      ],
      "source": [
        "u = 67\n",
        "i = 571\n",
        "predicted_corr = weighted_average_prediction(u, i, neighbors_corr)\n",
        "predicted_jmsd = weighted_average_prediction(u, i, neighbors_jmsd)\n",
        "print(predicted_corr)\n",
        "print(predicted_jmsd)"
      ]
    },
    {
      "cell_type": "markdown",
      "id": "92dca611",
      "metadata": {
        "id": "92dca611"
      },
      "source": [
        "Media de agregación"
      ]
    },
    {
      "cell_type": "code",
      "execution_count": 121,
      "id": "6b8ef98b",
      "metadata": {
        "id": "6b8ef98b"
      },
      "outputs": [],
      "source": [
        "def deviation_from_mean_prediction(u, i, neighbors):\n",
        "    u_ratings = train_matrix[u].data\n",
        "    avg_u = np.mean(u_ratings) if len(u_ratings) > 0 else global_average(i)\n",
        "\n",
        "    sum_deviation = 0\n",
        "    count = 0\n",
        "\n",
        "    for v, _ in neighbors:\n",
        "        if train_matrix[v, i] != 0:\n",
        "            v_ratings = train_matrix[v].data\n",
        "            avg_v = np.mean(v_ratings) if len(v_ratings) > 0 else 0\n",
        "\n",
        "            sum_deviation += (train_matrix[v, i] - avg_v)\n",
        "            count += 1\n",
        "\n",
        "    if count > 0:\n",
        "        prediction = avg_u + (sum_deviation / count)\n",
        "        return prediction\n",
        "\n",
        "    return global_average(i)"
      ]
    },
    {
      "cell_type": "code",
      "execution_count": 122,
      "id": "5919fe72",
      "metadata": {
        "colab": {
          "base_uri": "https://localhost:8080/"
        },
        "id": "5919fe72",
        "outputId": "521bf5d6-d83a-4111-f94e-64a745555a18"
      },
      "outputs": [
        {
          "output_type": "stream",
          "name": "stdout",
          "text": [
            "1.0\n",
            "1.0\n"
          ]
        }
      ],
      "source": [
        "u = 3\n",
        "i = 2716\n",
        "predicted_corr = deviation_from_mean_prediction(u, i, neighbors_corr)\n",
        "predicted_jmsd = deviation_from_mean_prediction(u, i, neighbors_jmsd)\n",
        "print(predicted_corr)\n",
        "print(predicted_jmsd)"
      ]
    },
    {
      "cell_type": "markdown",
      "id": "16e67fff",
      "metadata": {
        "id": "16e67fff"
      },
      "source": [
        "#### Calculo de recomendaciones"
      ]
    },
    {
      "cell_type": "code",
      "execution_count": 123,
      "id": "77f54b2a",
      "metadata": {
        "id": "77f54b2a"
      },
      "outputs": [],
      "source": [
        "def get_recommendations(predictions):\n",
        "    recommendations = [None for _ in range(len(predictions))]\n",
        "\n",
        "    for n in range(len(predictions)):\n",
        "        max_value = None\n",
        "        item = None\n",
        "\n",
        "        for i, value in enumerate(predictions[n]):\n",
        "            if value is not None and (max_value is None or value > max_value):\n",
        "                max_value = value\n",
        "                item = i\n",
        "\n",
        "        recommendations[n] = item\n",
        "\n",
        "    return recommendations"
      ]
    },
    {
      "cell_type": "code",
      "execution_count": 124,
      "id": "766e1e7c",
      "metadata": {
        "id": "766e1e7c"
      },
      "outputs": [],
      "source": [
        "N = 5 #Vamos a usar 10 usuarios para mostrar recomendaciones\n",
        "M = NUM_ITEMS\n",
        "\n",
        "test_users = random.sample(range(NUM_USERS), N)\n",
        "\n",
        "neighbors_corr = {}\n",
        "neighbors_jmsd = {}\n",
        "for u in test_users:\n",
        "    similarities_corr = [None if u == v else correlation_similarity(u, v) for v in range(NUM_USERS)]\n",
        "    similarities_jmsd = [None if u == v else jmsd_similarity(u, v) for v in range(NUM_USERS)]\n",
        "    neighbors_corr[u] = get_neighbors(u, similarities_corr)\n",
        "    neighbors_jmsd[u] = get_neighbors(u, similarities_jmsd)"
      ]
    },
    {
      "cell_type": "code",
      "execution_count": 125,
      "id": "56cf1ba9",
      "metadata": {
        "id": "56cf1ba9"
      },
      "outputs": [],
      "source": [
        "avg_predictions_corr = [[None if train_matrix[u, i] != 0 else average_prediction(u, i, neighbors_corr[u])\n",
        "                        for i in range(100)] for u in test_users]\n",
        "avg_predictions_jmsd = [[None if train_matrix[u, i] != 0 else average_prediction(u, i, neighbors_jmsd[u])\n",
        "                        for i in range(100)] for u in test_users]\n",
        "\n",
        "wavg_predictions_corr = [[None if train_matrix[u, i] != 0 else weighted_average_prediction(u, i, neighbors_corr[u])\n",
        "                        for i in range(100)] for u in test_users]\n",
        "wavg_predictions_jmsd = [[None if train_matrix[u, i] != 0 else weighted_average_prediction(u, i, neighbors_jmsd[u])\n",
        "                        for i in range(100)] for u in test_users]\n",
        "\n",
        "dfm_predictions_corr = [[None if train_matrix[u, i] != 0 else deviation_from_mean_prediction(u, i, neighbors_corr[u])\n",
        "                        for i in range(100)] for u in test_users]\n",
        "dfm_predictions_jmsd = [[None if train_matrix[u, i] != 0 else deviation_from_mean_prediction(u, i, neighbors_jmsd[u])\n",
        "                        for i in range(100)] for u in test_users]"
      ]
    },
    {
      "cell_type": "code",
      "execution_count": 126,
      "id": "eb76e519",
      "metadata": {
        "colab": {
          "base_uri": "https://localhost:8080/"
        },
        "id": "eb76e519",
        "outputId": "73f2861a-d221-44de-fd65-c744af8f6dd8"
      },
      "outputs": [
        {
          "output_type": "stream",
          "name": "stdout",
          "text": [
            "[1, 1, 1, 1, 1]\n",
            "[1, 1, 1, 1, 1]\n",
            "[1, 1, 1, 1, 1]\n",
            "[1, 1, 1, 1, 7]\n",
            "[1, 1, 1, 24, 6]\n",
            "[4, 42, 1, 92, 96]\n"
          ]
        }
      ],
      "source": [
        "recommendations_avg_corr = get_recommendations(avg_predictions_corr)\n",
        "recommendations_avg_jmsd = get_recommendations(avg_predictions_jmsd)\n",
        "recommendations_wavg_corr = get_recommendations(wavg_predictions_corr)\n",
        "recommendations_wavg_jmsd = get_recommendations(wavg_predictions_jmsd)\n",
        "recommendations_dfm_corr = get_recommendations(dfm_predictions_corr)\n",
        "recommendations_dfm_jmsd = get_recommendations(dfm_predictions_jmsd)\n",
        "\n",
        "print(recommendations_avg_corr)\n",
        "print(recommendations_avg_jmsd)\n",
        "print(recommendations_wavg_corr)\n",
        "print(recommendations_wavg_jmsd)\n",
        "print(recommendations_dfm_corr)\n",
        "print(recommendations_dfm_jmsd)"
      ]
    },
    {
      "cell_type": "markdown",
      "id": "dd707d1e",
      "metadata": {
        "id": "dd707d1e"
      },
      "source": [
        "#### Calculo del MAE"
      ]
    },
    {
      "cell_type": "code",
      "execution_count": 127,
      "id": "d51c023a",
      "metadata": {
        "id": "d51c023a"
      },
      "outputs": [],
      "source": [
        "def has_test_ratings(u):\n",
        "    return test_matrix[u].nnz > 0"
      ]
    },
    {
      "cell_type": "markdown",
      "id": "b4b5e146",
      "metadata": {
        "id": "b4b5e146"
      },
      "source": [
        "Para poder hacer las predicciones de múltiples algoritmos, vimos necesario hacer un prefiltrado de posibles vecinos en bloques de 50  \n",
        "para reducir drásticamente el tiempo de ejecución (anteriormente estuvo 1 día y no terminó).  \n",
        "Actualmente estamos comparando similitudes únicamente con vecinos potenciales. (90mins aprox)"
      ]
    },
    {
      "cell_type": "code",
      "execution_count": 134,
      "id": "bfacb277",
      "metadata": {
        "colab": {
          "base_uri": "https://localhost:8080/"
        },
        "id": "bfacb277",
        "outputId": "d7a6eca8-7338-4140-cacd-d7f4419661ad"
      },
      "outputs": [
        {
          "output_type": "stream",
          "name": "stdout",
          "text": [
            "0.00%\n",
            "0.09%\n",
            "0.18%\n",
            "0.26%\n",
            "0.35%\n",
            "0.44%\n",
            "0.53%\n",
            "0.61%\n",
            "0.70%\n",
            "0.79%\n",
            "0.88%\n",
            "0.96%\n",
            "1.05%\n",
            "1.14%\n",
            "1.23%\n",
            "1.31%\n",
            "1.40%\n",
            "1.49%\n",
            "1.58%\n",
            "1.67%\n",
            "1.75%\n",
            "1.84%\n",
            "1.93%\n",
            "2.02%\n",
            "2.10%\n",
            "2.19%\n",
            "2.28%\n",
            "2.37%\n",
            "2.45%\n",
            "2.54%\n",
            "2.63%\n",
            "2.72%\n",
            "2.80%\n",
            "2.89%\n",
            "2.98%\n",
            "3.07%\n",
            "3.16%\n",
            "3.24%\n",
            "3.33%\n",
            "3.42%\n",
            "3.51%\n",
            "3.59%\n",
            "3.68%\n",
            "3.77%\n",
            "3.86%\n",
            "3.94%\n",
            "4.03%\n",
            "4.12%\n",
            "4.21%\n",
            "4.29%\n",
            "4.38%\n",
            "4.47%\n",
            "4.56%\n",
            "4.65%\n",
            "4.73%\n",
            "4.82%\n",
            "4.91%\n",
            "5.00%\n",
            "5.08%\n",
            "5.17%\n",
            "5.26%\n",
            "5.35%\n",
            "5.43%\n",
            "5.52%\n",
            "5.61%\n",
            "5.70%\n",
            "5.78%\n",
            "5.87%\n",
            "5.96%\n",
            "6.05%\n",
            "6.13%\n",
            "6.22%\n",
            "6.31%\n",
            "6.40%\n",
            "6.49%\n",
            "6.57%\n",
            "6.66%\n",
            "6.75%\n",
            "6.84%\n",
            "6.92%\n",
            "7.01%\n",
            "7.10%\n",
            "7.19%\n",
            "7.27%\n",
            "7.36%\n",
            "7.45%\n",
            "7.54%\n",
            "7.62%\n",
            "7.71%\n",
            "7.80%\n",
            "7.89%\n",
            "7.98%\n",
            "8.06%\n",
            "8.15%\n",
            "8.24%\n",
            "8.33%\n",
            "8.41%\n",
            "8.50%\n",
            "8.59%\n",
            "8.68%\n",
            "8.76%\n",
            "8.85%\n",
            "8.94%\n",
            "9.03%\n",
            "9.11%\n",
            "9.20%\n",
            "9.29%\n",
            "9.38%\n",
            "9.47%\n",
            "9.55%\n",
            "9.64%\n",
            "9.73%\n",
            "9.82%\n",
            "9.90%\n",
            "9.99%\n",
            "10.08%\n",
            "10.17%\n",
            "10.25%\n",
            "10.34%\n",
            "10.43%\n",
            "10.52%\n",
            "10.60%\n",
            "10.69%\n",
            "10.78%\n",
            "10.87%\n",
            "10.96%\n",
            "11.04%\n",
            "11.13%\n",
            "11.22%\n",
            "11.31%\n",
            "11.39%\n",
            "11.48%\n",
            "11.57%\n",
            "11.66%\n",
            "11.74%\n",
            "11.83%\n",
            "11.92%\n",
            "12.01%\n",
            "12.09%\n",
            "12.18%\n",
            "12.27%\n",
            "12.36%\n",
            "12.45%\n",
            "12.53%\n",
            "12.62%\n",
            "12.71%\n",
            "12.80%\n",
            "12.88%\n",
            "12.97%\n",
            "13.06%\n",
            "13.15%\n",
            "13.23%\n",
            "13.32%\n",
            "13.41%\n",
            "13.50%\n",
            "13.58%\n",
            "13.67%\n",
            "13.76%\n",
            "13.85%\n",
            "13.94%\n",
            "14.02%\n",
            "14.11%\n",
            "14.20%\n",
            "14.29%\n",
            "14.37%\n",
            "14.46%\n",
            "14.55%\n",
            "14.64%\n",
            "14.72%\n",
            "14.81%\n",
            "14.90%\n",
            "14.99%\n",
            "15.07%\n",
            "15.16%\n",
            "15.25%\n",
            "15.34%\n",
            "15.43%\n",
            "15.51%\n",
            "15.60%\n",
            "15.69%\n",
            "15.78%\n",
            "15.86%\n",
            "15.95%\n",
            "16.04%\n",
            "16.13%\n",
            "16.21%\n",
            "16.30%\n",
            "16.39%\n",
            "16.48%\n",
            "16.56%\n",
            "16.65%\n",
            "16.74%\n",
            "16.83%\n",
            "16.91%\n",
            "17.00%\n",
            "17.09%\n",
            "17.18%\n",
            "17.27%\n",
            "17.35%\n",
            "17.44%\n",
            "17.53%\n",
            "17.62%\n",
            "17.70%\n",
            "17.79%\n",
            "17.88%\n",
            "17.97%\n",
            "18.05%\n",
            "18.14%\n",
            "18.23%\n",
            "18.32%\n",
            "18.40%\n",
            "18.49%\n",
            "18.58%\n",
            "18.67%\n",
            "18.76%\n",
            "18.84%\n",
            "18.93%\n",
            "19.02%\n",
            "19.11%\n",
            "19.19%\n",
            "19.28%\n",
            "19.37%\n",
            "19.46%\n",
            "19.54%\n",
            "19.63%\n",
            "19.72%\n",
            "19.81%\n",
            "19.89%\n",
            "19.98%\n",
            "20.07%\n",
            "20.16%\n",
            "20.25%\n",
            "20.33%\n",
            "20.42%\n",
            "20.51%\n",
            "20.60%\n",
            "20.68%\n",
            "20.77%\n",
            "20.86%\n",
            "20.95%\n",
            "21.03%\n",
            "21.12%\n",
            "21.21%\n",
            "21.30%\n",
            "21.38%\n",
            "21.47%\n",
            "21.56%\n",
            "21.65%\n",
            "21.74%\n",
            "21.82%\n",
            "21.91%\n",
            "22.00%\n",
            "22.09%\n",
            "22.17%\n",
            "22.26%\n",
            "22.35%\n",
            "22.44%\n",
            "22.52%\n",
            "22.61%\n",
            "22.70%\n",
            "22.79%\n",
            "22.87%\n",
            "22.96%\n",
            "23.05%\n",
            "23.14%\n",
            "23.23%\n",
            "23.31%\n",
            "23.40%\n",
            "23.49%\n",
            "23.58%\n",
            "23.66%\n",
            "23.75%\n",
            "23.84%\n",
            "23.93%\n",
            "24.01%\n",
            "24.10%\n",
            "24.19%\n",
            "24.28%\n",
            "24.36%\n",
            "24.45%\n",
            "24.54%\n",
            "24.63%\n",
            "24.72%\n",
            "24.80%\n",
            "24.89%\n",
            "24.98%\n",
            "25.07%\n",
            "25.15%\n",
            "25.24%\n",
            "25.33%\n",
            "25.42%\n",
            "25.50%\n",
            "25.59%\n",
            "25.68%\n",
            "25.77%\n",
            "25.85%\n",
            "25.94%\n",
            "26.03%\n",
            "26.12%\n",
            "26.21%\n",
            "26.29%\n",
            "26.38%\n",
            "26.47%\n",
            "26.56%\n",
            "26.64%\n",
            "26.73%\n",
            "26.82%\n",
            "26.91%\n",
            "26.99%\n",
            "27.08%\n",
            "27.17%\n",
            "27.26%\n",
            "27.34%\n",
            "27.43%\n",
            "27.52%\n",
            "27.61%\n",
            "27.70%\n",
            "27.78%\n",
            "27.87%\n",
            "27.96%\n",
            "28.05%\n",
            "28.13%\n",
            "28.22%\n",
            "28.31%\n",
            "28.40%\n",
            "28.48%\n",
            "28.57%\n",
            "28.66%\n",
            "28.75%\n",
            "28.83%\n",
            "28.92%\n",
            "29.01%\n",
            "29.10%\n",
            "29.18%\n",
            "29.27%\n",
            "29.36%\n",
            "29.45%\n",
            "29.54%\n",
            "29.62%\n",
            "29.71%\n",
            "29.80%\n",
            "29.89%\n",
            "29.97%\n",
            "30.06%\n",
            "30.15%\n",
            "30.24%\n",
            "30.32%\n",
            "30.41%\n",
            "30.50%\n",
            "30.59%\n",
            "30.67%\n",
            "30.76%\n",
            "30.85%\n",
            "30.94%\n",
            "31.03%\n",
            "31.11%\n",
            "31.20%\n",
            "31.29%\n",
            "31.38%\n",
            "31.46%\n",
            "31.55%\n",
            "31.64%\n",
            "31.73%\n",
            "31.81%\n",
            "31.90%\n",
            "31.99%\n",
            "32.08%\n",
            "32.16%\n",
            "32.25%\n",
            "32.34%\n",
            "32.43%\n",
            "32.52%\n",
            "32.60%\n",
            "32.69%\n",
            "32.78%\n",
            "32.87%\n",
            "32.95%\n",
            "33.04%\n",
            "33.13%\n",
            "33.22%\n",
            "33.30%\n",
            "33.39%\n",
            "33.48%\n",
            "33.57%\n",
            "33.65%\n",
            "33.74%\n",
            "33.83%\n",
            "33.92%\n",
            "34.01%\n",
            "34.09%\n",
            "34.18%\n",
            "34.27%\n",
            "34.36%\n",
            "34.44%\n",
            "34.53%\n",
            "34.62%\n",
            "34.71%\n",
            "34.79%\n",
            "34.88%\n",
            "34.97%\n",
            "35.06%\n",
            "35.14%\n",
            "35.23%\n",
            "35.32%\n",
            "35.41%\n",
            "35.50%\n",
            "35.58%\n",
            "35.67%\n",
            "35.76%\n",
            "35.85%\n",
            "35.93%\n",
            "36.02%\n",
            "36.11%\n",
            "36.20%\n",
            "36.28%\n",
            "36.37%\n",
            "36.46%\n",
            "36.55%\n",
            "36.63%\n",
            "36.72%\n",
            "36.81%\n",
            "36.90%\n",
            "36.99%\n",
            "37.07%\n",
            "37.16%\n",
            "37.25%\n",
            "37.34%\n",
            "37.42%\n",
            "37.51%\n",
            "37.60%\n",
            "37.69%\n",
            "37.77%\n",
            "37.86%\n",
            "37.95%\n",
            "38.04%\n",
            "38.12%\n",
            "38.21%\n",
            "38.30%\n",
            "38.39%\n",
            "38.48%\n",
            "38.56%\n",
            "38.65%\n",
            "38.74%\n",
            "38.83%\n",
            "38.91%\n",
            "39.00%\n",
            "39.09%\n",
            "39.18%\n",
            "39.26%\n",
            "39.35%\n",
            "39.44%\n",
            "39.53%\n",
            "39.61%\n",
            "39.70%\n",
            "39.79%\n",
            "39.88%\n",
            "39.96%\n",
            "40.05%\n",
            "40.14%\n",
            "40.23%\n",
            "40.32%\n",
            "40.40%\n",
            "40.49%\n",
            "40.58%\n",
            "40.67%\n",
            "40.75%\n",
            "40.84%\n",
            "40.93%\n",
            "41.02%\n",
            "41.10%\n",
            "41.19%\n",
            "41.28%\n",
            "41.37%\n",
            "41.45%\n",
            "41.54%\n",
            "41.63%\n",
            "41.72%\n",
            "41.81%\n",
            "41.89%\n",
            "41.98%\n",
            "42.07%\n",
            "42.16%\n",
            "42.24%\n",
            "42.33%\n",
            "42.42%\n",
            "42.51%\n",
            "42.59%\n",
            "42.68%\n",
            "42.77%\n",
            "42.86%\n",
            "42.94%\n",
            "43.03%\n",
            "43.12%\n",
            "43.21%\n",
            "43.30%\n",
            "43.38%\n",
            "43.47%\n",
            "43.56%\n",
            "43.65%\n",
            "43.73%\n",
            "43.82%\n",
            "43.91%\n",
            "44.00%\n",
            "44.08%\n",
            "44.17%\n",
            "44.26%\n",
            "44.35%\n",
            "44.43%\n",
            "44.52%\n",
            "44.61%\n",
            "44.70%\n",
            "44.79%\n",
            "44.87%\n",
            "44.96%\n",
            "45.05%\n",
            "45.14%\n",
            "45.22%\n",
            "45.31%\n",
            "45.40%\n",
            "45.49%\n",
            "45.57%\n",
            "45.66%\n",
            "45.75%\n",
            "45.84%\n",
            "45.92%\n",
            "46.01%\n",
            "46.10%\n",
            "46.19%\n",
            "46.28%\n",
            "46.36%\n",
            "46.45%\n",
            "46.54%\n",
            "46.63%\n",
            "46.71%\n",
            "46.80%\n",
            "46.89%\n",
            "46.98%\n",
            "47.06%\n",
            "47.15%\n",
            "47.24%\n",
            "47.33%\n",
            "47.41%\n",
            "47.50%\n",
            "47.59%\n",
            "47.68%\n",
            "47.77%\n",
            "47.85%\n",
            "47.94%\n",
            "48.03%\n",
            "48.12%\n",
            "48.20%\n",
            "48.29%\n",
            "48.38%\n",
            "48.47%\n",
            "48.55%\n",
            "48.64%\n",
            "48.73%\n",
            "48.82%\n",
            "48.90%\n",
            "48.99%\n",
            "49.08%\n",
            "49.17%\n",
            "49.26%\n",
            "49.34%\n",
            "49.43%\n",
            "49.52%\n",
            "49.61%\n",
            "49.69%\n",
            "49.78%\n",
            "49.87%\n",
            "49.96%\n",
            "50.04%\n",
            "50.13%\n",
            "50.22%\n",
            "50.31%\n",
            "50.39%\n",
            "50.48%\n",
            "50.57%\n",
            "50.66%\n",
            "50.74%\n",
            "50.83%\n",
            "50.92%\n",
            "51.01%\n",
            "51.10%\n",
            "51.18%\n",
            "51.27%\n",
            "51.36%\n",
            "51.45%\n",
            "51.53%\n",
            "51.62%\n",
            "51.71%\n",
            "51.80%\n",
            "51.88%\n",
            "51.97%\n",
            "52.06%\n",
            "52.15%\n",
            "52.23%\n",
            "52.32%\n",
            "52.41%\n",
            "52.50%\n",
            "52.59%\n",
            "52.67%\n",
            "52.76%\n",
            "52.85%\n",
            "52.94%\n",
            "53.02%\n",
            "53.11%\n",
            "53.20%\n",
            "53.29%\n",
            "53.37%\n",
            "53.46%\n",
            "53.55%\n",
            "53.64%\n",
            "53.72%\n",
            "53.81%\n",
            "53.90%\n",
            "53.99%\n",
            "54.08%\n",
            "54.16%\n",
            "54.25%\n",
            "54.34%\n",
            "54.43%\n",
            "54.51%\n",
            "54.60%\n",
            "54.69%\n",
            "54.78%\n",
            "54.86%\n",
            "54.95%\n",
            "55.04%\n",
            "55.13%\n",
            "55.21%\n",
            "55.30%\n",
            "55.39%\n",
            "55.48%\n",
            "55.57%\n",
            "55.65%\n",
            "55.74%\n",
            "55.83%\n",
            "55.92%\n",
            "56.00%\n",
            "56.09%\n",
            "56.18%\n",
            "56.27%\n",
            "56.35%\n",
            "56.44%\n",
            "56.53%\n",
            "56.62%\n",
            "56.70%\n",
            "56.79%\n",
            "56.88%\n",
            "56.97%\n",
            "57.06%\n",
            "57.14%\n",
            "57.23%\n",
            "57.32%\n",
            "57.41%\n",
            "57.49%\n",
            "57.58%\n",
            "57.67%\n",
            "57.76%\n",
            "57.84%\n",
            "57.93%\n",
            "58.02%\n",
            "58.11%\n",
            "58.19%\n",
            "58.28%\n",
            "58.37%\n",
            "58.46%\n",
            "58.55%\n",
            "58.63%\n",
            "58.72%\n",
            "58.81%\n",
            "58.90%\n",
            "58.98%\n",
            "59.07%\n",
            "59.16%\n",
            "59.25%\n",
            "59.33%\n",
            "59.42%\n",
            "59.51%\n",
            "59.60%\n",
            "59.68%\n",
            "59.77%\n",
            "59.86%\n",
            "59.95%\n",
            "60.04%\n",
            "60.12%\n",
            "60.21%\n",
            "60.30%\n",
            "60.39%\n",
            "60.47%\n",
            "60.56%\n",
            "60.65%\n",
            "60.74%\n",
            "60.82%\n",
            "60.91%\n",
            "61.00%\n",
            "61.09%\n",
            "61.17%\n",
            "61.26%\n",
            "61.35%\n",
            "61.44%\n",
            "61.52%\n",
            "61.61%\n",
            "61.70%\n",
            "61.79%\n",
            "61.88%\n",
            "61.96%\n",
            "62.05%\n",
            "62.14%\n",
            "62.23%\n",
            "62.31%\n",
            "62.40%\n",
            "62.49%\n",
            "62.58%\n",
            "62.66%\n",
            "62.75%\n",
            "62.84%\n",
            "62.93%\n",
            "63.01%\n",
            "63.10%\n",
            "63.19%\n",
            "63.28%\n",
            "63.37%\n",
            "63.45%\n",
            "63.54%\n",
            "63.63%\n",
            "63.72%\n",
            "63.80%\n",
            "63.89%\n",
            "63.98%\n",
            "64.07%\n",
            "64.15%\n",
            "64.24%\n",
            "64.33%\n",
            "64.42%\n",
            "64.50%\n",
            "64.59%\n",
            "64.68%\n",
            "64.77%\n",
            "64.86%\n",
            "64.94%\n",
            "65.03%\n",
            "65.12%\n",
            "65.21%\n",
            "65.29%\n",
            "65.38%\n",
            "65.47%\n",
            "65.56%\n",
            "65.64%\n",
            "65.73%\n",
            "65.82%\n",
            "65.91%\n",
            "65.99%\n",
            "66.08%\n",
            "66.17%\n",
            "66.26%\n",
            "66.35%\n",
            "66.43%\n",
            "66.52%\n",
            "66.61%\n",
            "66.70%\n",
            "66.78%\n",
            "66.87%\n",
            "66.96%\n",
            "67.05%\n",
            "67.13%\n",
            "67.22%\n",
            "67.31%\n",
            "67.40%\n",
            "67.48%\n",
            "67.57%\n",
            "67.66%\n",
            "67.75%\n",
            "67.84%\n",
            "67.92%\n",
            "68.01%\n",
            "68.10%\n",
            "68.19%\n",
            "68.27%\n",
            "68.36%\n",
            "68.45%\n",
            "68.54%\n",
            "68.62%\n",
            "68.71%\n",
            "68.80%\n",
            "68.89%\n",
            "68.97%\n",
            "69.06%\n",
            "69.15%\n",
            "69.24%\n",
            "69.33%\n",
            "69.41%\n",
            "69.50%\n",
            "69.59%\n",
            "69.68%\n",
            "69.76%\n",
            "69.85%\n",
            "69.94%\n",
            "70.03%\n",
            "70.11%\n",
            "70.20%\n",
            "70.29%\n",
            "70.38%\n",
            "70.46%\n",
            "70.55%\n",
            "70.64%\n",
            "70.73%\n",
            "70.82%\n",
            "70.90%\n",
            "70.99%\n",
            "71.08%\n",
            "71.17%\n",
            "71.25%\n",
            "71.34%\n",
            "71.43%\n",
            "71.52%\n",
            "71.60%\n",
            "71.69%\n",
            "71.78%\n",
            "71.87%\n",
            "71.95%\n",
            "72.04%\n",
            "72.13%\n",
            "72.22%\n",
            "72.30%\n",
            "72.39%\n",
            "72.48%\n",
            "72.57%\n",
            "72.66%\n",
            "72.74%\n",
            "72.83%\n",
            "72.92%\n",
            "73.01%\n",
            "73.09%\n",
            "73.18%\n",
            "73.27%\n",
            "73.36%\n",
            "73.44%\n",
            "73.53%\n",
            "73.62%\n",
            "73.71%\n",
            "73.79%\n",
            "73.88%\n",
            "73.97%\n",
            "74.06%\n",
            "74.15%\n",
            "74.23%\n",
            "74.32%\n",
            "74.41%\n",
            "74.50%\n",
            "74.58%\n",
            "74.67%\n",
            "74.76%\n",
            "74.85%\n",
            "74.93%\n",
            "75.02%\n",
            "75.11%\n",
            "75.20%\n",
            "75.28%\n",
            "75.37%\n",
            "75.46%\n",
            "75.55%\n",
            "75.64%\n",
            "75.72%\n",
            "75.81%\n",
            "75.90%\n",
            "75.99%\n",
            "76.07%\n",
            "76.16%\n",
            "76.25%\n",
            "76.34%\n",
            "76.42%\n",
            "76.51%\n",
            "76.60%\n",
            "76.69%\n",
            "76.77%\n",
            "76.86%\n",
            "76.95%\n",
            "77.04%\n",
            "77.13%\n",
            "77.21%\n",
            "77.30%\n",
            "77.39%\n",
            "77.48%\n",
            "77.56%\n",
            "77.65%\n",
            "77.74%\n",
            "77.83%\n",
            "77.91%\n",
            "78.00%\n",
            "78.09%\n",
            "78.18%\n",
            "78.26%\n",
            "78.35%\n",
            "78.44%\n",
            "78.53%\n",
            "78.62%\n",
            "78.70%\n",
            "78.79%\n",
            "78.88%\n",
            "78.97%\n",
            "79.05%\n",
            "79.14%\n",
            "79.23%\n",
            "79.32%\n",
            "79.40%\n",
            "79.49%\n",
            "79.58%\n",
            "79.67%\n",
            "79.75%\n",
            "79.84%\n",
            "79.93%\n",
            "80.02%\n",
            "80.11%\n",
            "80.19%\n",
            "80.28%\n",
            "80.37%\n",
            "80.46%\n",
            "80.54%\n",
            "80.63%\n",
            "80.72%\n",
            "80.81%\n",
            "80.89%\n",
            "80.98%\n",
            "81.07%\n",
            "81.16%\n",
            "81.24%\n",
            "81.33%\n",
            "81.42%\n",
            "81.51%\n",
            "81.60%\n",
            "81.68%\n",
            "81.77%\n",
            "81.86%\n",
            "81.95%\n",
            "82.03%\n",
            "82.12%\n",
            "82.21%\n",
            "82.30%\n",
            "82.38%\n",
            "82.47%\n",
            "82.56%\n",
            "82.65%\n",
            "82.73%\n",
            "82.82%\n",
            "82.91%\n",
            "83.00%\n",
            "83.09%\n",
            "83.17%\n",
            "83.26%\n",
            "83.35%\n",
            "83.44%\n",
            "83.52%\n",
            "83.61%\n",
            "83.70%\n",
            "83.79%\n",
            "83.87%\n",
            "83.96%\n",
            "84.05%\n",
            "84.14%\n",
            "84.22%\n",
            "84.31%\n",
            "84.40%\n",
            "84.49%\n",
            "84.57%\n",
            "84.66%\n",
            "84.75%\n",
            "84.84%\n",
            "84.93%\n",
            "85.01%\n",
            "85.10%\n",
            "85.19%\n",
            "85.28%\n",
            "85.36%\n",
            "85.45%\n",
            "85.54%\n",
            "85.63%\n",
            "85.71%\n",
            "85.80%\n",
            "85.89%\n",
            "85.98%\n",
            "86.06%\n",
            "86.15%\n",
            "86.24%\n",
            "86.33%\n",
            "86.42%\n",
            "86.50%\n",
            "86.59%\n",
            "86.68%\n",
            "86.77%\n",
            "86.85%\n",
            "86.94%\n",
            "87.03%\n",
            "87.12%\n",
            "87.20%\n",
            "87.29%\n",
            "87.38%\n",
            "87.47%\n",
            "87.55%\n",
            "87.64%\n",
            "87.73%\n",
            "87.82%\n",
            "87.91%\n",
            "87.99%\n",
            "88.08%\n",
            "88.17%\n",
            "88.26%\n",
            "88.34%\n",
            "88.43%\n",
            "88.52%\n",
            "88.61%\n",
            "88.69%\n",
            "88.78%\n",
            "88.87%\n",
            "88.96%\n",
            "89.04%\n",
            "89.13%\n",
            "89.22%\n",
            "89.31%\n",
            "89.40%\n",
            "89.48%\n",
            "89.57%\n",
            "89.66%\n",
            "89.75%\n",
            "89.83%\n",
            "89.92%\n",
            "90.01%\n",
            "90.10%\n",
            "90.18%\n",
            "90.27%\n",
            "90.36%\n",
            "90.45%\n",
            "90.53%\n",
            "90.62%\n",
            "90.71%\n",
            "90.80%\n",
            "90.89%\n",
            "90.97%\n",
            "91.06%\n",
            "91.15%\n",
            "91.24%\n",
            "91.32%\n",
            "91.41%\n",
            "91.50%\n",
            "91.59%\n",
            "91.67%\n",
            "91.76%\n",
            "91.85%\n",
            "91.94%\n",
            "92.02%\n",
            "92.11%\n",
            "92.20%\n",
            "92.29%\n",
            "92.38%\n",
            "92.46%\n",
            "92.55%\n",
            "92.64%\n",
            "92.73%\n",
            "92.81%\n",
            "92.90%\n",
            "92.99%\n",
            "93.08%\n",
            "93.16%\n",
            "93.25%\n",
            "93.34%\n",
            "93.43%\n",
            "93.51%\n",
            "93.60%\n",
            "93.69%\n",
            "93.78%\n",
            "93.87%\n",
            "93.95%\n",
            "94.04%\n",
            "94.13%\n",
            "94.22%\n",
            "94.30%\n",
            "94.39%\n",
            "94.48%\n",
            "94.57%\n",
            "94.65%\n",
            "94.74%\n",
            "94.83%\n",
            "94.92%\n",
            "95.00%\n",
            "95.09%\n",
            "95.18%\n",
            "95.27%\n",
            "95.35%\n",
            "95.44%\n",
            "95.53%\n",
            "95.62%\n",
            "95.71%\n",
            "95.79%\n",
            "95.88%\n",
            "95.97%\n",
            "96.06%\n",
            "96.14%\n",
            "96.23%\n",
            "96.32%\n",
            "96.41%\n",
            "96.49%\n",
            "96.58%\n",
            "96.67%\n",
            "96.76%\n",
            "96.84%\n",
            "96.93%\n",
            "97.02%\n",
            "97.11%\n",
            "97.20%\n",
            "97.28%\n",
            "97.37%\n",
            "97.46%\n",
            "97.55%\n",
            "97.63%\n",
            "97.72%\n",
            "97.81%\n",
            "97.90%\n",
            "97.98%\n",
            "98.07%\n",
            "98.16%\n",
            "98.25%\n",
            "98.33%\n",
            "98.42%\n",
            "98.51%\n",
            "98.60%\n",
            "98.69%\n",
            "98.77%\n",
            "98.86%\n",
            "98.95%\n",
            "99.04%\n",
            "99.12%\n",
            "99.21%\n",
            "99.30%\n",
            "99.39%\n",
            "99.47%\n",
            "99.56%\n",
            "99.65%\n",
            "99.74%\n",
            "99.82%\n",
            "99.91%\n"
          ]
        }
      ],
      "source": [
        "avg_predictions_corr = [[None for _ in range(NUM_ITEMS)] for _ in range(NUM_USERS)]\n",
        "avg_predictions_jmsd = [[None for _ in range(NUM_ITEMS)] for _ in range(NUM_USERS)]\n",
        "wavg_predictions_corr = [[None for _ in range(NUM_ITEMS)] for _ in range(NUM_USERS)]\n",
        "wavg_predictions_jmsd = [[None for _ in range(NUM_ITEMS)] for _ in range(NUM_USERS)]\n",
        "dfm_predictions_corr = [[None for _ in range(NUM_ITEMS)] for _ in range(NUM_USERS)]\n",
        "dfm_predictions_jmsd = [[None for _ in range(NUM_ITEMS)] for _ in range(NUM_USERS)]\n",
        "\n",
        "# Rellenamos la matriz de predicciones\n",
        "for u in range(NUM_USERS):\n",
        "  print(f'{(u/ NUM_USERS * 100):.2f}%')\n",
        "  if has_test_ratings(u):\n",
        "\n",
        "    # Calcular similaridades\n",
        "    similarities_corr = [None if u == v else correlation_similarity(u, v) for v in range(NUM_USERS)]\n",
        "    similarities_jmsd = [None if u == v else jmsd_similarity(u, v) for v in range(NUM_USERS)]\n",
        "\n",
        "    # Calcular vecinos\n",
        "    neighbors_corr = get_neighbors(u, similarities_corr)\n",
        "    neighbors_jmsd = get_neighbors(u, similarities_jmsd)\n",
        "\n",
        "    # Calcular predicciones sobre los items de test votados por el usuario\n",
        "    for i in range(NUM_ITEMS):\n",
        "      if test_matrix[u, i] != 0:  # Para matrices dispersas CSR\n",
        "        avg_predictions_corr[u][i] = average_prediction(u, i, neighbors_corr)\n",
        "        avg_predictions_jmsd[u][i] = average_prediction(u, i, neighbors_jmsd)\n",
        "        wavg_predictions_corr[u][i] = weighted_average_prediction(u, i, neighbors_corr)\n",
        "        wavg_predictions_jmsd[u][i] = weighted_average_prediction(u, i, neighbors_jmsd)\n",
        "        dfm_predictions_corr[u][i] = deviation_from_mean_prediction(u, i, neighbors_corr)\n",
        "        dfm_predictions_jmsd[u][i] = deviation_from_mean_prediction(u, i, neighbors_jmsd)"
      ]
    },
    {
      "cell_type": "markdown",
      "id": "acd2ee5d",
      "metadata": {
        "id": "acd2ee5d"
      },
      "source": [
        "Ahora definimos el MAE y lo calculamos"
      ]
    },
    {
      "cell_type": "code",
      "execution_count": 135,
      "id": "25d186ef",
      "metadata": {
        "id": "25d186ef"
      },
      "outputs": [],
      "source": [
        "def get_user_mae(u, predictions):\n",
        "    mae = 0\n",
        "    count = 0\n",
        "\n",
        "    test_items = test_matrix[u].nonzero()[1]\n",
        "\n",
        "    for i in test_items:\n",
        "        if predictions[u][i] is not None:\n",
        "            mae += abs(test_matrix[u, i] - predictions[u][i])\n",
        "            count += 1\n",
        "\n",
        "    if count > 0:\n",
        "        return mae / count\n",
        "    else:\n",
        "        return None\n",
        ""
      ]
    },
    {
      "cell_type": "code",
      "execution_count": 136,
      "id": "f54c26e1",
      "metadata": {
        "id": "f54c26e1"
      },
      "outputs": [],
      "source": [
        "def get_mae(predictions):\n",
        "    mae = 0\n",
        "    count = 0\n",
        "\n",
        "    for u in range(NUM_USERS):\n",
        "        if has_test_ratings(u):\n",
        "            user_mae = get_user_mae(u, predictions)\n",
        "\n",
        "            if user_mae is not None:\n",
        "                mae += user_mae\n",
        "                count += 1\n",
        "\n",
        "    if count > 0:\n",
        "        return mae / count\n",
        "    else:\n",
        "        return None"
      ]
    },
    {
      "cell_type": "code",
      "execution_count": 137,
      "id": "1b4d87c4",
      "metadata": {
        "colab": {
          "base_uri": "https://localhost:8080/"
        },
        "id": "1b4d87c4",
        "outputId": "8bcc76de-a49d-4cfc-bc1a-32157261b657"
      },
      "outputs": [
        {
          "output_type": "stream",
          "name": "stdout",
          "text": [
            "MAE Avg Prediction with Corr Similarity = 0.9253989193716361\n",
            "MAE Avg Prediction with JMSD Similarity = 0.8891381276586673\n",
            "MAE Weighted Avg Prediction with Corr Similarity = 1.4951731697457744\n",
            "MAE Weighted Avg Prediction with JMSD Similarity = 0.8896986542954874\n",
            "MAE Dev from Mean Prediction with Corr Similarity = 0.906414319183112\n",
            "MAE Dev from Mean Prediction with JMSD Similarity = 0.8714327656261254\n"
          ]
        }
      ],
      "source": [
        "mae_avg_corr = get_mae(avg_predictions_corr)\n",
        "mae_avg_jmsd = get_mae(avg_predictions_jmsd)\n",
        "mae_wavg_corr = get_mae(wavg_predictions_corr)\n",
        "mae_wavg_jmsd = get_mae(wavg_predictions_jmsd)\n",
        "mae_dfm_corr = get_mae(dfm_predictions_corr)\n",
        "mae_dfm_jmsd = get_mae(dfm_predictions_jmsd)\n",
        "\n",
        "print(f\"MAE Avg Prediction with Corr Similarity = \" + str(mae_avg_corr))\n",
        "print(f\"MAE Avg Prediction with JMSD Similarity = \" + str(mae_avg_jmsd))\n",
        "print(f\"MAE Weighted Avg Prediction with Corr Similarity = \" + str(mae_wavg_corr))\n",
        "print(f\"MAE Weighted Avg Prediction with JMSD Similarity = \" + str(mae_wavg_jmsd))\n",
        "print(f\"MAE Dev from Mean Prediction with Corr Similarity = \" + str(mae_dfm_corr))\n",
        "print(f\"MAE Dev from Mean Prediction with JMSD Similarity = \" + str(mae_dfm_jmsd))"
      ]
    },
    {
      "cell_type": "markdown",
      "id": "5130e13d",
      "metadata": {
        "id": "5130e13d"
      },
      "source": [
        "#### Cálculo del resto de medidas\n",
        "Las adaptaciones para las matrices sparse utilizadas se centran acceso eficiente a datos no nulos mediante `nonzero()`,  \n",
        "reemplazando verificaciones basadas en `None` por comprobaciones de valores distintos de cero,  \n",
        "y empleando pre-filtrado de vecinos para reducir drásticamente los pares de comparación"
      ]
    },
    {
      "cell_type": "markdown",
      "id": "7143cf9d",
      "metadata": {
        "id": "7143cf9d"
      },
      "source": [
        "rmse"
      ]
    },
    {
      "cell_type": "code",
      "execution_count": 138,
      "id": "f9e84e9c",
      "metadata": {
        "id": "f9e84e9c"
      },
      "outputs": [],
      "source": [
        "def get_user_rmse(u, predictions):\n",
        "    mse = 0\n",
        "    count = 0\n",
        "\n",
        "    test_items = test_matrix[u].nonzero()[1]\n",
        "\n",
        "    for i in test_items:\n",
        "        if predictions[u][i] is not None:\n",
        "            mse += (test_matrix[u, i] - predictions[u][i]) ** 2\n",
        "            count += 1\n",
        "\n",
        "    if count > 0:\n",
        "        return math.sqrt(mse / count)\n",
        "    else:\n",
        "        return None"
      ]
    },
    {
      "cell_type": "code",
      "execution_count": 139,
      "id": "2a650966",
      "metadata": {
        "id": "2a650966"
      },
      "outputs": [],
      "source": [
        "def get_rmse(predictions):\n",
        "    rmse = 0\n",
        "    count = 0\n",
        "\n",
        "    for u in range(NUM_USERS):\n",
        "        if has_test_ratings(u):\n",
        "            user_rmse = get_user_rmse(u, predictions)\n",
        "\n",
        "            if user_rmse is not None:\n",
        "                rmse += user_rmse\n",
        "                count += 1\n",
        "\n",
        "    if count > 0:\n",
        "        return rmse / count\n",
        "    else:\n",
        "        return None"
      ]
    },
    {
      "cell_type": "code",
      "execution_count": 140,
      "id": "8650c299",
      "metadata": {
        "colab": {
          "base_uri": "https://localhost:8080/"
        },
        "id": "8650c299",
        "outputId": "133474a8-94b2-4f73-9ad8-c02aea8bfd58"
      },
      "outputs": [
        {
          "output_type": "stream",
          "name": "stdout",
          "text": [
            "RMSE Avg Prediction with Corr Similarity = 1.2068751519805172\n",
            "RMSE Avg Prediction with JMSD Similarity = 1.1863055385249233\n",
            "RMSE Weighted Avg Prediction with Corr Similarity = 2.085948591788406\n",
            "RMSE Weighted Avg Prediction with JMSD Similarity = 1.186703353540928\n",
            "RMSE Dev from Mean Prediction with Corr Similarity = 1.1574648409835016\n",
            "RMSE Dev from Mean Prediction with JMSD Similarity = 1.118176263338421\n"
          ]
        }
      ],
      "source": [
        "rmse_avg_corr = get_rmse(avg_predictions_corr)\n",
        "rmse_avg_jmsd = get_rmse(avg_predictions_jmsd)\n",
        "rmse_wavg_corr = get_rmse(wavg_predictions_corr)\n",
        "rmse_wavg_jmsd = get_rmse(wavg_predictions_jmsd)\n",
        "rmse_dfm_corr = get_rmse(dfm_predictions_corr)\n",
        "rmse_dfm_jmsd = get_rmse(dfm_predictions_jmsd)\n",
        "\n",
        "print(f\"RMSE Avg Prediction with Corr Similarity = \" + str(rmse_avg_corr))\n",
        "print(f\"RMSE Avg Prediction with JMSD Similarity = \" + str(rmse_avg_jmsd))\n",
        "print(f\"RMSE Weighted Avg Prediction with Corr Similarity = \" + str(rmse_wavg_corr))\n",
        "print(f\"RMSE Weighted Avg Prediction with JMSD Similarity = \" + str(rmse_wavg_jmsd))\n",
        "print(f\"RMSE Dev from Mean Prediction with Corr Similarity = \" + str(rmse_dfm_corr))\n",
        "print(f\"RMSE Dev from Mean Prediction with JMSD Similarity = \" + str(rmse_dfm_jmsd))"
      ]
    },
    {
      "cell_type": "markdown",
      "id": "6b9f3fd0",
      "metadata": {
        "id": "6b9f3fd0"
      },
      "source": [
        "Precision"
      ]
    },
    {
      "cell_type": "code",
      "execution_count": 141,
      "id": "fca450f9",
      "metadata": {
        "id": "fca450f9"
      },
      "outputs": [],
      "source": [
        "theta = 4"
      ]
    },
    {
      "cell_type": "code",
      "execution_count": 142,
      "id": "36943e4a",
      "metadata": {
        "id": "36943e4a"
      },
      "outputs": [],
      "source": [
        "def get_user_precision(u, predictions):\n",
        "    precision = 0\n",
        "    count = 0\n",
        "\n",
        "    user_predictions = predictions[u]\n",
        "    recommendations = get_recommendations([user_predictions])[0]\n",
        "\n",
        "    if recommendations is None:\n",
        "        return None\n",
        "\n",
        "    if not isinstance(recommendations, list):\n",
        "        recommendations = [recommendations]\n",
        "\n",
        "    for i in recommendations:\n",
        "        if i is not None and test_matrix[u, i] != 0:\n",
        "            precision += 1 if test_matrix[u, i] >= theta else 0\n",
        "            count += 1\n",
        "\n",
        "    if count > 0:\n",
        "        return precision / count\n",
        "    else:\n",
        "        return None"
      ]
    },
    {
      "cell_type": "code",
      "execution_count": 143,
      "id": "653b1f99",
      "metadata": {
        "id": "653b1f99"
      },
      "outputs": [],
      "source": [
        "def get_precision(predictions):\n",
        "    precision = 0\n",
        "    count = 0\n",
        "\n",
        "    for u in range(NUM_USERS):\n",
        "        if has_test_ratings(u):\n",
        "            user_precision = get_user_precision(u, predictions)\n",
        "\n",
        "            if user_precision is not None:\n",
        "                precision += user_precision\n",
        "                count += 1\n",
        "\n",
        "    if count > 0:\n",
        "        return precision / count\n",
        "    else:\n",
        "        return None"
      ]
    },
    {
      "cell_type": "code",
      "execution_count": 144,
      "id": "9deed6c5",
      "metadata": {
        "colab": {
          "base_uri": "https://localhost:8080/"
        },
        "id": "9deed6c5",
        "outputId": "01639932-9b0b-4c50-8b5a-8b9c9a6cfb1b"
      },
      "outputs": [
        {
          "output_type": "stream",
          "name": "stdout",
          "text": [
            "Precision Avg Prediction with Corr Similarity = 0.8366988586479368\n",
            "Precision Avg Prediction with JMSD Similarity = 0.8419666374012291\n",
            "Precision Weighted Avg Prediction with Corr Similarity = 0.845478489903424\n",
            "Precision Weighted Avg Prediction with JMSD Similarity = 0.839332748024583\n",
            "Precision Dev from Mean Prediction with Corr Similarity = 0.839332748024583\n",
            "Precision Dev from Mean Prediction with JMSD Similarity = 0.835820895522388\n"
          ]
        }
      ],
      "source": [
        "precision_avg_corr = get_precision(avg_predictions_corr)\n",
        "precision_avg_jmsd = get_precision(avg_predictions_jmsd)\n",
        "precision_wavg_corr = get_precision(wavg_predictions_corr)\n",
        "precision_wavg_jmsd = get_precision(wavg_predictions_jmsd)\n",
        "precision_dfm_corr = get_precision(dfm_predictions_corr)\n",
        "precision_dfm_jmsd = get_precision(dfm_predictions_jmsd)\n",
        "\n",
        "print(f\"Precision Avg Prediction with Corr Similarity = \" + str(precision_avg_corr))\n",
        "print(f\"Precision Avg Prediction with JMSD Similarity = \" + str(precision_avg_jmsd))\n",
        "print(f\"Precision Weighted Avg Prediction with Corr Similarity = \" + str(precision_wavg_corr))\n",
        "print(f\"Precision Weighted Avg Prediction with JMSD Similarity = \" + str(precision_wavg_jmsd))\n",
        "print(f\"Precision Dev from Mean Prediction with Corr Similarity = \" + str(precision_dfm_corr))\n",
        "print(f\"Precision Dev from Mean Prediction with JMSD Similarity = \" + str(precision_dfm_jmsd))"
      ]
    },
    {
      "cell_type": "markdown",
      "id": "8a249c89",
      "metadata": {
        "id": "8a249c89"
      },
      "source": [
        "Recall"
      ]
    },
    {
      "cell_type": "code",
      "execution_count": 145,
      "id": "0053e62d",
      "metadata": {
        "id": "0053e62d"
      },
      "outputs": [],
      "source": [
        "def get_user_recall(u, predictions):\n",
        "    recall = 0\n",
        "    count = 0\n",
        "\n",
        "    recommendations = get_recommendations([predictions[u]])[0]\n",
        "\n",
        "    if recommendations is not None and not isinstance(recommendations, list):\n",
        "        recommendations = [recommendations]\n",
        "\n",
        "    test_items = test_matrix[u].nonzero()[1]\n",
        "\n",
        "    for i in test_items:\n",
        "        if test_matrix[u, i] >= theta:\n",
        "            recall += 1 if recommendations is not None and i in recommendations else 0\n",
        "            count += 1\n",
        "\n",
        "    if count > 0:\n",
        "        return recall / count\n",
        "    else:\n",
        "        return None\n",
        "\n",
        "def get_recall(predictions):\n",
        "    recall = 0\n",
        "    count = 0\n",
        "\n",
        "    for u in range(NUM_USERS):\n",
        "        if has_test_ratings(u):\n",
        "            user_recall = get_user_recall(u, predictions)\n",
        "\n",
        "            if user_recall is not None:\n",
        "                recall += user_recall\n",
        "                count += 1\n",
        "\n",
        "    if count > 0:\n",
        "        return recall / count\n",
        "    else:\n",
        "        return None"
      ]
    },
    {
      "cell_type": "code",
      "execution_count": 146,
      "id": "28fc3446",
      "metadata": {
        "colab": {
          "base_uri": "https://localhost:8080/"
        },
        "id": "28fc3446",
        "outputId": "e5740036-4b4f-42fc-82ee-a4c26606d437"
      },
      "outputs": [
        {
          "output_type": "stream",
          "name": "stdout",
          "text": [
            "Recall Avg Prediction with Corr Similarity = 0.15236202588080855\n",
            "Recall Avg Prediction with JMSD Similarity = 0.15269808356298617\n",
            "Recall Weighted Avg Prediction with Corr Similarity = 0.15308404722338936\n",
            "Recall Weighted Avg Prediction with JMSD Similarity = 0.15239471908502739\n",
            "Recall Dev from Mean Prediction with Corr Similarity = 0.15316387844142437\n",
            "Recall Dev from Mean Prediction with JMSD Similarity = 0.15337196490913357\n"
          ]
        }
      ],
      "source": [
        "recall_avg_corr = get_recall(avg_predictions_corr)\n",
        "recall_avg_jmsd = get_recall(avg_predictions_jmsd)\n",
        "recall_wavg_corr = get_recall(wavg_predictions_corr)\n",
        "recall_wavg_jmsd = get_recall(wavg_predictions_jmsd)\n",
        "recall_dfm_corr = get_recall(dfm_predictions_corr)\n",
        "recall_dfm_jmsd = get_recall(dfm_predictions_jmsd)\n",
        "\n",
        "print(f\"Recall Avg Prediction with Corr Similarity = \" + str(recall_avg_corr))\n",
        "print(f\"Recall Avg Prediction with JMSD Similarity = \" + str(recall_avg_jmsd))\n",
        "print(f\"Recall Weighted Avg Prediction with Corr Similarity = \" + str(recall_wavg_corr))\n",
        "print(f\"Recall Weighted Avg Prediction with JMSD Similarity = \" + str(recall_wavg_jmsd))\n",
        "print(f\"Recall Dev from Mean Prediction with Corr Similarity = \" + str(recall_dfm_corr))\n",
        "print(f\"Recall Dev from Mean Prediction with JMSD Similarity = \" + str(recall_dfm_jmsd))"
      ]
    },
    {
      "cell_type": "markdown",
      "id": "24dba92b",
      "metadata": {
        "id": "24dba92b"
      },
      "source": [
        "F1"
      ]
    },
    {
      "cell_type": "code",
      "execution_count": 147,
      "id": "8c3b1a02",
      "metadata": {
        "id": "8c3b1a02"
      },
      "outputs": [],
      "source": [
        "def get_user_f1(u, predictions):\n",
        "    precision = get_user_precision(u, predictions)\n",
        "    recall = get_user_recall(u, predictions)\n",
        "\n",
        "    if precision is None or recall is None:\n",
        "        return None\n",
        "    elif precision == 0 and recall == 0:\n",
        "        return 0\n",
        "    else:\n",
        "        return 2 * precision * recall / (precision + recall)"
      ]
    },
    {
      "cell_type": "code",
      "execution_count": 148,
      "id": "7b297a4e",
      "metadata": {
        "id": "7b297a4e"
      },
      "outputs": [],
      "source": [
        "def get_f1(predictions):\n",
        "    f1 = 0\n",
        "    count = 0\n",
        "\n",
        "    for u in range(NUM_USERS):\n",
        "        if has_test_ratings(u):\n",
        "            user_f1 = get_user_f1(u, predictions)\n",
        "\n",
        "            if user_f1 is not None:\n",
        "                f1 += user_f1\n",
        "                count += 1\n",
        "\n",
        "    if count > 0:\n",
        "        return f1 / count\n",
        "    else:\n",
        "        return None"
      ]
    },
    {
      "cell_type": "code",
      "execution_count": 149,
      "id": "197fbb43",
      "metadata": {
        "colab": {
          "base_uri": "https://localhost:8080/"
        },
        "id": "197fbb43",
        "outputId": "1ae125db-8ab5-4198-9157-5d6dbbbda257"
      },
      "outputs": [
        {
          "output_type": "stream",
          "name": "stdout",
          "text": [
            "F1 Avg Prediction with Corr Similarity = 0.24416223386263353\n",
            "F1 Avg Prediction with JMSD Similarity = 0.24520824339893638\n",
            "F1 Weighted Avg Prediction with Corr Similarity = 0.2460613954864842\n",
            "F1 Weighted Avg Prediction with JMSD Similarity = 0.24472866824270453\n",
            "F1 Dev from Mean Prediction with Corr Similarity = 0.2450653731201427\n",
            "F1 Dev from Mean Prediction with JMSD Similarity = 0.2453404028500156\n"
          ]
        }
      ],
      "source": [
        "f1_avg_corr = get_f1(avg_predictions_corr)\n",
        "f1_avg_jmsd = get_f1(avg_predictions_jmsd)\n",
        "f1_wavg_corr = get_f1(wavg_predictions_corr)\n",
        "f1_wavg_jmsd = get_f1(wavg_predictions_jmsd)\n",
        "f1_dfm_corr = get_f1(dfm_predictions_corr)\n",
        "f1_dfm_jmsd = get_f1(dfm_predictions_jmsd)\n",
        "\n",
        "print(f\"F1 Avg Prediction with Corr Similarity = \" + str(f1_avg_corr))\n",
        "print(f\"F1 Avg Prediction with JMSD Similarity = \" + str(f1_avg_jmsd))\n",
        "print(f\"F1 Weighted Avg Prediction with Corr Similarity = \" + str(f1_wavg_corr))\n",
        "print(f\"F1 Weighted Avg Prediction with JMSD Similarity = \" + str(f1_wavg_jmsd))\n",
        "print(f\"F1 Dev from Mean Prediction with Corr Similarity = \" + str(f1_dfm_corr))\n",
        "print(f\"F1 Dev from Mean Prediction with JMSD Similarity = \" + str(f1_dfm_jmsd))"
      ]
    },
    {
      "cell_type": "markdown",
      "id": "cefdd335",
      "metadata": {
        "id": "cefdd335"
      },
      "source": [
        "nDCG"
      ]
    },
    {
      "cell_type": "code",
      "execution_count": 150,
      "id": "3000a0eb",
      "metadata": {
        "id": "3000a0eb"
      },
      "outputs": [],
      "source": [
        "def get_sorted_test_items(u):\n",
        "    test_items = test_matrix[u].nonzero()[1]\n",
        "    items = []\n",
        "\n",
        "    if len(test_items) == 0:\n",
        "        return items\n",
        "\n",
        "    for i in test_items:\n",
        "        items.append(i)\n",
        "\n",
        "    items.sort(key=lambda x: test_matrix[u, x], reverse=True)\n",
        "\n",
        "    return items"
      ]
    },
    {
      "cell_type": "code",
      "execution_count": 151,
      "id": "3c031845",
      "metadata": {
        "id": "3c031845"
      },
      "outputs": [],
      "source": [
        "def get_user_idcg(u):\n",
        "    items = get_sorted_test_items(u)\n",
        "    idcg = 0\n",
        "\n",
        "    for pos, i in enumerate(items):\n",
        "        if test_matrix[u, i] >= theta:\n",
        "            idcg += (2 ** test_matrix[u, i] - 1) / math.log2(pos + 2)\n",
        "\n",
        "    return idcg"
      ]
    },
    {
      "cell_type": "code",
      "execution_count": 152,
      "id": "956fac75",
      "metadata": {
        "id": "956fac75"
      },
      "outputs": [],
      "source": [
        "def get_user_dcg(u, recommendations):\n",
        "    dcg = 0\n",
        "\n",
        "    if recommendations is None:\n",
        "        return 0\n",
        "\n",
        "    if not isinstance(recommendations, list):\n",
        "        recommendations = [recommendations]\n",
        "\n",
        "    for pos, i in enumerate(recommendations):\n",
        "        if i is not None and test_matrix[u, i] != 0:\n",
        "            dcg += (2 ** test_matrix[u, i] - 1) / math.log2(pos + 2)\n",
        "\n",
        "    return dcg"
      ]
    },
    {
      "cell_type": "code",
      "execution_count": 153,
      "id": "197bac5a",
      "metadata": {
        "id": "197bac5a"
      },
      "outputs": [],
      "source": [
        "def get_user_ndcg(u, predictions):\n",
        "    recommendations = get_recommendations([predictions[u]])[0]\n",
        "\n",
        "    dcg = get_user_dcg(u, recommendations)\n",
        "    idcg = get_user_idcg(u)\n",
        "\n",
        "    if idcg == 0:\n",
        "        return None\n",
        "    else:\n",
        "        return dcg / idcg"
      ]
    },
    {
      "cell_type": "code",
      "execution_count": 154,
      "id": "22147971",
      "metadata": {
        "id": "22147971"
      },
      "outputs": [],
      "source": [
        "def get_ndcg(predictions):\n",
        "    ndcg = 0\n",
        "    count = 0\n",
        "\n",
        "    for u in range(NUM_USERS):\n",
        "        if has_test_ratings(u):\n",
        "            user_ndcg = get_user_ndcg(u, predictions)\n",
        "\n",
        "            if user_ndcg is not None:\n",
        "                ndcg += user_ndcg\n",
        "                count += 1\n",
        "\n",
        "    if count > 0:\n",
        "        return ndcg / count\n",
        "    else:\n",
        "        return None"
      ]
    },
    {
      "cell_type": "code",
      "execution_count": 155,
      "id": "8a9a9691",
      "metadata": {
        "colab": {
          "base_uri": "https://localhost:8080/"
        },
        "id": "8a9a9691",
        "outputId": "adfe17cb-2b53-4e35-b00c-bf4f348a9870"
      },
      "outputs": [
        {
          "output_type": "stream",
          "name": "stdout",
          "text": [
            "nDCG Avg Prediction with Corr Similarity = 0.26908334391304933\n",
            "nDCG Avg Prediction with JMSD Similarity = 0.2692377818839883\n",
            "nDCG Weighted Avg Prediction with Corr Similarity = 0.2698495886034852\n",
            "nDCG Weighted Avg Prediction with JMSD Similarity = 0.26909344337642344\n",
            "nDCG Dev from Mean Prediction with Corr Similarity = 0.2675613909560734\n",
            "nDCG Dev from Mean Prediction with JMSD Similarity = 0.26945522485491585\n"
          ]
        }
      ],
      "source": [
        "ndcg_avg_corr = get_ndcg(avg_predictions_corr)\n",
        "ndcg_avg_jmsd = get_ndcg(avg_predictions_jmsd)\n",
        "ndcg_wavg_corr = get_ndcg(wavg_predictions_corr)\n",
        "ndcg_wavg_jmsd = get_ndcg(wavg_predictions_jmsd)\n",
        "ndcg_dfm_corr = get_ndcg(dfm_predictions_corr)\n",
        "ndcg_dfm_jmsd = get_ndcg(dfm_predictions_jmsd)\n",
        "\n",
        "print(f\"nDCG Avg Prediction with Corr Similarity = \" + str(ndcg_avg_corr))\n",
        "print(f\"nDCG Avg Prediction with JMSD Similarity = \" + str(ndcg_avg_jmsd))\n",
        "print(f\"nDCG Weighted Avg Prediction with Corr Similarity = \" + str(ndcg_wavg_corr))\n",
        "print(f\"nDCG Weighted Avg Prediction with JMSD Similarity = \" + str(ndcg_wavg_jmsd))\n",
        "print(f\"nDCG Dev from Mean Prediction with Corr Similarity = \" + str(ndcg_dfm_corr))\n",
        "print(f\"nDCG Dev from Mean Prediction with JMSD Similarity = \" + str(ndcg_dfm_jmsd))"
      ]
    }
  ],
  "metadata": {
    "kernelspec": {
      "display_name": "Python 3",
      "name": "python3"
    },
    "language_info": {
      "codemirror_mode": {
        "name": "ipython",
        "version": 3
      },
      "file_extension": ".py",
      "mimetype": "text/x-python",
      "name": "python",
      "nbconvert_exporter": "python",
      "pygments_lexer": "ipython3",
      "version": "3.12.10"
    },
    "colab": {
      "provenance": [],
      "gpuType": "T4"
    },
    "accelerator": "GPU"
  },
  "nbformat": 4,
  "nbformat_minor": 5
}